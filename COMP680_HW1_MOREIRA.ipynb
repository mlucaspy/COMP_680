{
 "cells": [
  {
   "cell_type": "markdown",
   "metadata": {},
   "source": [
    "<img style=\"float: left;\" src=\"attachment:D2Klogo.png\" width=\"20%\"> \n",
    "\n",
    "<center>\n",
    "\n",
    "# Welcome to COMP 680 #\n",
    "### Statistics for Computing and Data Science ###\n",
    "\n",
    "### Homework 1 ###"
   ]
  },
  {
   "cell_type": "markdown",
   "metadata": {},
   "source": [
    "Here's your real homework starts:P. Please write your code with appropriate comments and informative names. Feel free to insert more cells as you see necessary. "
   ]
  },
  {
   "cell_type": "markdown",
   "metadata": {},
   "source": [
    "**Question 1**:\n",
    "Create four Python variables with different data types."
   ]
  },
  {
   "cell_type": "code",
   "execution_count": 18,
   "metadata": {},
   "outputs": [
    {
     "name": "stdout",
     "output_type": "stream",
     "text": [
      "<class 'int'>\n",
      "<class 'float'>\n",
      "<class 'bool'>\n",
      "<class 'str'>\n"
     ]
    }
   ],
   "source": [
    "# (1) \n",
    "x_1 = 45\n",
    "x_2 = 45.6\n",
    "x_3 = True\n",
    "x_4 = \"hello\"\n",
    "\n",
    "print(type(x_1))\n",
    "print(type(x_2))\n",
    "print(type(x_3))\n",
    "print(type(x_4))"
   ]
  },
  {
   "cell_type": "markdown",
   "metadata": {},
   "source": [
    "***\n",
    "**Question 2**:\n",
    "Create a Python list containing 5 numeric values."
   ]
  },
  {
   "cell_type": "code",
   "execution_count": 23,
   "metadata": {},
   "outputs": [
    {
     "name": "stdout",
     "output_type": "stream",
     "text": [
      "<class 'list'>\n",
      "[1, 2, 3, 4, 5]\n"
     ]
    }
   ],
   "source": [
    "my_list_num = [1, 2, 3, 4, 5]\n",
    "print(type(my_list_num))\n",
    "print(my_list_num)"
   ]
  },
  {
   "cell_type": "markdown",
   "metadata": {},
   "source": [
    "***\n",
    "**Question 3**:\n",
    "Perform an arithmetic operation on a subset of elements in the list you just created."
   ]
  },
  {
   "cell_type": "code",
   "execution_count": 26,
   "metadata": {},
   "outputs": [
    {
     "name": "stdout",
     "output_type": "stream",
     "text": [
      "[6, 7, 8, 8, 9]\n"
     ]
    }
   ],
   "source": [
    "# your code here\n",
    "my_list_num[:3] = [6, 7, 8]\n",
    "my_list_num[3] = my_list_num[3] + 1\n",
    "my_list_num[4] = my_list_num[4] + 1\n",
    "print(my_list_num)"
   ]
  },
  {
   "cell_type": "markdown",
   "metadata": {},
   "source": [
    "***\n",
    "**Question 4**:\n",
    "Create a Python list containing 3 string values."
   ]
  },
  {
   "cell_type": "code",
   "execution_count": 27,
   "metadata": {},
   "outputs": [
    {
     "name": "stdout",
     "output_type": "stream",
     "text": [
      "['hello', ' ', 'world']\n",
      "<class 'list'>\n"
     ]
    }
   ],
   "source": [
    "my_list_str = [\"hello\", \" \", \"world\"]\n",
    "print(my_list_str)\n",
    "print(type(my_list_str))"
   ]
  },
  {
   "cell_type": "markdown",
   "metadata": {},
   "source": [
    "***\n",
    "**Question 5**:\n",
    "Append 2 more strings to the end of this Python list you just created."
   ]
  },
  {
   "cell_type": "code",
   "execution_count": 28,
   "metadata": {},
   "outputs": [
    {
     "name": "stdout",
     "output_type": "stream",
     "text": [
      "['hello', ' ', 'world', ' ', '!']\n"
     ]
    }
   ],
   "source": [
    "# appending to the originarl list\n",
    "my_list_str.append(\" \")\n",
    "my_list_str.append(\"!\")\n",
    "print(my_list_str)"
   ]
  },
  {
   "cell_type": "markdown",
   "metadata": {},
   "source": [
    "***\n",
    "**Question 6**:\n",
    "Combine your two Python lists into a single list."
   ]
  },
  {
   "cell_type": "code",
   "execution_count": 29,
   "metadata": {},
   "outputs": [
    {
     "name": "stdout",
     "output_type": "stream",
     "text": [
      "[6, 7, 8, 8, 9, 'hello', ' ', 'world', ' ', '!']\n"
     ]
    }
   ],
   "source": [
    "my_list = my_list_num.copy()\n",
    "my_list.extend(my_list_str)\n",
    "print(my_list)"
   ]
  },
  {
   "cell_type": "markdown",
   "metadata": {},
   "source": [
    "***\n",
    "**Question 7**:\n",
    "Use any five Python functions to do some manipulations on your variables or lists. Check [here](https://docs.python.org/3/library/functions.html) for some build-in functions in [the Python Standard Library](https://docs.python.org/3/library/index.html). "
   ]
  },
  {
   "cell_type": "code",
   "execution_count": 30,
   "metadata": {},
   "outputs": [
    {
     "name": "stdout",
     "output_type": "stream",
     "text": [
      "[6, 7, 8, 8, 9, 'hello', '-', 'world', '-', '!']\n",
      "['WORLD', 'HELLO', '9', '8', '8', '7', '6', '-', '-', '!']\n",
      "['WORLD', 'HELLO', '9', '8', '8', '7', '6']\n"
     ]
    }
   ],
   "source": [
    "# get the indexes of all the spaces\n",
    "space_index = [i for i, x in enumerate(my_list) if x == \" \"]\n",
    "\n",
    "# replace the spaces with dashes\n",
    "for i in space_index:\n",
    "    my_list[i] = \"-\"\n",
    "\n",
    "# print the list\n",
    "print(my_list)\n",
    "\n",
    "# identify the strings, get the index of the strings\n",
    "str_index = [i for i, x in enumerate(my_list) if type(x) == str]\n",
    "\n",
    "# uppercase all the strings\n",
    "for i in str_index:\n",
    "    my_list[i] = my_list[i].upper()\n",
    "\n",
    "# convert all the elements to string\n",
    "my_list = [str(i) for i in my_list]\n",
    "\n",
    "# sort the list\n",
    "my_list.sort(reverse=True)\n",
    "\n",
    "# print the list\n",
    "print(my_list)\n",
    "\n",
    "# slice using the slice() function\n",
    "my_list = my_list[slice(0, 7)]\n",
    "\n",
    "# print the list\n",
    "print(my_list)\n",
    "\n",
    "# list of the functions used in this cell, not methods\n",
    "# enumerate()\n",
    "# print()\n",
    "# type()\n",
    "# str()\n",
    "# slice()\n",
    "\n"
   ]
  },
  {
   "cell_type": "markdown",
   "metadata": {},
   "source": [
    "***\n",
    "**Question 8**:\n",
    "Use any five Python methods to do some manipulations on your variables or lists. Check [here](https://docs.python.org/3/tutorial/datastructures.html) for some methods you can apply to Python lists or [Numpy array methods](https://numpy.org/doc/stable/reference/generated/numpy.ndarray.html)."
   ]
  },
  {
   "cell_type": "code",
   "execution_count": 31,
   "metadata": {},
   "outputs": [
    {
     "name": "stdout",
     "output_type": "stream",
     "text": [
      "['W', 'O', 'R', 'L', 'D', 'H', 'E', 'L', 'L', 'O', '9', '8', '8', '7', '6']\n",
      "['6', '7', '8', '8', '9', 'O', 'L', 'L', 'E', 'H', 'D', 'L', 'R', 'O', 'W']\n",
      "[54. 55. 56. 56. 57. 79. 76. 76. 69. 72. 68. 76. 82. 79. 87.]\n",
      "[54 55 56 56 57 79 76 76 69 72 68 76 82 79 87]\n",
      "[54 55 56 56 57 68 69 72 76 76 76 79 79 82 87]\n",
      "['WORLD', 'HELLO', '9', '8', '8', '7', '6', '6', '7', '8', '8', '9', 'D', 'E', 'H', 'L', 'L', 'L', 'O', 'O', 'R', 'W']\n"
     ]
    }
   ],
   "source": [
    "import numpy as np\n",
    "\n",
    "# append each element to the list into a new list, if the element is a string, slice it to have all the characters in the string\n",
    "new_list = []\n",
    "for i in my_list:\n",
    "    if type(i) == str:\n",
    "        for j in i:\n",
    "            new_list.append(j)\n",
    "    else:\n",
    "        new_list.append(i)\n",
    "\n",
    "# print the new list\n",
    "print(new_list)\n",
    "\n",
    "# reverse the list\n",
    "new_list.reverse()\n",
    "\n",
    "# print the list\n",
    "print(new_list)\n",
    "\n",
    "# create an empty array to store the numbers, the size of the previous list is the size of the array\n",
    "new_list_num = np.zeros(len(new_list))\n",
    "# obtain the corresponding ascci code for each character in the list and store it in the array\n",
    "for i in range(len(new_list)):\n",
    "    new_list_num[i] = ord(new_list[i])\n",
    "\n",
    "# print the array\n",
    "print(new_list_num)\n",
    "\n",
    "# change the type of the array to integer\n",
    "new_list_num = new_list_num.astype(int)\n",
    "\n",
    "# print the array\n",
    "print(new_list_num)\n",
    "\n",
    "# sort the array\n",
    "new_list_num.sort()\n",
    "\n",
    "# print the array\n",
    "print(new_list_num)\n",
    "\n",
    "# obtain the corresponding character for each number in the array and store it in a new list\n",
    "new_list = []\n",
    "for i in new_list_num:\n",
    "    new_list.append(chr(i))\n",
    "\n",
    "# extend the list with the new list\n",
    "my_list.extend(new_list)\n",
    "\n",
    "# print the list\n",
    "print(my_list)\n",
    "\n",
    "# methods used in this cell\n",
    "# append()\n",
    "# zeros()\n",
    "# astype()\n",
    "# sort()\n",
    "# extend()\n",
    "\n"
   ]
  },
  {
   "cell_type": "markdown",
   "metadata": {},
   "source": [
    "***\n",
    "**Question 9**:\n",
    "Create a two-dimensional NumPy array."
   ]
  },
  {
   "cell_type": "code",
   "execution_count": 32,
   "metadata": {},
   "outputs": [
    {
     "name": "stdout",
     "output_type": "stream",
     "text": [
      "[[1. 0. 0.]\n",
      " [0. 1. 0.]\n",
      " [0. 0. 1.]]\n"
     ]
    }
   ],
   "source": [
    "my_2d_array = np.eye(3, 3)\n",
    "print(my_2d_array)"
   ]
  },
  {
   "cell_type": "markdown",
   "metadata": {},
   "source": [
    "***\n",
    "**Question 10**:\n",
    "Print a subset of the rows and columns of the two-dimensional Numpy array you just created."
   ]
  },
  {
   "cell_type": "code",
   "execution_count": 33,
   "metadata": {},
   "outputs": [
    {
     "name": "stdout",
     "output_type": "stream",
     "text": [
      "[[0. 1. 0.]\n",
      " [0. 0. 1.]]\n",
      "[[0. 0.]\n",
      " [1. 0.]\n",
      " [0. 1.]]\n"
     ]
    }
   ],
   "source": [
    "# Print a subset of the rows\n",
    "print(my_2d_array[1:, :])\n",
    "\n",
    "# Print a subset of the columns\n",
    "print(my_2d_array[:, 1:])"
   ]
  },
  {
   "cell_type": "markdown",
   "metadata": {},
   "source": [
    "***\n",
    "**Question 11**: Suppose that a fair coin is tossed repeatedly until both a head and tail have appeared at least once. \n",
    "\n",
    "1. Describe the sample space $\\Omega$. Is it finite, countable infinite, or uncountable infinite?\n",
    "1. Define a random variable $X$ to be the number of total tosses needed. Is $X$ a discrete or continuous random variable?\n",
    "1. Derive the Probability Mass Function for $X$."
   ]
  },
  {
   "cell_type": "markdown",
   "metadata": {},
   "source": [
    "**Solution**:"
   ]
  },
  {
   "cell_type": "markdown",
   "metadata": {},
   "source": [
    "1) The sample space can be constructed as follows:\n",
    "$\n",
    "\\Omega = \\{HT, HHT, HHHT, HHHHT, \\ldots, TH, TTH, TTTH, TTTTH, \\ldots\\}\n",
    "$\n",
    "\n",
    "Here, we have two sequences: one starting with H and followed by a series of Hs until a T appears, and another starting with T and followed by a series of Ts until an H appears.\n",
    "\n",
    "The sample space is countably infinite because we can have an infinite number of tosses before getting both a head and a tail, but we can count all possible outcomes in a sequence (as shown above).\n",
    "\n",
    "2) $X$ is a discrete random variable because it can take on a finite or countably infinite number of distinct values (in this case, the number of tosses, which are whole numbers).\n",
    "\n",
    "3) To find the Probability Mass Function (PMF) of $X$, we need to find the probability that $X$ takes on each of its possible values. Let's denote $P(X=k)$ as the probability that exactly \\(k\\) tosses are needed.\n",
    "\n",
    "The PMF can be derived as follows:\n",
    "\n",
    "$\n",
    "P(X=2) = P(\\text{HT or TH}) = \\frac{1}{2} \\cdot \\frac{1}{2} + \\frac{1}{2} \\cdot \\frac{1}{2} = \\frac{1}{2}\n",
    "$\n",
    "\n",
    "$\n",
    "P(X=k) = \\left( \\frac{1}{2} \\right)^{k} + \\left( \\frac{1}{2} \\right)^{k} = \\left( \\frac{1}{2} \\right)^{k-1}, \\quad k > 2\n",
    "$\n",
    "\n",
    "So, the PMF of $X$ is given by:\n",
    "\n",
    "$\n",
    "P(X=k) = \n",
    "\\begin{cases} \n",
    "  0 & \\text{if } k < 2 \\\\\n",
    "  \\left( \\frac{1}{2} \\right)^{k-1} & \\text{if } k \\geq 2 \n",
    "\\end{cases}\n",
    "$"
   ]
  },
  {
   "cell_type": "markdown",
   "metadata": {},
   "source": [
    "***\n",
    "**Question 12**: Consider rolling a die once. Let $A = \\{1, 2\\}$, $B = \\{2, 4, 6\\}$, and $C = \\{1, 4\\}$. Show that $A$ and $B$ are independent, but not independent conditioned on $C$.\n",
    "\n",
    "**Note**: Event $A = \\{1, 2\\}$ means the outcome is 1 or 2."
   ]
  },
  {
   "cell_type": "markdown",
   "metadata": {},
   "source": [
    "**Solution**:"
   ]
  },
  {
   "cell_type": "markdown",
   "metadata": {},
   "source": [
    "Considering we have a fair dice:\n",
    "\n",
    "To prove that $A \\perp B$ this has to be true $P(A|B) = P(A)$ and $P(B|A) = P(B)$\n",
    "\n",
    "$P(A|B) = \\frac{P(A\\cap B}{P(B)} = \\frac{P(X=2)}{P(X=\\{2,4,6\\})} = \\frac{1/ 6}{1/ 2} = \\frac{1}{3} = P(A)$ \n",
    "\n",
    "$P(B|A) = \\frac{P(A\\cap B}{P(A)} = \\frac{P(X=2)}{P(X=\\{1,2\\})} = \\frac{1/ 6}{1/ 3} = \\frac{1}{2} = P(B)$ \n",
    "\n",
    "About the Conditioned on C\n",
    "\n",
    "To verify if $A$ and $B$ are independet conditioned on $C$, this identity has to hold:\n",
    "\n",
    "$P(A\\cap B | C) = P(A|C) P(B|C) $\n",
    "\n",
    "$P(A\\cap B | C) = \\frac {P(A \\cap B \\cap C)}{P(C)} = P(\\empty) = 0$\n",
    "\n",
    "$P(A|C) = \\frac {P(A \\cap C)}{P(C)} = not zero$\n",
    "\n",
    "$P(B|C) = \\frac{P(B \\cap C)}{P(C)}= not zero$\n",
    "\n",
    "The indentity does not hold, so they are not idependent conditioned on $C$"
   ]
  },
  {
   "cell_type": "markdown",
   "metadata": {},
   "source": [
    "***\n",
    "**Question 13**:\n",
    "For the Monty Hall problem, prove that by switching, your probablity of winning the car increases from $\\frac{1}{3}$ to $\\frac{2}{3}$. Hint: use Bayes Theorem!"
   ]
  },
  {
   "cell_type": "markdown",
   "metadata": {},
   "source": [
    "**Solution**:"
   ]
  },
  {
   "cell_type": "markdown",
   "metadata": {},
   "source": [
    "1. To find $ P(A|B) $, where $ A $ is the event that the car is behind the door you initially chose and $ B $ is the event that Monty opens a door revealing a goat:\n",
    "\n",
    "    Using the law of total probability:\n",
    "    \n",
    "    $\n",
    "    P(B) = P(B|A)P(A) + P(B|A')P(A') = \\left( 1\\cdot \\frac{1}{3} \\right) + \\left( 1 \\cdot \\frac{2}{3} \\right) = 1\n",
    "    $\n",
    "\n",
    "    We use Bayes' theorem:\n",
    "\n",
    "    $\n",
    "    P(A|B) = \\frac{P(B|A)P(A)}{P(B)} = \\frac{1 \\cdot \\frac{1}{3}}{1} = \\frac{1}{3}\n",
    "    $\n",
    "\n",
    "2. To find $ P(A'|B) $, where $ A' $ is the event that the car is not behind the door you initially chose, we use Bayes' theorem:\n",
    "\n",
    "    $\n",
    "    P(A'|B) = \\frac{P(B|A')P(A')}{P(B)} = \\frac{1 \\cdot \\frac{2}{3}}{1} = \\frac{2}{3}\n",
    "    $\n",
    "\n",
    "    So, the probability of winning by sticking with your initial choice is $ \\frac{1}{3} $, and the probability of winning by switching is $ \\frac{2}{3} $. It is better to switch."
   ]
  },
  {
   "cell_type": "markdown",
   "metadata": {},
   "source": [
    "***\n",
    "**Question 14**:\n",
    "For the Monty Hall problem, if Monty randomly choose a door to open, and it happens to be a goat. Prove that in this case, switching does not increase your probablity of wining the car! This is known as \"The Random Monty Hall Problem\"."
   ]
  },
  {
   "cell_type": "markdown",
   "metadata": {},
   "source": [
    "**Solution**:"
   ]
  },
  {
   "cell_type": "markdown",
   "metadata": {},
   "source": [
    "To find $ P(A|C) $, where $ A $ is the event that the car is behind the door you initially chose and $ C $ is the event that Monty opens a radom door revealing a goat:\n",
    "\n",
    "$A$ and $C$ are independet events, because both of them choose randomly a door, so:\n",
    "\n",
    "$$\n",
    "P(C) = 2/3 = P(C|A)P(A) + P(C|A')P(A') = P(C)P(A) + P(C)P(A') = P(C)(P(A)+P(A'))\n",
    "$$\n",
    "\n",
    "$$\n",
    "P(P(A)+P(A')) = 1\n",
    "$$\n",
    "\n",
    "$A'$ is the event of having a car in the door you didn't choose. But as we have to remaining doors and we can switch to only one, the probability is divided by two for each door.\n",
    "\n",
    "So initially, the probability of $A$ and the probability to switch to any other door is $1/3$\n",
    "\n"
   ]
  },
  {
   "cell_type": "markdown",
   "metadata": {},
   "source": [
    "***\n",
    "**Question 15**:\n",
    "Let $X$ have probability density function:\n",
    "$$ f_X(x) = \\begin{cases} \\frac{1}{4} \\quad &0 < x < 1 \\\\\n",
    "\\frac{3}{8} \\quad &3 < x < 5 \\\\\n",
    "0 \\quad &\\text{otherwise} \\\\\n",
    "\\end{cases}\n",
    "$$\n",
    "Find the cdf of $X$."
   ]
  },
  {
   "cell_type": "markdown",
   "metadata": {},
   "source": [
    "**Solution**:"
   ]
  },
  {
   "cell_type": "markdown",
   "metadata": {},
   "source": [
    "To find the cumulative distribution function (CDF) of the random variable $X$ with the given probability density function (PDF), we need to integrate the PDF over its support. The CDF $F_X(x)$ is defined as:\n",
    "\n",
    "$$\n",
    "F_X(x) = \\int_{-\\infty}^{x} f_X(t) dt\n",
    "$$\n",
    "\n",
    "However, in this case, the PDF is defined as zero outside of the specified intervals $ (0 < x < 1 ; 3 < x < 5)$. So, we only need to consider these intervals in the integration.\n",
    "\n",
    "For 0 < x < 1:\n",
    "$$\n",
    "F_X(x) = \\int_{0}^{x} \\frac{1}{4} dt + C_0 = \\frac{1}{4} \\cdot t \\Big|_{0}^{x} + C_0 = \\frac{1}{4}x + C_0 = \\frac{1}{4}x\n",
    "$$\n",
    "\n",
    "For 3 < x < 5:\n",
    "$$\n",
    "F_X(x) = \\int_{3}^{x} \\frac{3}{8} dt + C_1 = \\frac{3}{8} \\cdot t \\Big|_{3}^{x} + C_1 = \\frac{3}{8}(x - 3) + C_1 = \\frac{3}{8}(x - 3) + \\frac{1}{4}\n",
    "$$\n",
    "\n",
    "For all other values of $x$, the CDF is zero.\n",
    "\n",
    "So, the cumulative distribution function $F_X(x)$ for the given random variable $X$ is as follows:\n",
    "\n",
    "$$\n",
    "F_X(x) = \\begin{cases} \n",
    "0 \\quad &\\text{for } x \\leq 0 \\\\\n",
    "\\frac{1}{4}x \\quad &\\text{for } 0 < x < 1 \\\\\n",
    "\\frac{1}{4} \\quad &\\text{for } 1 \\leq x < 3 \\\\\n",
    "\\frac{3}{8}(x - 3) + \\frac{1}{4} \\quad &\\text{for } 3 \\leq x < 5 \\\\\n",
    "1 \\quad &\\text{for } x \\geq 5 \\\\\n",
    "\\end{cases}\n",
    "$$\n",
    "\n",
    "This is the CDF of the random variable $X$ as defined by the given PDF."
   ]
  },
  {
   "cell_type": "markdown",
   "metadata": {},
   "source": [
    "***\n",
    "**Question 16**:\n",
    "Let $X$ have probability density function in previous question. Let $Y = 1/X$. Find the probability density function $f_Y(y)$ for $Y$.\n",
    "\n",
    "(Hint: consider 3 cases: $\\frac{1}{5} \\leq y \\leq \\frac{1}{3}$, $\\frac{1}{3} \\leq y \\leq 1$ and $y \\geq 1$.)"
   ]
  },
  {
   "cell_type": "markdown",
   "metadata": {},
   "source": [
    "**Solution**:"
   ]
  },
  {
   "cell_type": "markdown",
   "metadata": {},
   "source": [
    "The random variable $X$ is described by a probability density function (pdf) $f_X(x)$ that satisfies:\n",
    "\n",
    "$$\n",
    "\\int_{-\\infty}^{\\infty} f_X(x) \\, dx = 1\n",
    "$$\n",
    "\n",
    "If we transform $X$ into a new variable $Y = g(X)$, we're interested in finding the new pdf $f_Y(y)$ such that:\n",
    "\n",
    "$$\n",
    "\\int_{-\\infty}^{\\infty} f_Y(y) \\, dy = 1\n",
    "$$\n",
    "\n",
    "We have to ensure that probabilities are conserved under the transformation $g$. This means that for any given set $A$,\n",
    "\n",
    "$$\n",
    "P(Y \\in A) = P(X \\in g^{-1}(A))\n",
    "$$\n",
    "\n",
    "To derive this, consider the cumulative distribution function (CDF) $F_Y(y)$ of $Y$, defined as:\n",
    "\n",
    "$$\n",
    "F_Y(y) = P(Y \\leq y)\n",
    "$$\n",
    "\n",
    "By the chain rule of calculus,\n",
    "\n",
    "$$\n",
    "F_Y(y) = P(Y \\leq y) = P(g(X) \\leq y) = P(X \\leq g^{-1}(y)) = F_X(g^{-1}(y))\n",
    "$$\n",
    "\n",
    "Differentiating both sides with respect to $y$, we get:\n",
    "\n",
    "$$\n",
    "f_Y(y) = f_X(g^{-1}(y)) \\left| \\frac{dy}{d g^{-1}(y)} \\right|\n",
    "$$\n",
    "\n",
    "The change of variables formula for finding $f_Y(y)$ is:\n",
    "\n",
    "$$\n",
    "f_Y(y) = f_X(x) \\left| \\frac{dY}{dX} \\right|\n",
    "$$\n",
    "\n",
    "The absolute value in the change of variables formula, $f_Y(y) = f_X(x) \\left| \\frac{dY}{dX} \\right|$, is necessary to ensure that the probability density function $f_Y(y)$ is a valid PDF. Specifically, it guarantees that the function is non-negative over its entire domain.\n",
    "\n",
    "## Transformation of Random Variable\n",
    "\n",
    "We start by looking at the equation $Y = \\frac{1}{X}$. Solving for $X$, we get:\n",
    "\n",
    "$$\n",
    "X = \\frac{1}{Y} \\Rightarrow x = \\frac{1}{y}\n",
    "$$\n",
    "\n",
    "The derivative of $x$ with respect to $y$ is:\n",
    "\n",
    "$$\n",
    "\\frac{dy}{dx} = -\\frac{1}{y^2}\n",
    "$$\n",
    "\n",
    "## Case Analysis\n",
    "\n",
    "Now, let's analyze the PDF of $Y$ in the context of the three cases: $\\frac{1}{5} \\leq y \\leq \\frac{1}{3}$, $\\frac{1}{3} \\leq y \\leq 1$ and $y \\geq 1$.\n",
    "\n",
    "$$\n",
    "f_X(x) = \n",
    "\\begin{cases}\n",
    "    \\frac{1}{4} \\quad &0 < x < 1 \\\\\n",
    "    \\frac{3}{8} \\quad &3 < x < 5 \\\\\n",
    "    0 \\quad &\\text{otherwise} \\\\\n",
    "\\end{cases}\n",
    "$$\n",
    "\n",
    "\n",
    "### Case 1: $ \\frac{1}{5} \\leq y \\leq \\frac{1}{3} $\n",
    "\n",
    "- Corresponding $x$-interval: $ 3 \\leq x \\leq 5 $\n",
    "- $f_X(x) = \\frac{3}{8}$\n",
    "- $f_Y(y) = \\frac{3}{8y^2}$\n",
    "\n",
    "### Case 2: $ \\frac{1}{3} \\leq y \\leq 1 $\n",
    "\n",
    "- Corresponding $x$-interval: $ 1 \\leq x \\leq 3 $\n",
    "- $f_X(x) = 0$\n",
    "- $f_Y(y) = 0$\n",
    "\n",
    "### Case 3: $ y \\geq 1 $\n",
    "\n",
    "- Corresponding $x$-interval: $ 0 < x \\leq 1 $\n",
    "- $f_X(x) = \\frac{1}{4}$\n",
    "- $f_Y(y) = \\frac{1}{4y^2}$\n",
    "\n",
    "By analyzing these cases, we get a complete view of the PDF $f_Y(y)$ under the transformation $Y = \\frac{1}{X}$.\n",
    "\n",
    "$$\n",
    "f_Y(y) = \n",
    "f_Y(y) = \n",
    "\\begin{cases} \n",
    "\\frac{3}{8y^2}, & \\frac{1}{5} \\leq y < \\frac{1}{3} \\\\\n",
    "\\frac{1}{4y^2}, & y \\geq 1 \\\\\n",
    "0, & \\text{otherwise} \n",
    "\\end{cases}\n",
    "$$\n",
    "\n",
    "\n",
    "\n"
   ]
  },
  {
   "cell_type": "markdown",
   "metadata": {},
   "source": [
    "***\n",
    "**Question 17**:\n",
    "Let $X$ be a continous random variable with pdf $f_X(x)$ and cdf $F_X(x)$. Let $A$ be a subset of the real line. Let $I_A(x)$ be the indicator function for A:\n",
    "$$ I_A(x) = \\begin{cases} 1 \\quad x \\in A \\\\\n",
    "0 \\quad x \\not\\in A \n",
    "\\end{cases}$$\n",
    "Let $Y = I_A(x)$. Find an expression for the cdf of Y. \n",
    "\n",
    "(Hint: first find the probablity mass function for $Y$.)"
   ]
  },
  {
   "cell_type": "markdown",
   "metadata": {},
   "source": [
    "**Solution**:"
   ]
  },
  {
   "cell_type": "markdown",
   "metadata": {},
   "source": [
    "### Probability Mass Function of $Y$\n",
    "\n",
    "$Y$ is a discrete random variable that takes on two values: 1 if $x \\in A$ and 0 if $x \\not\\in A$. Therefore, its PMF $P_Y(y)$ can be defined as:\n",
    "\n",
    "$$\n",
    "P_Y(y) =\n",
    "\\begin{cases}\n",
    "P(X \\in A) & \\text{if } y = 1 \\\\\n",
    "P(X \\not\\in A) & \\text{if } y = 0 \\\\\n",
    "0 & \\text{otherwise}\n",
    "\\end{cases}\n",
    "$$\n",
    "\n",
    "Here, $P(X \\in A)$ is simply $\\int_{A} f_X(x) \\, dx$ and $P(X \\not\\in A) = 1 - P(X \\in A)$.\n",
    "\n",
    "### Cumulative Distribution Function of $Y$\n",
    "\n",
    "The CDF $F_Y(y)$ is defined as $F_Y(y) = P(Y \\leq y)$. Based on the PMF, we can find $F_Y(y)$ as follows:\n",
    "\n",
    "$$\n",
    "F_Y(y) =\n",
    "\\begin{cases}\n",
    "0 & \\text{if } y < 0 \\\\\n",
    "P(X \\not\\in A) & \\text{if } 0 \\leq y < 1 \\\\\n",
    "1 & \\text{if } y \\geq 1\n",
    "\\end{cases}\n",
    "$$\n",
    "\n",
    "Here, the value at $y = 0$ is $P(X \\not\\in A)$ and the value at $y = 1$ is $P(X \\not\\in A) + P(X \\in A) = 1$.\n"
   ]
  },
  {
   "cell_type": "markdown",
   "metadata": {},
   "source": [
    "***\n",
    "**Question 18**: Let $X$ and $Y$ have the joind pdf:\n",
    "$$ f_{X, Y}(x, y) = \\begin{cases} c( x + y^2) \\quad &0 \\leq x \\leq 1 \\text{ and } 0 \\leq y \\leq 1 \\\\\n",
    "0 \\quad &\\text{otherwise} \\end{cases} $$\n",
    "Find the value of c."
   ]
  },
  {
   "cell_type": "markdown",
   "metadata": {},
   "source": [
    "**Solution**:"
   ]
  },
  {
   "cell_type": "markdown",
   "metadata": {},
   "source": [
    "To find the value of $c$, we need to ensure that the joint PDF integrates to 1 over its entire domain.\n",
    "\n",
    "First, let's integrate $f_{X, Y}(x, y)$ with respect to both $x$ and $y$ over the specified domain:\n",
    "\n",
    "$$\n",
    "\\int_0^1 \\int_0^1 c(x + y^2) \\, dx \\, dy\n",
    "$$\n",
    "\n",
    "We first integrate with respect to $x$:\n",
    "\n",
    "$$\n",
    "c \\int_0^1 \\left[ \\frac{x^2}{2} + xy^2 \\right]_0^1 \\, dy = c \\int_0^1 \\left( \\frac{1}{2} + y^2 \\right) \\, dy\n",
    "$$\n",
    "\n",
    "Now, we integrate this result with respect to $y$:\n",
    "\n",
    "$$\n",
    "c \\left[ \\frac{y}{2} + \\frac{y^3}{3} \\right]_0^1 = c \\left( \\frac{1}{2} + \\frac{1}{3} \\right) = c \\left( \\frac{5}{6} \\right)\n",
    "$$\n",
    "\n",
    "Since the total probability should equal 1:\n",
    "\n",
    "$$\n",
    "c \\left( \\frac{5}{6} \\right) = 1 \\Rightarrow c = \\frac{6}{5}\n",
    "$$\n"
   ]
  },
  {
   "cell_type": "markdown",
   "metadata": {},
   "source": [
    "***\n",
    "**Question 19**: Let  𝑋  and  𝑌  have the same joind pdf as previous problem. Find the marginal pdf of Y."
   ]
  },
  {
   "cell_type": "markdown",
   "metadata": {},
   "source": [
    "**Solution**:"
   ]
  },
  {
   "cell_type": "markdown",
   "metadata": {},
   "source": [
    "To find the marginal probability density function (PDF) of $Y$ from the given joint PDF $f_{X, Y}(x, y)$ with $c = \\frac{6}{5}$, we'll integrate the joint PDF with respect to $x$, effectively marginalizing out $X$. The marginal PDF of $Y$, denoted as $f_Y(y)$, can be found using the following formula:\n",
    "\n",
    "$$\n",
    "f_Y(y) = \\int_{-\\infty}^{\\infty} f_{X, Y}(x, y) \\, dx\n",
    "$$\n",
    "\n",
    "Given the joint PDF:\n",
    "\n",
    "$$\n",
    "f_{X, Y}(x, y) = \n",
    "\\begin{cases} \n",
    "\\frac{6}{5}(x + y^2) & 0 \\leq x \\leq 1, \\, 0 \\leq y \\leq 1 \\\\\n",
    "0 & \\text{otherwise}\n",
    "\\end{cases}\n",
    "$$\n",
    "\n",
    "Let's calculate the marginal PDF $f_Y(y)$:\n",
    "\n",
    "For $0 \\leq y \\leq 1$, we have:\n",
    "\n",
    "$$\n",
    "f_Y(y) = \\int_{0}^{1} \\frac{6}{5}(x + y^2) \\, dx = \\frac{6}{5} \\left[\\frac{x^2}{2} + y^2x\\right]_0^1 = \\frac{6}{5} \\left(\\frac{1}{2} + y^2\\right) - 0 = \\frac{3}{5} + \\frac{6y^2}{5}\n",
    "$$\n",
    "\n",
    "So, the marginal PDF of $Y$ is:\n",
    "\n",
    "$$\n",
    "f_Y(y) = \n",
    "\\begin{cases} \n",
    "\\frac{3}{5} + \\frac{6y^2}{5} & 0 \\leq y \\leq 1 \\\\\n",
    "0 & \\text{otherwise}\n",
    "\\end{cases}\n",
    "$$"
   ]
  },
  {
   "cell_type": "markdown",
   "metadata": {},
   "source": [
    "***\n",
    "**Question 20**: Let  𝑋  and  𝑌  have the same joind pdf as previous problem. Find $P(X < \\frac{1}{2} | Y = \\frac{1}{2})$"
   ]
  },
  {
   "cell_type": "markdown",
   "metadata": {},
   "source": [
    "**Solution**:"
   ]
  },
  {
   "cell_type": "markdown",
   "metadata": {},
   "source": [
    "In a continuous joint PDF, the conditional probability $P(X < \\frac{1}{2} | Y = \\frac{1}{2})$ refers to the probability that $X$ is less than $\\frac{1}{2}$ given that $Y$ is exactly $\\frac{1}{2}$. In other words, it's the probability of a specific event in a continuous distribution.\n",
    "\n",
    "In this case, the joint PDF is defined as:\n",
    "\n",
    "$$\n",
    "f_{X, Y}(x, y) = \n",
    "\\begin{cases} \n",
    "\\frac{6}{5}(x + y^2) & 0 \\leq x \\leq 1, \\, 0 \\leq y \\leq 1 \\\\\n",
    "0 & \\text{otherwise}\n",
    "\\end{cases}\n",
    "$$\n",
    "\n",
    "To find $P(X < \\frac{1}{2} | Y = \\frac{1}{2})$, we need to calculate the conditional probability at $Y = \\frac{1}{2}$:\n",
    "\n",
    "$$\n",
    "P(X < \\frac{1}{2} | Y = \\frac{1}{2}) = \\int_{-\\infty}^{\\frac{1}{2}} \\frac{f_{X, Y}(x, \\frac{1}{2})}{f_Y(\\frac{1}{2})} dx = \\int_{0}^{\\frac{1}{2}} \\frac{f_{X, Y}(x, \\frac{1}{2})}{f_Y(\\frac{1}{2})} dx\n",
    "$$\n",
    "\n",
    "Where $f_{X, Y}(x, \\frac{1}{2})$ is the joint PDF evaluated at $Y = \\frac{1}{2}$, and $f_Y(\\frac{1}{2})$ is the marginal PDF of $Y$ at $Y = \\frac{1}{2}$.\n",
    "\n",
    "Let's calculate this:\n",
    "\n",
    "$$\n",
    "f_{X, Y}(x, \\frac{1}{2}) = \\frac{6}{5} \\left(x + \\left(\\frac{1}{2}\\right)^2\\right) = \\frac{6}{5} \\left(x + \\frac{1}{4}\\right)\n",
    "$$\n",
    "\n",
    "Now, we need to find $f_Y(\\frac{1}{2})$, which is the marginal PDF of $Y$ at $Y = \\frac{1}{2}$, from the previous example we have:\n",
    "\n",
    "$$\n",
    "f_Y(y) = \n",
    "\\begin{cases} \n",
    "\\frac{3}{5} + \\frac{6y^2}{5} & 0 \\leq y \\leq 1 \\\\\n",
    "0 & \\text{otherwise}\n",
    "\\end{cases}\n",
    "$$\n",
    "\n",
    "Replacing:\n",
    "\n",
    "$$\n",
    "f_Y(\\frac{1}{2}) = \\frac{3}{5} + \\frac{6 (1/2)^2}{5} = \\frac{9}{10}\n",
    "$$\n",
    "\n",
    "The conditional probability:\n",
    "\n",
    "$$\n",
    "P(X < \\frac{1}{2} | Y = \\frac{1}{2}) = \\int_{0}^{\\frac{1}{2}} \\frac{3}{4} \\left(x + \\frac{1}{4}\\right) dx = \\frac{3}{4} \\left[\\frac{1}{2}x^2 + \\frac{1}{4}x\\right]_{0}^{\\frac{1}{2}} = \\frac{3}{16}\n",
    "$$\n"
   ]
  },
  {
   "cell_type": "markdown",
   "metadata": {},
   "source": [
    "You're done with HW 1!  Be sure to...\n",
    "\n",
    "* **Save and Checkpoint** from the File menu,\n",
    "* **Close and Halt** from the File menu,\n",
    "* **Rename your ipynb file**, replacing LASTNAME with your last name,\n",
    "* **Upload** your file to the course website."
   ]
  },
  {
   "cell_type": "markdown",
   "metadata": {},
   "source": []
  }
 ],
 "metadata": {
  "anaconda-cloud": {},
  "kernelspec": {
   "display_name": "Python 3.9.13 ('base')",
   "language": "python",
   "name": "python3"
  },
  "language_info": {
   "codemirror_mode": {
    "name": "ipython",
    "version": 3
   },
   "file_extension": ".py",
   "mimetype": "text/x-python",
   "name": "python",
   "nbconvert_exporter": "python",
   "pygments_lexer": "ipython3",
   "version": "3.11.5"
  },
  "vscode": {
   "interpreter": {
    "hash": "26239de7a6c49d60642854d0f7ed0a8018ce2dbee1693cab7ee617063422c3f7"
   }
  }
 },
 "nbformat": 4,
 "nbformat_minor": 1
}
