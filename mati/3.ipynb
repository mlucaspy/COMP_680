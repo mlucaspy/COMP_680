{
 "cells": [
  {
   "cell_type": "markdown",
   "metadata": {},
   "source": [
    "<img style=\"float: left;\" src=\"attachment:D2Klogo.png\" width=\"20%\"> \n",
    "\n",
    "<center>\n",
    "\n",
    "# Welcome to COMP 680 #\n",
    "### Statistics for Computing and Data Science ###\n",
    "\n",
    "### Homework 3 Due 10/10 by Midnight ###"
   ]
  },
  {
   "cell_type": "code",
   "execution_count": 2,
   "metadata": {},
   "outputs": [],
   "source": [
    "### standard imports\n",
    "import numpy as np\n",
    "import pandas as pd\n",
    "\n",
    "\n",
    "import matplotlib.pyplot as plt\n",
    "%matplotlib inline  \n",
    "plt.style.use('fivethirtyeight')\n",
    "plt.rcParams[\"patch.force_edgecolor\"] = True\n",
    "import seaborn as sns\n",
    "\n",
    "import random"
   ]
  },
  {
   "cell_type": "markdown",
   "metadata": {},
   "source": [
    "## Visualizing Data in Python\n",
    "\n",
    "When working with a new dataset, one of the most useful things to do is to begin to visualize the data. By using tables, histograms, box plots, and other visual tools, we can get a better idea of what the data may be trying to tell us, and we can gain insights into the data that we may have not discovered otherwise.\n",
    "\n",
    "The easiest way to generate simple visualizations is to use plotting function `df.plot` in Pandas (based on matplotlib):\n",
    "* [`df.plot`](https://pandas.pydata.org/pandas-docs/stable/reference/api/pandas.DataFrame.plot.html?highlight=dataframe%20plot#pandas.DataFrame.plot)\n",
    "You need to specify and the `kind` of plot (the default is a line plot) and the columns for `x` and `y` axis (the default is different for different kind of plots). "
   ]
  },
  {
   "cell_type": "code",
   "execution_count": 3,
   "metadata": {},
   "outputs": [],
   "source": [
    "# Load in the data set\n",
    "tips = sns.load_dataset(\"tips\")"
   ]
  },
  {
   "cell_type": "markdown",
   "metadata": {},
   "source": [
    "### Always take a look at the data!\n",
    "When you begin working with a new data set,  it is often best to print out the first few rows before you begin other analysis. This will show you what kind of data is in the dataset, what data types you are working with, and will serve as a reference for the other plots that we are about to make. "
   ]
  },
  {
   "cell_type": "code",
   "execution_count": 4,
   "metadata": {},
   "outputs": [
    {
     "data": {
      "text/html": [
       "<div>\n",
       "<style scoped>\n",
       "    .dataframe tbody tr th:only-of-type {\n",
       "        vertical-align: middle;\n",
       "    }\n",
       "\n",
       "    .dataframe tbody tr th {\n",
       "        vertical-align: top;\n",
       "    }\n",
       "\n",
       "    .dataframe thead th {\n",
       "        text-align: right;\n",
       "    }\n",
       "</style>\n",
       "<table border=\"1\" class=\"dataframe\">\n",
       "  <thead>\n",
       "    <tr style=\"text-align: right;\">\n",
       "      <th></th>\n",
       "      <th>total_bill</th>\n",
       "      <th>tip</th>\n",
       "      <th>sex</th>\n",
       "      <th>smoker</th>\n",
       "      <th>day</th>\n",
       "      <th>time</th>\n",
       "      <th>size</th>\n",
       "    </tr>\n",
       "  </thead>\n",
       "  <tbody>\n",
       "    <tr>\n",
       "      <th>0</th>\n",
       "      <td>16.99</td>\n",
       "      <td>1.01</td>\n",
       "      <td>Female</td>\n",
       "      <td>No</td>\n",
       "      <td>Sun</td>\n",
       "      <td>Dinner</td>\n",
       "      <td>2</td>\n",
       "    </tr>\n",
       "    <tr>\n",
       "      <th>1</th>\n",
       "      <td>10.34</td>\n",
       "      <td>1.66</td>\n",
       "      <td>Male</td>\n",
       "      <td>No</td>\n",
       "      <td>Sun</td>\n",
       "      <td>Dinner</td>\n",
       "      <td>3</td>\n",
       "    </tr>\n",
       "    <tr>\n",
       "      <th>2</th>\n",
       "      <td>21.01</td>\n",
       "      <td>3.50</td>\n",
       "      <td>Male</td>\n",
       "      <td>No</td>\n",
       "      <td>Sun</td>\n",
       "      <td>Dinner</td>\n",
       "      <td>3</td>\n",
       "    </tr>\n",
       "    <tr>\n",
       "      <th>3</th>\n",
       "      <td>23.68</td>\n",
       "      <td>3.31</td>\n",
       "      <td>Male</td>\n",
       "      <td>No</td>\n",
       "      <td>Sun</td>\n",
       "      <td>Dinner</td>\n",
       "      <td>2</td>\n",
       "    </tr>\n",
       "    <tr>\n",
       "      <th>4</th>\n",
       "      <td>24.59</td>\n",
       "      <td>3.61</td>\n",
       "      <td>Female</td>\n",
       "      <td>No</td>\n",
       "      <td>Sun</td>\n",
       "      <td>Dinner</td>\n",
       "      <td>4</td>\n",
       "    </tr>\n",
       "  </tbody>\n",
       "</table>\n",
       "</div>"
      ],
      "text/plain": [
       "   total_bill   tip     sex smoker  day    time  size\n",
       "0       16.99  1.01  Female     No  Sun  Dinner     2\n",
       "1       10.34  1.66    Male     No  Sun  Dinner     3\n",
       "2       21.01  3.50    Male     No  Sun  Dinner     3\n",
       "3       23.68  3.31    Male     No  Sun  Dinner     2\n",
       "4       24.59  3.61  Female     No  Sun  Dinner     4"
      ]
     },
     "execution_count": 4,
     "metadata": {},
     "output_type": "execute_result"
    }
   ],
   "source": [
    "# Print out the first few rows of the data\n",
    "tips.head()"
   ]
  },
  {
   "cell_type": "markdown",
   "metadata": {},
   "source": [
    "### Some simple plots"
   ]
  },
  {
   "cell_type": "code",
   "execution_count": 5,
   "metadata": {
    "scrolled": true
   },
   "outputs": [
    {
     "data": {
      "image/png": "[encoded data removed]",
      "text/plain": [
       "<Figure size 432x288 with 1 Axes>"
      ]
     },
     "metadata": {},
     "output_type": "display_data"
    }
   ],
   "source": [
    "# histogram of one column\n",
    "# there is only one column for the df so no need to specify x and y axis\n",
    "tips[['total_bill']].plot(kind='hist', bins=40);"
   ]
  },
  {
   "cell_type": "code",
   "execution_count": 6,
   "metadata": {},
   "outputs": [
    {
     "data": {
      "image/png": "[encoded data removed]",
      "text/plain": [
       "<Figure size 432x288 with 1 Axes>"
      ]
     },
     "metadata": {},
     "output_type": "display_data"
    }
   ],
   "source": [
    "# histogram of two columns\n",
    "# by default it will plot both columns in the df\n",
    "tips[['total_bill', 'tip']].plot(kind='hist', bins=40);"
   ]
  },
  {
   "cell_type": "code",
   "execution_count": 7,
   "metadata": {
    "scrolled": true
   },
   "outputs": [
    {
     "data": {
      "image/png": "[encoded data removed]",
      "text/plain": [
       "<Figure size 432x288 with 1 Axes>"
      ]
     },
     "metadata": {},
     "output_type": "display_data"
    }
   ],
   "source": [
    "# scatter plot: need to define columns for x and y\n",
    "tips.plot(x='total_bill', y='tip', kind='scatter');"
   ]
  },
  {
   "cell_type": "code",
   "execution_count": 8,
   "metadata": {
    "scrolled": false
   },
   "outputs": [
    {
     "data": {
      "image/png": "[encoded data removed]",
      "text/plain": [
       "<Figure size 432x288 with 1 Axes>"
      ]
     },
     "metadata": {},
     "output_type": "display_data"
    }
   ],
   "source": [
    "# line plot is the default kind (this is a bad plot)\n",
    "# use row index as default choice for x axis\n",
    "tips[['tip']].plot();"
   ]
  },
  {
   "cell_type": "code",
   "execution_count": 9,
   "metadata": {
    "scrolled": true
   },
   "outputs": [
    {
     "data": {
      "image/png": "[encoded data removed]",
      "text/plain": [
       "<Figure size 432x288 with 1 Axes>"
      ]
     },
     "metadata": {},
     "output_type": "display_data"
    }
   ],
   "source": [
    "# what happens if use all default? (this is a bad plot)\n",
    "# a line plot with row index for x axis, \n",
    "# and plot all other numerical columns in the df\n",
    "tips.plot();"
   ]
  },
  {
   "cell_type": "code",
   "execution_count": 10,
   "metadata": {},
   "outputs": [
    {
     "data": {
      "image/png": "[encoded data removed]",
      "text/plain": [
       "<Figure size 432x288 with 1 Axes>"
      ]
     },
     "metadata": {},
     "output_type": "display_data"
    }
   ],
   "source": [
    "# you can also specify x axis (this is a terrible plot)\n",
    "# will plot all other numerical columns in the df\n",
    "tips.plot(x='size');"
   ]
  },
  {
   "cell_type": "code",
   "execution_count": 11,
   "metadata": {},
   "outputs": [
    {
     "data": {
      "image/png": "[encoded data removed]",
      "text/plain": [
       "<Figure size 432x288 with 1 Axes>"
      ]
     },
     "metadata": {},
     "output_type": "display_data"
    }
   ],
   "source": [
    "# box plot\n",
    "tips[['tip']].plot(kind='box');"
   ]
  },
  {
   "cell_type": "markdown",
   "metadata": {},
   "source": [
    "### Summarize the Data - Tables and Plots"
   ]
  },
  {
   "cell_type": "markdown",
   "metadata": {},
   "source": [
    "[`df.describe`](https://pandas.pydata.org/pandas-docs/stable/reference/api/pandas.DataFrame.describe.html)\n",
    "\n",
    "Summary statistics, which include things like the mean, min, and max of the data, can be useful to get a feel for how large some of the variables are and what variables may be the most important. "
   ]
  },
  {
   "cell_type": "code",
   "execution_count": 12,
   "metadata": {
    "scrolled": true
   },
   "outputs": [
    {
     "data": {
      "text/html": [
       "<div>\n",
       "<style scoped>\n",
       "    .dataframe tbody tr th:only-of-type {\n",
       "        vertical-align: middle;\n",
       "    }\n",
       "\n",
       "    .dataframe tbody tr th {\n",
       "        vertical-align: top;\n",
       "    }\n",
       "\n",
       "    .dataframe thead th {\n",
       "        text-align: right;\n",
       "    }\n",
       "</style>\n",
       "<table border=\"1\" class=\"dataframe\">\n",
       "  <thead>\n",
       "    <tr style=\"text-align: right;\">\n",
       "      <th></th>\n",
       "      <th>total_bill</th>\n",
       "      <th>tip</th>\n",
       "      <th>size</th>\n",
       "    </tr>\n",
       "  </thead>\n",
       "  <tbody>\n",
       "    <tr>\n",
       "      <th>count</th>\n",
       "      <td>244.000000</td>\n",
       "      <td>244.000000</td>\n",
       "      <td>244.000000</td>\n",
       "    </tr>\n",
       "    <tr>\n",
       "      <th>mean</th>\n",
       "      <td>19.785943</td>\n",
       "      <td>2.998279</td>\n",
       "      <td>2.569672</td>\n",
       "    </tr>\n",
       "    <tr>\n",
       "      <th>std</th>\n",
       "      <td>8.902412</td>\n",
       "      <td>1.383638</td>\n",
       "      <td>0.951100</td>\n",
       "    </tr>\n",
       "    <tr>\n",
       "      <th>min</th>\n",
       "      <td>3.070000</td>\n",
       "      <td>1.000000</td>\n",
       "      <td>1.000000</td>\n",
       "    </tr>\n",
       "    <tr>\n",
       "      <th>25%</th>\n",
       "      <td>13.347500</td>\n",
       "      <td>2.000000</td>\n",
       "      <td>2.000000</td>\n",
       "    </tr>\n",
       "    <tr>\n",
       "      <th>50%</th>\n",
       "      <td>17.795000</td>\n",
       "      <td>2.900000</td>\n",
       "      <td>2.000000</td>\n",
       "    </tr>\n",
       "    <tr>\n",
       "      <th>75%</th>\n",
       "      <td>24.127500</td>\n",
       "      <td>3.562500</td>\n",
       "      <td>3.000000</td>\n",
       "    </tr>\n",
       "    <tr>\n",
       "      <th>max</th>\n",
       "      <td>50.810000</td>\n",
       "      <td>10.000000</td>\n",
       "      <td>6.000000</td>\n",
       "    </tr>\n",
       "  </tbody>\n",
       "</table>\n",
       "</div>"
      ],
      "text/plain": [
       "       total_bill         tip        size\n",
       "count  244.000000  244.000000  244.000000\n",
       "mean    19.785943    2.998279    2.569672\n",
       "std      8.902412    1.383638    0.951100\n",
       "min      3.070000    1.000000    1.000000\n",
       "25%     13.347500    2.000000    2.000000\n",
       "50%     17.795000    2.900000    2.000000\n",
       "75%     24.127500    3.562500    3.000000\n",
       "max     50.810000   10.000000    6.000000"
      ]
     },
     "execution_count": 12,
     "metadata": {},
     "output_type": "execute_result"
    }
   ],
   "source": [
    "# print out the summary statistics for the quantitative variables\n",
    "tips.describe()"
   ]
  },
  {
   "cell_type": "markdown",
   "metadata": {},
   "source": [
    "#### Frequency tables\n",
    "\n",
    "The [value_counts](https://pandas.pydata.org/pandas-docs/stable/generated/pandas.Series.value_counts.html) method can be used to determine the number of times that each distinct value of a variable occurs in a data set.  In statistical terms, this is the \"frequency distribution\" of the variable. Below we show the frequency distribution of the `sex` and `day` variables.\n",
    "\n",
    "The `value_counts` method produces a table with two columns.  The first column contains all distinct observed values for the variable.  The second column contains the number of times each of these values occurs.  Note that the table returned by `value_counts` is actually a Pandas series."
   ]
  },
  {
   "cell_type": "code",
   "execution_count": 13,
   "metadata": {},
   "outputs": [
    {
     "data": {
      "text/plain": [
       "Male      157\n",
       "Female     87\n",
       "Name: sex, dtype: int64"
      ]
     },
     "execution_count": 13,
     "metadata": {},
     "output_type": "execute_result"
    }
   ],
   "source": [
    "tips[\"sex\"].value_counts()"
   ]
  },
  {
   "cell_type": "code",
   "execution_count": 14,
   "metadata": {},
   "outputs": [
    {
     "data": {
      "image/png": "[encoded data removed]",
      "text/plain": [
       "<Figure size 432x288 with 1 Axes>"
      ]
     },
     "metadata": {},
     "output_type": "display_data"
    }
   ],
   "source": [
    "# a bar plot\n",
    "tips[\"sex\"].value_counts().plot(kind='bar');"
   ]
  },
  {
   "cell_type": "code",
   "execution_count": 15,
   "metadata": {
    "scrolled": true
   },
   "outputs": [
    {
     "data": {
      "text/plain": [
       "Sat     87\n",
       "Sun     76\n",
       "Thur    62\n",
       "Fri     19\n",
       "Name: day, dtype: int64"
      ]
     },
     "execution_count": 15,
     "metadata": {},
     "output_type": "execute_result"
    }
   ],
   "source": [
    "tips[\"day\"].value_counts()"
   ]
  },
  {
   "cell_type": "code",
   "execution_count": 16,
   "metadata": {},
   "outputs": [
    {
     "data": {
      "image/png": "[encoded data removed]",
      "text/plain": [
       "<Figure size 432x288 with 1 Axes>"
      ]
     },
     "metadata": {},
     "output_type": "display_data"
    }
   ],
   "source": [
    "# pie plot\n",
    "tips[\"day\"].value_counts().plot(kind='pie');"
   ]
  },
  {
   "cell_type": "markdown",
   "metadata": {},
   "source": [
    "#### Groupby\n",
    "[pd.df.groupby](https://pandas.pydata.org/pandas-docs/stable/reference/api/pandas.DataFrame.groupby.html) is an easy way to summrize data by categorical variable using an aggregate function."
   ]
  },
  {
   "cell_type": "code",
   "execution_count": 17,
   "metadata": {},
   "outputs": [
    {
     "data": {
      "text/html": [
       "<div>\n",
       "<style scoped>\n",
       "    .dataframe tbody tr th:only-of-type {\n",
       "        vertical-align: middle;\n",
       "    }\n",
       "\n",
       "    .dataframe tbody tr th {\n",
       "        vertical-align: top;\n",
       "    }\n",
       "\n",
       "    .dataframe thead th {\n",
       "        text-align: right;\n",
       "    }\n",
       "</style>\n",
       "<table border=\"1\" class=\"dataframe\">\n",
       "  <thead>\n",
       "    <tr style=\"text-align: right;\">\n",
       "      <th></th>\n",
       "      <th>total_bill</th>\n",
       "      <th>tip</th>\n",
       "      <th>size</th>\n",
       "    </tr>\n",
       "    <tr>\n",
       "      <th>sex</th>\n",
       "      <th></th>\n",
       "      <th></th>\n",
       "      <th></th>\n",
       "    </tr>\n",
       "  </thead>\n",
       "  <tbody>\n",
       "    <tr>\n",
       "      <th>Male</th>\n",
       "      <td>20.744076</td>\n",
       "      <td>3.089618</td>\n",
       "      <td>2.630573</td>\n",
       "    </tr>\n",
       "    <tr>\n",
       "      <th>Female</th>\n",
       "      <td>18.056897</td>\n",
       "      <td>2.833448</td>\n",
       "      <td>2.459770</td>\n",
       "    </tr>\n",
       "  </tbody>\n",
       "</table>\n",
       "</div>"
      ],
      "text/plain": [
       "        total_bill       tip      size\n",
       "sex                                   \n",
       "Male     20.744076  3.089618  2.630573\n",
       "Female   18.056897  2.833448  2.459770"
      ]
     },
     "execution_count": 17,
     "metadata": {},
     "output_type": "execute_result"
    }
   ],
   "source": [
    "tips.groupby(\"sex\").mean()"
   ]
  },
  {
   "cell_type": "code",
   "execution_count": 18,
   "metadata": {
    "scrolled": true
   },
   "outputs": [],
   "source": [
    "# aggregate function mean only applies to other numerical variables\n",
    "x=tips.groupby(\"sex\").mean()"
   ]
  },
  {
   "cell_type": "code",
   "execution_count": 19,
   "metadata": {},
   "outputs": [
    {
     "data": {
      "text/plain": [
       "pandas.core.frame.DataFrame"
      ]
     },
     "execution_count": 19,
     "metadata": {},
     "output_type": "execute_result"
    }
   ],
   "source": [
    "type(x)"
   ]
  },
  {
   "cell_type": "code",
   "execution_count": 20,
   "metadata": {},
   "outputs": [
    {
     "name": "stdout",
     "output_type": "stream",
     "text": [
      "[0.14893976332741754, 0.1569177885992552]\n"
     ]
    }
   ],
   "source": [
    "rate_tip = []\n",
    "x.shape[0]\n",
    "for row in range(x.shape[0]):\n",
    "    value = x.iloc[row]['tip']/x.iloc[row]['total_bill']\n",
    "    rate_tip.append(value)\n",
    "print(rate_tip)"
   ]
  },
  {
   "cell_type": "code",
   "execution_count": 21,
   "metadata": {},
   "outputs": [],
   "source": [
    "x['tip_over_total']=rate_tip"
   ]
  },
  {
   "cell_type": "code",
   "execution_count": 22,
   "metadata": {
    "scrolled": true
   },
   "outputs": [
    {
     "data": {
      "text/html": [
       "<div>\n",
       "<style scoped>\n",
       "    .dataframe tbody tr th:only-of-type {\n",
       "        vertical-align: middle;\n",
       "    }\n",
       "\n",
       "    .dataframe tbody tr th {\n",
       "        vertical-align: top;\n",
       "    }\n",
       "\n",
       "    .dataframe thead th {\n",
       "        text-align: right;\n",
       "    }\n",
       "</style>\n",
       "<table border=\"1\" class=\"dataframe\">\n",
       "  <thead>\n",
       "    <tr style=\"text-align: right;\">\n",
       "      <th></th>\n",
       "      <th>total_bill</th>\n",
       "      <th>tip</th>\n",
       "      <th>size</th>\n",
       "      <th>tip_over_total</th>\n",
       "    </tr>\n",
       "    <tr>\n",
       "      <th>sex</th>\n",
       "      <th></th>\n",
       "      <th></th>\n",
       "      <th></th>\n",
       "      <th></th>\n",
       "    </tr>\n",
       "  </thead>\n",
       "  <tbody>\n",
       "    <tr>\n",
       "      <th>Male</th>\n",
       "      <td>20.744076</td>\n",
       "      <td>3.089618</td>\n",
       "      <td>2.630573</td>\n",
       "      <td>0.148940</td>\n",
       "    </tr>\n",
       "    <tr>\n",
       "      <th>Female</th>\n",
       "      <td>18.056897</td>\n",
       "      <td>2.833448</td>\n",
       "      <td>2.459770</td>\n",
       "      <td>0.156918</td>\n",
       "    </tr>\n",
       "  </tbody>\n",
       "</table>\n",
       "</div>"
      ],
      "text/plain": [
       "        total_bill       tip      size  tip_over_total\n",
       "sex                                                   \n",
       "Male     20.744076  3.089618  2.630573        0.148940\n",
       "Female   18.056897  2.833448  2.459770        0.156918"
      ]
     },
     "execution_count": 22,
     "metadata": {},
     "output_type": "execute_result"
    }
   ],
   "source": [
    "x.head()"
   ]
  },
  {
   "cell_type": "code",
   "execution_count": 23,
   "metadata": {},
   "outputs": [
    {
     "data": {
      "text/html": [
       "<div>\n",
       "<style scoped>\n",
       "    .dataframe tbody tr th:only-of-type {\n",
       "        vertical-align: middle;\n",
       "    }\n",
       "\n",
       "    .dataframe tbody tr th {\n",
       "        vertical-align: top;\n",
       "    }\n",
       "\n",
       "    .dataframe thead th {\n",
       "        text-align: right;\n",
       "    }\n",
       "</style>\n",
       "<table border=\"1\" class=\"dataframe\">\n",
       "  <thead>\n",
       "    <tr style=\"text-align: right;\">\n",
       "      <th></th>\n",
       "      <th>total_bill</th>\n",
       "      <th>tip</th>\n",
       "      <th>size</th>\n",
       "    </tr>\n",
       "    <tr>\n",
       "      <th>sex</th>\n",
       "      <th></th>\n",
       "      <th></th>\n",
       "      <th></th>\n",
       "    </tr>\n",
       "  </thead>\n",
       "  <tbody>\n",
       "    <tr>\n",
       "      <th>Male</th>\n",
       "      <td>20.744076</td>\n",
       "      <td>3.089618</td>\n",
       "      <td>2.630573</td>\n",
       "    </tr>\n",
       "    <tr>\n",
       "      <th>Female</th>\n",
       "      <td>18.056897</td>\n",
       "      <td>2.833448</td>\n",
       "      <td>2.459770</td>\n",
       "    </tr>\n",
       "  </tbody>\n",
       "</table>\n",
       "</div>"
      ],
      "text/plain": [
       "        total_bill       tip      size\n",
       "sex                                   \n",
       "Male     20.744076  3.089618  2.630573\n",
       "Female   18.056897  2.833448  2.459770"
      ]
     },
     "execution_count": 23,
     "metadata": {},
     "output_type": "execute_result"
    }
   ],
   "source": [
    "y=tips.groupby(\"sex\").mean()\n",
    "y"
   ]
  },
  {
   "cell_type": "code",
   "execution_count": 24,
   "metadata": {},
   "outputs": [
    {
     "data": {
      "text/html": [
       "<div>\n",
       "<style scoped>\n",
       "    .dataframe tbody tr th:only-of-type {\n",
       "        vertical-align: middle;\n",
       "    }\n",
       "\n",
       "    .dataframe tbody tr th {\n",
       "        vertical-align: top;\n",
       "    }\n",
       "\n",
       "    .dataframe thead th {\n",
       "        text-align: right;\n",
       "    }\n",
       "</style>\n",
       "<table border=\"1\" class=\"dataframe\">\n",
       "  <thead>\n",
       "    <tr style=\"text-align: right;\">\n",
       "      <th></th>\n",
       "      <th>total_bill</th>\n",
       "      <th>tip</th>\n",
       "      <th>size</th>\n",
       "      <th>tip_o_total</th>\n",
       "    </tr>\n",
       "    <tr>\n",
       "      <th>sex</th>\n",
       "      <th></th>\n",
       "      <th></th>\n",
       "      <th></th>\n",
       "      <th></th>\n",
       "    </tr>\n",
       "  </thead>\n",
       "  <tbody>\n",
       "    <tr>\n",
       "      <th>Male</th>\n",
       "      <td>20.744076</td>\n",
       "      <td>3.089618</td>\n",
       "      <td>2.630573</td>\n",
       "      <td>0.148940</td>\n",
       "    </tr>\n",
       "    <tr>\n",
       "      <th>Female</th>\n",
       "      <td>18.056897</td>\n",
       "      <td>2.833448</td>\n",
       "      <td>2.459770</td>\n",
       "      <td>0.156918</td>\n",
       "    </tr>\n",
       "  </tbody>\n",
       "</table>\n",
       "</div>"
      ],
      "text/plain": [
       "        total_bill       tip      size  tip_o_total\n",
       "sex                                                \n",
       "Male     20.744076  3.089618  2.630573     0.148940\n",
       "Female   18.056897  2.833448  2.459770     0.156918"
      ]
     },
     "execution_count": 24,
     "metadata": {},
     "output_type": "execute_result"
    }
   ],
   "source": [
    "y['tip_o_total']=y['tip']/y['total_bill']\n",
    "y"
   ]
  },
  {
   "cell_type": "code",
   "execution_count": 25,
   "metadata": {
    "scrolled": true
   },
   "outputs": [
    {
     "data": {
      "image/png": "[encoded data removed]",
      "text/plain": [
       "<Figure size 432x288 with 1 Axes>"
      ]
     },
     "metadata": {},
     "output_type": "display_data"
    }
   ],
   "source": [
    "# bar plot\n",
    "tips.groupby(\"sex\").mean().plot(kind='bar');"
   ]
  },
  {
   "cell_type": "code",
   "execution_count": 26,
   "metadata": {},
   "outputs": [
    {
     "data": {
      "text/html": [
       "<div>\n",
       "<style scoped>\n",
       "    .dataframe tbody tr th:only-of-type {\n",
       "        vertical-align: middle;\n",
       "    }\n",
       "\n",
       "    .dataframe tbody tr th {\n",
       "        vertical-align: top;\n",
       "    }\n",
       "\n",
       "    .dataframe thead th {\n",
       "        text-align: right;\n",
       "    }\n",
       "</style>\n",
       "<table border=\"1\" class=\"dataframe\">\n",
       "  <thead>\n",
       "    <tr style=\"text-align: right;\">\n",
       "      <th></th>\n",
       "      <th>total_bill</th>\n",
       "      <th>tip</th>\n",
       "      <th>smoker</th>\n",
       "      <th>day</th>\n",
       "      <th>time</th>\n",
       "      <th>size</th>\n",
       "    </tr>\n",
       "    <tr>\n",
       "      <th>sex</th>\n",
       "      <th></th>\n",
       "      <th></th>\n",
       "      <th></th>\n",
       "      <th></th>\n",
       "      <th></th>\n",
       "      <th></th>\n",
       "    </tr>\n",
       "  </thead>\n",
       "  <tbody>\n",
       "    <tr>\n",
       "      <th>Male</th>\n",
       "      <td>157</td>\n",
       "      <td>157</td>\n",
       "      <td>157</td>\n",
       "      <td>157</td>\n",
       "      <td>157</td>\n",
       "      <td>157</td>\n",
       "    </tr>\n",
       "    <tr>\n",
       "      <th>Female</th>\n",
       "      <td>87</td>\n",
       "      <td>87</td>\n",
       "      <td>87</td>\n",
       "      <td>87</td>\n",
       "      <td>87</td>\n",
       "      <td>87</td>\n",
       "    </tr>\n",
       "  </tbody>\n",
       "</table>\n",
       "</div>"
      ],
      "text/plain": [
       "        total_bill  tip  smoker  day  time  size\n",
       "sex                                             \n",
       "Male           157  157     157  157   157   157\n",
       "Female          87   87      87   87    87    87"
      ]
     },
     "execution_count": 26,
     "metadata": {},
     "output_type": "execute_result"
    }
   ],
   "source": [
    "# aggregate function count applies to all other variables\n",
    "# however, this is the same as value_counts()\n",
    "tips.groupby(\"sex\").count()"
   ]
  },
  {
   "cell_type": "code",
   "execution_count": 27,
   "metadata": {},
   "outputs": [
    {
     "name": "stderr",
     "output_type": "stream",
     "text": [
      "/var/folders/_6/l3fpk3z10lb5g2csy8ykd4lw0000gn/T/ipykernel_1395/986917356.py:2: FutureWarning: Dropping invalid columns in DataFrameGroupBy.max is deprecated. In a future version, a TypeError will be raised. Before calling .max, select only columns which should be valid for the function.\n",
      "  tips.groupby(\"day\").max()\n"
     ]
    },
    {
     "data": {
      "text/html": [
       "<div>\n",
       "<style scoped>\n",
       "    .dataframe tbody tr th:only-of-type {\n",
       "        vertical-align: middle;\n",
       "    }\n",
       "\n",
       "    .dataframe tbody tr th {\n",
       "        vertical-align: top;\n",
       "    }\n",
       "\n",
       "    .dataframe thead th {\n",
       "        text-align: right;\n",
       "    }\n",
       "</style>\n",
       "<table border=\"1\" class=\"dataframe\">\n",
       "  <thead>\n",
       "    <tr style=\"text-align: right;\">\n",
       "      <th></th>\n",
       "      <th>total_bill</th>\n",
       "      <th>tip</th>\n",
       "      <th>size</th>\n",
       "    </tr>\n",
       "    <tr>\n",
       "      <th>day</th>\n",
       "      <th></th>\n",
       "      <th></th>\n",
       "      <th></th>\n",
       "    </tr>\n",
       "  </thead>\n",
       "  <tbody>\n",
       "    <tr>\n",
       "      <th>Thur</th>\n",
       "      <td>43.11</td>\n",
       "      <td>6.70</td>\n",
       "      <td>6</td>\n",
       "    </tr>\n",
       "    <tr>\n",
       "      <th>Fri</th>\n",
       "      <td>40.17</td>\n",
       "      <td>4.73</td>\n",
       "      <td>4</td>\n",
       "    </tr>\n",
       "    <tr>\n",
       "      <th>Sat</th>\n",
       "      <td>50.81</td>\n",
       "      <td>10.00</td>\n",
       "      <td>5</td>\n",
       "    </tr>\n",
       "    <tr>\n",
       "      <th>Sun</th>\n",
       "      <td>48.17</td>\n",
       "      <td>6.50</td>\n",
       "      <td>6</td>\n",
       "    </tr>\n",
       "  </tbody>\n",
       "</table>\n",
       "</div>"
      ],
      "text/plain": [
       "      total_bill    tip  size\n",
       "day                          \n",
       "Thur       43.11   6.70     6\n",
       "Fri        40.17   4.73     4\n",
       "Sat        50.81  10.00     5\n",
       "Sun        48.17   6.50     6"
      ]
     },
     "execution_count": 27,
     "metadata": {},
     "output_type": "execute_result"
    }
   ],
   "source": [
    "# what does this return?\n",
    "tips.groupby(\"day\").max()"
   ]
  },
  {
   "cell_type": "code",
   "execution_count": 28,
   "metadata": {},
   "outputs": [
    {
     "data": {
      "image/png": "[encoded data removed]",
      "text/plain": [
       "<Figure size 432x288 with 1 Axes>"
      ]
     },
     "metadata": {},
     "output_type": "display_data"
    }
   ],
   "source": [
    "# this is much better than the terrible plot\n",
    "# average bill and tip amount for party size\n",
    "tips.groupby(\"size\").mean().plot(kind='bar');"
   ]
  },
  {
   "cell_type": "markdown",
   "metadata": {},
   "source": [
    "#### Pivot table\n",
    "[df.pivot_table](https://pandas.pydata.org/docs/reference/api/pandas.pivot_table.html) is a way to summarize one numerical variable according to two categorical variable, and an aggregate function that applies to that numerical variable."
   ]
  },
  {
   "cell_type": "code",
   "execution_count": 29,
   "metadata": {
    "scrolled": true
   },
   "outputs": [
    {
     "data": {
      "text/html": [
       "<div>\n",
       "<style scoped>\n",
       "    .dataframe tbody tr th:only-of-type {\n",
       "        vertical-align: middle;\n",
       "    }\n",
       "\n",
       "    .dataframe tbody tr th {\n",
       "        vertical-align: top;\n",
       "    }\n",
       "\n",
       "    .dataframe thead th {\n",
       "        text-align: right;\n",
       "    }\n",
       "</style>\n",
       "<table border=\"1\" class=\"dataframe\">\n",
       "  <thead>\n",
       "    <tr style=\"text-align: right;\">\n",
       "      <th>sex</th>\n",
       "      <th>Male</th>\n",
       "      <th>Female</th>\n",
       "    </tr>\n",
       "    <tr>\n",
       "      <th>day</th>\n",
       "      <th></th>\n",
       "      <th></th>\n",
       "    </tr>\n",
       "  </thead>\n",
       "  <tbody>\n",
       "    <tr>\n",
       "      <th>Thur</th>\n",
       "      <td>18.714667</td>\n",
       "      <td>16.715312</td>\n",
       "    </tr>\n",
       "    <tr>\n",
       "      <th>Fri</th>\n",
       "      <td>19.857000</td>\n",
       "      <td>14.145556</td>\n",
       "    </tr>\n",
       "    <tr>\n",
       "      <th>Sat</th>\n",
       "      <td>20.802542</td>\n",
       "      <td>19.680357</td>\n",
       "    </tr>\n",
       "    <tr>\n",
       "      <th>Sun</th>\n",
       "      <td>21.887241</td>\n",
       "      <td>19.872222</td>\n",
       "    </tr>\n",
       "  </tbody>\n",
       "</table>\n",
       "</div>"
      ],
      "text/plain": [
       "sex        Male     Female\n",
       "day                       \n",
       "Thur  18.714667  16.715312\n",
       "Fri   19.857000  14.145556\n",
       "Sat   20.802542  19.680357\n",
       "Sun   21.887241  19.872222"
      ]
     },
     "execution_count": 29,
     "metadata": {},
     "output_type": "execute_result"
    }
   ],
   "source": [
    "# this returns average total bills by day and sex\n",
    "sex_day = tips.pivot_table(index=\"day\", columns=\"sex\", values=\"total_bill\", aggfunc=\"mean\")\n",
    "sex_day"
   ]
  },
  {
   "cell_type": "code",
   "execution_count": 30,
   "metadata": {},
   "outputs": [
    {
     "data": {
      "image/png": "[encoded data removed]",
      "text/plain": [
       "<Figure size 432x288 with 1 Axes>"
      ]
     },
     "metadata": {},
     "output_type": "display_data"
    }
   ],
   "source": [
    "# another bar plot\n",
    "sex_day.plot(kind='bar');"
   ]
  },
  {
   "cell_type": "code",
   "execution_count": 31,
   "metadata": {
    "scrolled": true
   },
   "outputs": [
    {
     "data": {
      "text/html": [
       "<div>\n",
       "<style scoped>\n",
       "    .dataframe tbody tr th:only-of-type {\n",
       "        vertical-align: middle;\n",
       "    }\n",
       "\n",
       "    .dataframe tbody tr th {\n",
       "        vertical-align: top;\n",
       "    }\n",
       "\n",
       "    .dataframe thead th {\n",
       "        text-align: right;\n",
       "    }\n",
       "</style>\n",
       "<table border=\"1\" class=\"dataframe\">\n",
       "  <thead>\n",
       "    <tr style=\"text-align: right;\">\n",
       "      <th>sex</th>\n",
       "      <th>Male</th>\n",
       "      <th>Female</th>\n",
       "    </tr>\n",
       "    <tr>\n",
       "      <th>smoker</th>\n",
       "      <th></th>\n",
       "      <th></th>\n",
       "    </tr>\n",
       "  </thead>\n",
       "  <tbody>\n",
       "    <tr>\n",
       "      <th>Yes</th>\n",
       "      <td>60</td>\n",
       "      <td>33</td>\n",
       "    </tr>\n",
       "    <tr>\n",
       "      <th>No</th>\n",
       "      <td>97</td>\n",
       "      <td>54</td>\n",
       "    </tr>\n",
       "  </tbody>\n",
       "</table>\n",
       "</div>"
      ],
      "text/plain": [
       "sex     Male  Female\n",
       "smoker              \n",
       "Yes       60      33\n",
       "No        97      54"
      ]
     },
     "execution_count": 31,
     "metadata": {},
     "output_type": "execute_result"
    }
   ],
   "source": [
    "# this returns the number of records in the data by smoker and sex\n",
    "sex_smoker = tips.pivot_table(index=\"smoker\", columns=\"sex\", values=\"total_bill\", aggfunc=\"count\")\n",
    "sex_smoker"
   ]
  },
  {
   "cell_type": "code",
   "execution_count": 32,
   "metadata": {},
   "outputs": [
    {
     "data": {
      "image/png": "[encoded data removed]",
      "text/plain": [
       "<Figure size 432x288 with 1 Axes>"
      ]
     },
     "metadata": {},
     "output_type": "display_data"
    }
   ],
   "source": [
    "# stacked bar plot\n",
    "sex_smoker.plot(kind='bar', stacked=True);"
   ]
  },
  {
   "cell_type": "markdown",
   "metadata": {},
   "source": [
    "### Plotting with [Seaborn](https://seaborn.pydata.org/)\n",
    "\n",
    "Seaborn is a Python data visualization library also based on matplotlib. It provides a high-level interface for drawing attractive and informative statistical graphics. It has good default settings for a lot of plots. "
   ]
  },
  {
   "cell_type": "code",
   "execution_count": 33,
   "metadata": {},
   "outputs": [
    {
     "name": "stderr",
     "output_type": "stream",
     "text": [
      "/opt/anaconda3/lib/python3.9/site-packages/seaborn/distributions.py:2619: FutureWarning: `distplot` is a deprecated function and will be removed in a future version. Please adapt your code to use either `displot` (a figure-level function with similar flexibility) or `histplot` (an axes-level function for histograms).\n",
      "  warnings.warn(msg, FutureWarning)\n"
     ]
    },
    {
     "data": {
      "image/png": "[encoded data removed]",
      "text/plain": [
       "<Figure size 432x288 with 1 Axes>"
      ]
     },
     "metadata": {},
     "output_type": "display_data"
    }
   ],
   "source": [
    "# Plot a histogram of the total bill\n",
    "sns.distplot(tips[\"total_bill\"], kde = False).set_title(\"Histogram of Total Bill\");"
   ]
  },
  {
   "cell_type": "code",
   "execution_count": 34,
   "metadata": {},
   "outputs": [
    {
     "data": {
      "image/png": "[encoded data removed]",
      "text/plain": [
       "<Figure size 432x288 with 1 Axes>"
      ]
     },
     "metadata": {},
     "output_type": "display_data"
    }
   ],
   "source": [
    "# Plot a histogram of the Tips only\n",
    "sns.distplot(tips[\"tip\"], kde = False).set_title(\"Histogram of Total Tip\");"
   ]
  },
  {
   "cell_type": "code",
   "execution_count": 35,
   "metadata": {},
   "outputs": [
    {
     "data": {
      "image/png": "[encoded data removed]",
      "text/plain": [
       "<Figure size 432x288 with 1 Axes>"
      ]
     },
     "metadata": {},
     "output_type": "display_data"
    }
   ],
   "source": [
    "# Plot a histogram of both the total bill and the tips'\n",
    "sns.distplot(tips[\"total_bill\"], kde = False, label=\"bill\")\n",
    "sns.distplot(tips[\"tip\"], kde = False, label=\"tip\").set_title(\"Histogram of Both Tip Size and Total Bill\")\n",
    "plt.legend();"
   ]
  },
  {
   "cell_type": "markdown",
   "metadata": {},
   "source": [
    "#### Creating a Boxplot\n",
    "\n",
    "Boxplots do not show the shape of the distribution, but they can give us a better idea about the center and spread of the distribution as well as any potential outliers that may exist. Boxplots and Histograms often complement each other and help an analyst get more information about the data"
   ]
  },
  {
   "cell_type": "code",
   "execution_count": 36,
   "metadata": {},
   "outputs": [
    {
     "name": "stderr",
     "output_type": "stream",
     "text": [
      "/opt/anaconda3/lib/python3.9/site-packages/seaborn/_decorators.py:36: FutureWarning: Pass the following variable as a keyword arg: x. From version 0.12, the only valid positional argument will be `data`, and passing other arguments without an explicit keyword will result in an error or misinterpretation.\n",
      "  warnings.warn(\n"
     ]
    },
    {
     "data": {
      "image/png": "[encoded data removed]",
      "text/plain": [
       "<Figure size 432x288 with 1 Axes>"
      ]
     },
     "metadata": {},
     "output_type": "display_data"
    }
   ],
   "source": [
    "# Create a boxplot of the total bill amounts\n",
    "sns.boxplot(tips[\"total_bill\"]).set_title(\"Box plot of the Total Bill\");"
   ]
  },
  {
   "cell_type": "code",
   "execution_count": 37,
   "metadata": {},
   "outputs": [
    {
     "data": {
      "image/png": "[encoded data removed]",
      "text/plain": [
       "<Figure size 432x288 with 1 Axes>"
      ]
     },
     "metadata": {},
     "output_type": "display_data"
    }
   ],
   "source": [
    "# Create a boxplot of the tips amounts\n",
    "sns.boxplot(y=\"tip\", data=tips).set_title(\"Box plot of the Tip\");"
   ]
  },
  {
   "cell_type": "markdown",
   "metadata": {},
   "source": [
    "#### Creating Boxplots Plotted by Groups\n",
    "\n",
    "While looking at a single variable is interesting, it is often useful to see how a variable changes in response to another. Using graphs, we can see if there is a difference between the tipping amounts of smokers vs. non-smokers, if tipping varies according to the time of the day, or we can explore other trends in the data as well."
   ]
  },
  {
   "cell_type": "code",
   "execution_count": 38,
   "metadata": {},
   "outputs": [
    {
     "data": {
      "image/png": "[encoded data removed]",
      "text/plain": [
       "<Figure size 432x288 with 1 Axes>"
      ]
     },
     "metadata": {},
     "output_type": "display_data"
    }
   ],
   "source": [
    "# Create a boxplot of the tips grouped by smoking status\n",
    "sns.boxplot(y=\"tip\", x=\"smoker\", data=tips);"
   ]
  },
  {
   "cell_type": "code",
   "execution_count": 39,
   "metadata": {},
   "outputs": [
    {
     "data": {
      "image/png": "[encoded data removed]",
      "text/plain": [
       "<Figure size 432x288 with 1 Axes>"
      ]
     },
     "metadata": {},
     "output_type": "display_data"
    }
   ],
   "source": [
    "# Create a boxplot of the tips grouped by time of day\n",
    "sns.boxplot(y=\"tip\", x=\"time\", data=tips);"
   ]
  },
  {
   "cell_type": "code",
   "execution_count": 40,
   "metadata": {},
   "outputs": [
    {
     "data": {
      "image/png": "[encoded data removed]",
      "text/plain": [
       "<Figure size 432x288 with 1 Axes>"
      ]
     },
     "metadata": {},
     "output_type": "display_data"
    }
   ],
   "source": [
    "# Create a boxplot of the tips grouped by the day, color by sex\n",
    "sns.boxplot(y=\"tip\", x=\"day\", hue=\"sex\", data=tips);"
   ]
  },
  {
   "cell_type": "markdown",
   "metadata": {},
   "source": [
    "#### Plot by more categorical variables\n",
    "* [Seaborn catplot](https://seaborn.pydata.org/tutorial/categorical.html)\n",
    "* [examples](https://seaborn.pydata.org/generated/seaborn.catplot.html)"
   ]
  },
  {
   "cell_type": "code",
   "execution_count": 41,
   "metadata": {},
   "outputs": [
    {
     "data": {
      "image/png": "[encoded data removed]",
      "text/plain": [
       "<Figure size 793.025x360 with 2 Axes>"
      ]
     },
     "metadata": {},
     "output_type": "display_data"
    }
   ],
   "source": [
    "# how many categorical variables are shown?\n",
    "# sex, time and smoker\n",
    "sns.catplot(x=\"sex\", y=\"tip\",\n",
    "                hue=\"smoker\", col=\"time\",\n",
    "                data=tips, kind=\"box\");"
   ]
  },
  {
   "cell_type": "code",
   "execution_count": 42,
   "metadata": {
    "scrolled": true
   },
   "outputs": [
    {
     "data": {
      "image/png": "[encoded data removed]",
      "text/plain": [
       "<Figure size 793.025x360 with 2 Axes>"
      ]
     },
     "metadata": {},
     "output_type": "display_data"
    }
   ],
   "source": [
    "sns.catplot(x=\"sex\", y=\"tip\",\n",
    "                hue=\"smoker\", col=\"time\",\n",
    "                data=tips, kind=\"violin\");"
   ]
  },
  {
   "cell_type": "markdown",
   "metadata": {},
   "source": [
    "##  HW Questions Start Here"
   ]
  },
  {
   "cell_type": "markdown",
   "metadata": {},
   "source": [
    "For Question 1 - 5, you will work with US Census Data (Did you fill out 2020 Census?)\n",
    "\n",
    "Read the US Census Data set `nc-est2020-agesex-res.csv` information [here](https://www2.census.gov/programs-surveys/popest/technical-documentation/file-layouts/2010-2019/nc-est2019-agesex-res.pdf), make sure you understand the data fully, what is each row and each column etc."
   ]
  },
  {
   "cell_type": "markdown",
   "metadata": {},
   "source": [
    "First, let's read in the data, save as a dataframe and select some useful columns:"
   ]
  },
  {
   "cell_type": "code",
   "execution_count": 43,
   "metadata": {},
   "outputs": [
    {
     "data": {
      "text/html": [
       "<div>\n",
       "<style scoped>\n",
       "    .dataframe tbody tr th:only-of-type {\n",
       "        vertical-align: middle;\n",
       "    }\n",
       "\n",
       "    .dataframe tbody tr th {\n",
       "        vertical-align: top;\n",
       "    }\n",
       "\n",
       "    .dataframe thead th {\n",
       "        text-align: right;\n",
       "    }\n",
       "</style>\n",
       "<table border=\"1\" class=\"dataframe\">\n",
       "  <thead>\n",
       "    <tr style=\"text-align: right;\">\n",
       "      <th></th>\n",
       "      <th>SEX</th>\n",
       "      <th>AGE</th>\n",
       "      <th>CENSUS2010POP</th>\n",
       "      <th>ESTIMATESBASE2010</th>\n",
       "      <th>POPESTIMATE2010</th>\n",
       "      <th>POPESTIMATE2011</th>\n",
       "      <th>POPESTIMATE2012</th>\n",
       "      <th>POPESTIMATE2013</th>\n",
       "      <th>POPESTIMATE2014</th>\n",
       "      <th>POPESTIMATE2015</th>\n",
       "      <th>POPESTIMATE2016</th>\n",
       "      <th>POPESTIMATE2017</th>\n",
       "      <th>POPESTIMATE2018</th>\n",
       "      <th>POPESTIMATE2019</th>\n",
       "      <th>POPESTIMATE2020</th>\n",
       "    </tr>\n",
       "  </thead>\n",
       "  <tbody>\n",
       "    <tr>\n",
       "      <th>0</th>\n",
       "      <td>0</td>\n",
       "      <td>0</td>\n",
       "      <td>3944153</td>\n",
       "      <td>3944160</td>\n",
       "      <td>3951495</td>\n",
       "      <td>3963264</td>\n",
       "      <td>3926731</td>\n",
       "      <td>3931411</td>\n",
       "      <td>3954973</td>\n",
       "      <td>3984144</td>\n",
       "      <td>3963268</td>\n",
       "      <td>3882437</td>\n",
       "      <td>3826908</td>\n",
       "      <td>3762227</td>\n",
       "      <td>3735010</td>\n",
       "    </tr>\n",
       "    <tr>\n",
       "      <th>1</th>\n",
       "      <td>0</td>\n",
       "      <td>1</td>\n",
       "      <td>3978070</td>\n",
       "      <td>3978090</td>\n",
       "      <td>3957904</td>\n",
       "      <td>3966768</td>\n",
       "      <td>3978210</td>\n",
       "      <td>3943348</td>\n",
       "      <td>3949559</td>\n",
       "      <td>3973828</td>\n",
       "      <td>4003586</td>\n",
       "      <td>3981864</td>\n",
       "      <td>3897917</td>\n",
       "      <td>3842257</td>\n",
       "      <td>3773884</td>\n",
       "    </tr>\n",
       "    <tr>\n",
       "      <th>2</th>\n",
       "      <td>0</td>\n",
       "      <td>2</td>\n",
       "      <td>4096929</td>\n",
       "      <td>4096939</td>\n",
       "      <td>4090799</td>\n",
       "      <td>3971498</td>\n",
       "      <td>3980139</td>\n",
       "      <td>3993047</td>\n",
       "      <td>3960015</td>\n",
       "      <td>3967672</td>\n",
       "      <td>3992657</td>\n",
       "      <td>4021261</td>\n",
       "      <td>3996742</td>\n",
       "      <td>3911822</td>\n",
       "      <td>3853025</td>\n",
       "    </tr>\n",
       "    <tr>\n",
       "      <th>3</th>\n",
       "      <td>0</td>\n",
       "      <td>3</td>\n",
       "      <td>4119040</td>\n",
       "      <td>4119051</td>\n",
       "      <td>4111869</td>\n",
       "      <td>4102429</td>\n",
       "      <td>3983007</td>\n",
       "      <td>3992839</td>\n",
       "      <td>4007852</td>\n",
       "      <td>3976277</td>\n",
       "      <td>3984985</td>\n",
       "      <td>4009060</td>\n",
       "      <td>4035053</td>\n",
       "      <td>4009037</td>\n",
       "      <td>3921526</td>\n",
       "    </tr>\n",
       "    <tr>\n",
       "      <th>4</th>\n",
       "      <td>0</td>\n",
       "      <td>4</td>\n",
       "      <td>4063170</td>\n",
       "      <td>4063186</td>\n",
       "      <td>4077511</td>\n",
       "      <td>4122252</td>\n",
       "      <td>4112849</td>\n",
       "      <td>3994539</td>\n",
       "      <td>4006407</td>\n",
       "      <td>4022785</td>\n",
       "      <td>3992241</td>\n",
       "      <td>4000394</td>\n",
       "      <td>4021907</td>\n",
       "      <td>4045996</td>\n",
       "      <td>4017847</td>\n",
       "    </tr>\n",
       "    <tr>\n",
       "      <th>...</th>\n",
       "      <td>...</td>\n",
       "      <td>...</td>\n",
       "      <td>...</td>\n",
       "      <td>...</td>\n",
       "      <td>...</td>\n",
       "      <td>...</td>\n",
       "      <td>...</td>\n",
       "      <td>...</td>\n",
       "      <td>...</td>\n",
       "      <td>...</td>\n",
       "      <td>...</td>\n",
       "      <td>...</td>\n",
       "      <td>...</td>\n",
       "      <td>...</td>\n",
       "      <td>...</td>\n",
       "    </tr>\n",
       "    <tr>\n",
       "      <th>301</th>\n",
       "      <td>2</td>\n",
       "      <td>97</td>\n",
       "      <td>53582</td>\n",
       "      <td>53605</td>\n",
       "      <td>54166</td>\n",
       "      <td>57127</td>\n",
       "      <td>59226</td>\n",
       "      <td>60675</td>\n",
       "      <td>62415</td>\n",
       "      <td>68627</td>\n",
       "      <td>69729</td>\n",
       "      <td>76313</td>\n",
       "      <td>82046</td>\n",
       "      <td>84349</td>\n",
       "      <td>85452</td>\n",
       "    </tr>\n",
       "    <tr>\n",
       "      <th>302</th>\n",
       "      <td>2</td>\n",
       "      <td>98</td>\n",
       "      <td>36641</td>\n",
       "      <td>36675</td>\n",
       "      <td>37567</td>\n",
       "      <td>40081</td>\n",
       "      <td>42573</td>\n",
       "      <td>43869</td>\n",
       "      <td>45899</td>\n",
       "      <td>46622</td>\n",
       "      <td>52146</td>\n",
       "      <td>53004</td>\n",
       "      <td>57386</td>\n",
       "      <td>62429</td>\n",
       "      <td>62702</td>\n",
       "    </tr>\n",
       "    <tr>\n",
       "      <th>303</th>\n",
       "      <td>2</td>\n",
       "      <td>99</td>\n",
       "      <td>26193</td>\n",
       "      <td>26214</td>\n",
       "      <td>26098</td>\n",
       "      <td>26997</td>\n",
       "      <td>29078</td>\n",
       "      <td>30681</td>\n",
       "      <td>32247</td>\n",
       "      <td>33567</td>\n",
       "      <td>34289</td>\n",
       "      <td>38508</td>\n",
       "      <td>39398</td>\n",
       "      <td>42288</td>\n",
       "      <td>45572</td>\n",
       "    </tr>\n",
       "    <tr>\n",
       "      <th>304</th>\n",
       "      <td>2</td>\n",
       "      <td>100</td>\n",
       "      <td>44202</td>\n",
       "      <td>44246</td>\n",
       "      <td>45079</td>\n",
       "      <td>47430</td>\n",
       "      <td>50051</td>\n",
       "      <td>52831</td>\n",
       "      <td>57125</td>\n",
       "      <td>60327</td>\n",
       "      <td>64400</td>\n",
       "      <td>67129</td>\n",
       "      <td>72068</td>\n",
       "      <td>76911</td>\n",
       "      <td>79772</td>\n",
       "    </tr>\n",
       "    <tr>\n",
       "      <th>305</th>\n",
       "      <td>2</td>\n",
       "      <td>999</td>\n",
       "      <td>156964212</td>\n",
       "      <td>156969328</td>\n",
       "      <td>157249665</td>\n",
       "      <td>158370501</td>\n",
       "      <td>159480635</td>\n",
       "      <td>160545893</td>\n",
       "      <td>161690519</td>\n",
       "      <td>162832151</td>\n",
       "      <td>163986062</td>\n",
       "      <td>165008683</td>\n",
       "      <td>165877686</td>\n",
       "      <td>166637617</td>\n",
       "      <td>167227921</td>\n",
       "    </tr>\n",
       "  </tbody>\n",
       "</table>\n",
       "<p>306 rows × 15 columns</p>\n",
       "</div>"
      ],
      "text/plain": [
       "     SEX  AGE  CENSUS2010POP  ESTIMATESBASE2010  POPESTIMATE2010  \\\n",
       "0      0    0        3944153            3944160          3951495   \n",
       "1      0    1        3978070            3978090          3957904   \n",
       "2      0    2        4096929            4096939          4090799   \n",
       "3      0    3        4119040            4119051          4111869   \n",
       "4      0    4        4063170            4063186          4077511   \n",
       "..   ...  ...            ...                ...              ...   \n",
       "301    2   97          53582              53605            54166   \n",
       "302    2   98          36641              36675            37567   \n",
       "303    2   99          26193              26214            26098   \n",
       "304    2  100          44202              44246            45079   \n",
       "305    2  999      156964212          156969328        157249665   \n",
       "\n",
       "     POPESTIMATE2011  POPESTIMATE2012  POPESTIMATE2013  POPESTIMATE2014  \\\n",
       "0            3963264          3926731          3931411          3954973   \n",
       "1            3966768          3978210          3943348          3949559   \n",
       "2            3971498          3980139          3993047          3960015   \n",
       "3            4102429          3983007          3992839          4007852   \n",
       "4            4122252          4112849          3994539          4006407   \n",
       "..               ...              ...              ...              ...   \n",
       "301            57127            59226            60675            62415   \n",
       "302            40081            42573            43869            45899   \n",
       "303            26997            29078            30681            32247   \n",
       "304            47430            50051            52831            57125   \n",
       "305        158370501        159480635        160545893        161690519   \n",
       "\n",
       "     POPESTIMATE2015  POPESTIMATE2016  POPESTIMATE2017  POPESTIMATE2018  \\\n",
       "0            3984144          3963268          3882437          3826908   \n",
       "1            3973828          4003586          3981864          3897917   \n",
       "2            3967672          3992657          4021261          3996742   \n",
       "3            3976277          3984985          4009060          4035053   \n",
       "4            4022785          3992241          4000394          4021907   \n",
       "..               ...              ...              ...              ...   \n",
       "301            68627            69729            76313            82046   \n",
       "302            46622            52146            53004            57386   \n",
       "303            33567            34289            38508            39398   \n",
       "304            60327            64400            67129            72068   \n",
       "305        162832151        163986062        165008683        165877686   \n",
       "\n",
       "     POPESTIMATE2019  POPESTIMATE2020  \n",
       "0            3762227          3735010  \n",
       "1            3842257          3773884  \n",
       "2            3911822          3853025  \n",
       "3            4009037          3921526  \n",
       "4            4045996          4017847  \n",
       "..               ...              ...  \n",
       "301            84349            85452  \n",
       "302            62429            62702  \n",
       "303            42288            45572  \n",
       "304            76911            79772  \n",
       "305        166637617        167227921  \n",
       "\n",
       "[306 rows x 15 columns]"
      ]
     },
     "execution_count": 43,
     "metadata": {},
     "output_type": "execute_result"
    }
   ],
   "source": [
    "full = pd.read_csv('nc-est2020-agesex-res.csv')\n",
    "full"
   ]
  },
  {
   "cell_type": "markdown",
   "metadata": {},
   "source": [
    "From the full dataset, let's take out 4 columns of insterest: SEX, AGE, POPESTIMATE2010 and POPESTIMATE2019. Let's also rename the two columns with simple names '2010' and '2019':"
   ]
  },
  {
   "cell_type": "code",
   "execution_count": 44,
   "metadata": {},
   "outputs": [
    {
     "name": "stderr",
     "output_type": "stream",
     "text": [
      "/var/folders/_6/l3fpk3z10lb5g2csy8ykd4lw0000gn/T/ipykernel_1395/3678222092.py:2: SettingWithCopyWarning: \n",
      "A value is trying to be set on a copy of a slice from a DataFrame\n",
      "\n",
      "See the caveats in the documentation: https://pandas.pydata.org/pandas-docs/stable/user_guide/indexing.html#returning-a-view-versus-a-copy\n",
      "  partial.rename(columns={'POPESTIMATE2010': '2010', 'POPESTIMATE2020':'2020'}, inplace=True)\n"
     ]
    },
    {
     "data": {
      "text/html": [
       "<div>\n",
       "<style scoped>\n",
       "    .dataframe tbody tr th:only-of-type {\n",
       "        vertical-align: middle;\n",
       "    }\n",
       "\n",
       "    .dataframe tbody tr th {\n",
       "        vertical-align: top;\n",
       "    }\n",
       "\n",
       "    .dataframe thead th {\n",
       "        text-align: right;\n",
       "    }\n",
       "</style>\n",
       "<table border=\"1\" class=\"dataframe\">\n",
       "  <thead>\n",
       "    <tr style=\"text-align: right;\">\n",
       "      <th></th>\n",
       "      <th>SEX</th>\n",
       "      <th>AGE</th>\n",
       "      <th>2010</th>\n",
       "      <th>2020</th>\n",
       "    </tr>\n",
       "  </thead>\n",
       "  <tbody>\n",
       "    <tr>\n",
       "      <th>0</th>\n",
       "      <td>0</td>\n",
       "      <td>0</td>\n",
       "      <td>3951495</td>\n",
       "      <td>3735010</td>\n",
       "    </tr>\n",
       "    <tr>\n",
       "      <th>1</th>\n",
       "      <td>0</td>\n",
       "      <td>1</td>\n",
       "      <td>3957904</td>\n",
       "      <td>3773884</td>\n",
       "    </tr>\n",
       "    <tr>\n",
       "      <th>2</th>\n",
       "      <td>0</td>\n",
       "      <td>2</td>\n",
       "      <td>4090799</td>\n",
       "      <td>3853025</td>\n",
       "    </tr>\n",
       "    <tr>\n",
       "      <th>3</th>\n",
       "      <td>0</td>\n",
       "      <td>3</td>\n",
       "      <td>4111869</td>\n",
       "      <td>3921526</td>\n",
       "    </tr>\n",
       "    <tr>\n",
       "      <th>4</th>\n",
       "      <td>0</td>\n",
       "      <td>4</td>\n",
       "      <td>4077511</td>\n",
       "      <td>4017847</td>\n",
       "    </tr>\n",
       "  </tbody>\n",
       "</table>\n",
       "</div>"
      ],
      "text/plain": [
       "   SEX  AGE     2010     2020\n",
       "0    0    0  3951495  3735010\n",
       "1    0    1  3957904  3773884\n",
       "2    0    2  4090799  3853025\n",
       "3    0    3  4111869  3921526\n",
       "4    0    4  4077511  4017847"
      ]
     },
     "execution_count": 44,
     "metadata": {},
     "output_type": "execute_result"
    }
   ],
   "source": [
    "partial = full[[ 'SEX', 'AGE', 'POPESTIMATE2010', 'POPESTIMATE2020']]\n",
    "partial.rename(columns={'POPESTIMATE2010': '2010', 'POPESTIMATE2020':'2020'}, inplace=True)\n",
    "partial.head()"
   ]
  },
  {
   "cell_type": "markdown",
   "metadata": {},
   "source": [
    "**Question 1** Let's exclude age 999 and save the table as `no_999`. (why do we want to exclude it?)"
   ]
  },
  {
   "cell_type": "code",
   "execution_count": 45,
   "metadata": {},
   "outputs": [
    {
     "data": {
      "text/html": [
       "<div>\n",
       "<style scoped>\n",
       "    .dataframe tbody tr th:only-of-type {\n",
       "        vertical-align: middle;\n",
       "    }\n",
       "\n",
       "    .dataframe tbody tr th {\n",
       "        vertical-align: top;\n",
       "    }\n",
       "\n",
       "    .dataframe thead th {\n",
       "        text-align: right;\n",
       "    }\n",
       "</style>\n",
       "<table border=\"1\" class=\"dataframe\">\n",
       "  <thead>\n",
       "    <tr style=\"text-align: right;\">\n",
       "      <th></th>\n",
       "      <th>SEX</th>\n",
       "      <th>AGE</th>\n",
       "      <th>2010</th>\n",
       "      <th>2020</th>\n",
       "    </tr>\n",
       "  </thead>\n",
       "  <tbody>\n",
       "    <tr>\n",
       "      <th>0</th>\n",
       "      <td>0</td>\n",
       "      <td>0</td>\n",
       "      <td>3951495</td>\n",
       "      <td>3735010</td>\n",
       "    </tr>\n",
       "    <tr>\n",
       "      <th>1</th>\n",
       "      <td>0</td>\n",
       "      <td>1</td>\n",
       "      <td>3957904</td>\n",
       "      <td>3773884</td>\n",
       "    </tr>\n",
       "    <tr>\n",
       "      <th>2</th>\n",
       "      <td>0</td>\n",
       "      <td>2</td>\n",
       "      <td>4090799</td>\n",
       "      <td>3853025</td>\n",
       "    </tr>\n",
       "    <tr>\n",
       "      <th>3</th>\n",
       "      <td>0</td>\n",
       "      <td>3</td>\n",
       "      <td>4111869</td>\n",
       "      <td>3921526</td>\n",
       "    </tr>\n",
       "    <tr>\n",
       "      <th>4</th>\n",
       "      <td>0</td>\n",
       "      <td>4</td>\n",
       "      <td>4077511</td>\n",
       "      <td>4017847</td>\n",
       "    </tr>\n",
       "  </tbody>\n",
       "</table>\n",
       "</div>"
      ],
      "text/plain": [
       "   SEX  AGE     2010     2020\n",
       "0    0    0  3951495  3735010\n",
       "1    0    1  3957904  3773884\n",
       "2    0    2  4090799  3853025\n",
       "3    0    3  4111869  3921526\n",
       "4    0    4  4077511  4017847"
      ]
     },
     "execution_count": 45,
     "metadata": {},
     "output_type": "execute_result"
    }
   ],
   "source": [
    "no_999 = partial[partial['AGE']==999]\n",
    "\n",
    "index_delete = partial[partial['AGE']==999].index\n",
    "partial = partial.drop(index_delete)\n",
    "partial.head()"
   ]
  },
  {
   "cell_type": "markdown",
   "metadata": {
    "scrolled": true
   },
   "source": [
    "We want to exclude those rows, because it represents the sum for female and male, so if we use it, it will duplicate the data."
   ]
  },
  {
   "cell_type": "markdown",
   "metadata": {},
   "source": [
    "**Question 2** Create one dataframe with 3 columns: Age, Male, Female, where Age should be 0 to 100, and Male and Female columns should have 2020 population of male and female for that age. Your dataframe should have 101 rows.\n",
    "\n",
    "**Hint**: First create seperate dataframes for male and female then combine. You want to use df.reset_index(drop=True), otherwise index will be matched when combining and creating lots of `NaNs`."
   ]
  },
  {
   "cell_type": "code",
   "execution_count": 46,
   "metadata": {},
   "outputs": [],
   "source": [
    "male = partial[partial['SEX'] == 1][['AGE','2020']]\n",
    "male.set_index('AGE', inplace=True)\n",
    "male.rename( columns = {'2020':'Male'} ,inplace=True)\n",
    "\n",
    "female = partial[partial['SEX'] == 2][['AGE','2020']]\n",
    "female.set_index('AGE', inplace=True)\n",
    "female.rename( columns = {'2020':'Female'} ,inplace=True)"
   ]
  },
  {
   "cell_type": "code",
   "execution_count": 47,
   "metadata": {},
   "outputs": [
    {
     "data": {
      "text/html": [
       "<div>\n",
       "<style scoped>\n",
       "    .dataframe tbody tr th:only-of-type {\n",
       "        vertical-align: middle;\n",
       "    }\n",
       "\n",
       "    .dataframe tbody tr th {\n",
       "        vertical-align: top;\n",
       "    }\n",
       "\n",
       "    .dataframe thead th {\n",
       "        text-align: right;\n",
       "    }\n",
       "</style>\n",
       "<table border=\"1\" class=\"dataframe\">\n",
       "  <thead>\n",
       "    <tr style=\"text-align: right;\">\n",
       "      <th></th>\n",
       "      <th>AGE</th>\n",
       "      <th>Male</th>\n",
       "      <th>Female</th>\n",
       "    </tr>\n",
       "  </thead>\n",
       "  <tbody>\n",
       "    <tr>\n",
       "      <th>0</th>\n",
       "      <td>0</td>\n",
       "      <td>1908141</td>\n",
       "      <td>1826869</td>\n",
       "    </tr>\n",
       "    <tr>\n",
       "      <th>1</th>\n",
       "      <td>1</td>\n",
       "      <td>1926654</td>\n",
       "      <td>1847230</td>\n",
       "    </tr>\n",
       "    <tr>\n",
       "      <th>2</th>\n",
       "      <td>2</td>\n",
       "      <td>1968545</td>\n",
       "      <td>1884480</td>\n",
       "    </tr>\n",
       "    <tr>\n",
       "      <th>3</th>\n",
       "      <td>3</td>\n",
       "      <td>2004835</td>\n",
       "      <td>1916691</td>\n",
       "    </tr>\n",
       "    <tr>\n",
       "      <th>4</th>\n",
       "      <td>4</td>\n",
       "      <td>2052982</td>\n",
       "      <td>1964865</td>\n",
       "    </tr>\n",
       "    <tr>\n",
       "      <th>...</th>\n",
       "      <td>...</td>\n",
       "      <td>...</td>\n",
       "      <td>...</td>\n",
       "    </tr>\n",
       "    <tr>\n",
       "      <th>96</th>\n",
       "      <td>96</td>\n",
       "      <td>47168</td>\n",
       "      <td>114037</td>\n",
       "    </tr>\n",
       "    <tr>\n",
       "      <th>97</th>\n",
       "      <td>97</td>\n",
       "      <td>34292</td>\n",
       "      <td>85452</td>\n",
       "    </tr>\n",
       "    <tr>\n",
       "      <th>98</th>\n",
       "      <td>98</td>\n",
       "      <td>23467</td>\n",
       "      <td>62702</td>\n",
       "    </tr>\n",
       "    <tr>\n",
       "      <th>99</th>\n",
       "      <td>99</td>\n",
       "      <td>16728</td>\n",
       "      <td>45572</td>\n",
       "    </tr>\n",
       "    <tr>\n",
       "      <th>100</th>\n",
       "      <td>100</td>\n",
       "      <td>25047</td>\n",
       "      <td>79772</td>\n",
       "    </tr>\n",
       "  </tbody>\n",
       "</table>\n",
       "<p>101 rows × 3 columns</p>\n",
       "</div>"
      ],
      "text/plain": [
       "     AGE     Male   Female\n",
       "0      0  1908141  1826869\n",
       "1      1  1926654  1847230\n",
       "2      2  1968545  1884480\n",
       "3      3  2004835  1916691\n",
       "4      4  2052982  1964865\n",
       "..   ...      ...      ...\n",
       "96    96    47168   114037\n",
       "97    97    34292    85452\n",
       "98    98    23467    62702\n",
       "99    99    16728    45572\n",
       "100  100    25047    79772\n",
       "\n",
       "[101 rows x 3 columns]"
      ]
     },
     "execution_count": 47,
     "metadata": {},
     "output_type": "execute_result"
    }
   ],
   "source": [
    "pop_2020 = pd.concat([male, female], axis=1)\n",
    "pop_2020.reset_index(inplace=True)\n",
    "pop_2020"
   ]
  },
  {
   "cell_type": "markdown",
   "metadata": {},
   "source": [
    "**Question 3**: Use visualization to show the population of male and female change over age: create two lines on the same plot to show population over age."
   ]
  },
  {
   "cell_type": "code",
   "execution_count": 48,
   "metadata": {
    "scrolled": true
   },
   "outputs": [
    {
     "data": {
      "text/plain": [
       "<AxesSubplot:xlabel='AGE'>"
      ]
     },
     "execution_count": 48,
     "metadata": {},
     "output_type": "execute_result"
    },
    {
     "data": {
      "image/png": "[encoded data removed]",
      "text/plain": [
       "<Figure size 432x288 with 1 Axes>"
      ]
     },
     "metadata": {},
     "output_type": "display_data"
    }
   ],
   "source": [
    "pop_2020.plot(x='AGE')"
   ]
  },
  {
   "cell_type": "markdown",
   "metadata": {},
   "source": [
    "**Question 4** Add one column to your above dataframe call it `Percent Female`, and the value should be the percentage of female population as total for each age. \n",
    "- Use visualization to show change of percentage of female with age. What do you see?"
   ]
  },
  {
   "cell_type": "code",
   "execution_count": 49,
   "metadata": {},
   "outputs": [
    {
     "data": {
      "text/plain": [
       "<AxesSubplot:>"
      ]
     },
     "execution_count": 49,
     "metadata": {},
     "output_type": "execute_result"
    },
    {
     "data": {
      "image/png": "[encoded data removed]",
      "text/plain": [
       "<Figure size 432x288 with 1 Axes>"
      ]
     },
     "metadata": {},
     "output_type": "display_data"
    }
   ],
   "source": [
    "pop_2020['Participation of Female'] = pop_2020['Female']/(pop_2020['Female']+pop_2020['Male'])\n",
    "pop_2020['Participation of Female'].plot(x='AGE', legend='Participation of Female')"
   ]
  },
  {
   "cell_type": "markdown",
   "metadata": {},
   "source": [
    "**Question 5**: Suppose population increase at a constant rate g each year, that is pop2021 = pop2020*(1+g). Use this assumption to calculate growth rate g from 2010 to 2020 for EACH age. Add to this column `Growth Rate` to the following dataframe `everyone`.\n",
    "\n",
    "- Visualize the change of grouth rate ove age using a line plot."
   ]
  },
  {
   "cell_type": "code",
   "execution_count": 50,
   "metadata": {},
   "outputs": [
    {
     "data": {
      "text/html": [
       "<div>\n",
       "<style scoped>\n",
       "    .dataframe tbody tr th:only-of-type {\n",
       "        vertical-align: middle;\n",
       "    }\n",
       "\n",
       "    .dataframe tbody tr th {\n",
       "        vertical-align: top;\n",
       "    }\n",
       "\n",
       "    .dataframe thead th {\n",
       "        text-align: right;\n",
       "    }\n",
       "</style>\n",
       "<table border=\"1\" class=\"dataframe\">\n",
       "  <thead>\n",
       "    <tr style=\"text-align: right;\">\n",
       "      <th></th>\n",
       "      <th>AGE</th>\n",
       "      <th>2010</th>\n",
       "      <th>2020</th>\n",
       "      <th>Growth Rate</th>\n",
       "    </tr>\n",
       "  </thead>\n",
       "  <tbody>\n",
       "    <tr>\n",
       "      <th>101</th>\n",
       "      <td>999</td>\n",
       "      <td>309327143</td>\n",
       "      <td>329484123</td>\n",
       "      <td>0.006333</td>\n",
       "    </tr>\n",
       "  </tbody>\n",
       "</table>\n",
       "</div>"
      ],
      "text/plain": [
       "     AGE       2010       2020  Growth Rate\n",
       "101  999  309327143  329484123     0.006333"
      ]
     },
     "execution_count": 50,
     "metadata": {},
     "output_type": "execute_result"
    }
   ],
   "source": [
    "everyone = no_999.loc[no_999['SEX']==0].drop(columns='SEX')\n",
    "g=(everyone['2020']/everyone['2010'])**(1/(2020-2010))-1\n",
    "everyone['Growth Rate'] = g\n",
    "everyone"
   ]
  },
  {
   "cell_type": "code",
   "execution_count": 51,
   "metadata": {},
   "outputs": [
    {
     "name": "stderr",
     "output_type": "stream",
     "text": [
      "/var/folders/_6/l3fpk3z10lb5g2csy8ykd4lw0000gn/T/ipykernel_1395/3200641707.py:2: SettingWithCopyWarning: \n",
      "A value is trying to be set on a copy of a slice from a DataFrame.\n",
      "Try using .loc[row_indexer,col_indexer] = value instead\n",
      "\n",
      "See the caveats in the documentation: https://pandas.pydata.org/pandas-docs/stable/user_guide/indexing.html#returning-a-view-versus-a-copy\n",
      "  growrate_age['Growth Rate'] = (growrate_age['2020']/growrate_age['2010'])**(1/(2020-2010))-1\n"
     ]
    },
    {
     "data": {
      "text/plain": [
       "<AxesSubplot:>"
      ]
     },
     "execution_count": 51,
     "metadata": {},
     "output_type": "execute_result"
    },
    {
     "data": {
      "image/png": "[encoded data removed]",
      "text/plain": [
       "<Figure size 432x288 with 1 Axes>"
      ]
     },
     "metadata": {},
     "output_type": "display_data"
    }
   ],
   "source": [
    "growrate_age = partial[partial['SEX']==0]\n",
    "growrate_age['Growth Rate'] = (growrate_age['2020']/growrate_age['2010'])**(1/(2020-2010))-1\n",
    "growrate_age['Growth Rate'].plot(x='AGE')"
   ]
  },
  {
   "cell_type": "markdown",
   "metadata": {},
   "source": [
    "**Question 6**: Suppose the population distribution is throwing a fair die, which is a discrete uniform distribution. Complete the following simulation to show that Central Limit Theorem (CLT) still holds, i.e., show that sample mean is approximately normal for large sample size. However, sample median is not normal for large sample size, i.e., CLT only applies to sample mean, not sample median. \n",
    "\n",
    "**Note**: you need `replace=True` in generating random samples, i.e., assume the population is infinite."
   ]
  },
  {
   "cell_type": "code",
   "execution_count": 52,
   "metadata": {},
   "outputs": [
    {
     "data": {
      "text/html": [
       "<div>\n",
       "<style scoped>\n",
       "    .dataframe tbody tr th:only-of-type {\n",
       "        vertical-align: middle;\n",
       "    }\n",
       "\n",
       "    .dataframe tbody tr th {\n",
       "        vertical-align: top;\n",
       "    }\n",
       "\n",
       "    .dataframe thead th {\n",
       "        text-align: right;\n",
       "    }\n",
       "</style>\n",
       "<table border=\"1\" class=\"dataframe\">\n",
       "  <thead>\n",
       "    <tr style=\"text-align: right;\">\n",
       "      <th></th>\n",
       "      <th>face</th>\n",
       "    </tr>\n",
       "  </thead>\n",
       "  <tbody>\n",
       "    <tr>\n",
       "      <th>0</th>\n",
       "      <td>1</td>\n",
       "    </tr>\n",
       "    <tr>\n",
       "      <th>1</th>\n",
       "      <td>2</td>\n",
       "    </tr>\n",
       "    <tr>\n",
       "      <th>2</th>\n",
       "      <td>3</td>\n",
       "    </tr>\n",
       "    <tr>\n",
       "      <th>3</th>\n",
       "      <td>4</td>\n",
       "    </tr>\n",
       "    <tr>\n",
       "      <th>4</th>\n",
       "      <td>5</td>\n",
       "    </tr>\n",
       "    <tr>\n",
       "      <th>5</th>\n",
       "      <td>6</td>\n",
       "    </tr>\n",
       "  </tbody>\n",
       "</table>\n",
       "</div>"
      ],
      "text/plain": [
       "   face\n",
       "0     1\n",
       "1     2\n",
       "2     3\n",
       "3     4\n",
       "4     5\n",
       "5     6"
      ]
     },
     "execution_count": 52,
     "metadata": {},
     "output_type": "execute_result"
    }
   ],
   "source": [
    "die = pd.DataFrame({'face': np.arange(1, 7)})\n",
    "die"
   ]
  },
  {
   "cell_type": "code",
   "execution_count": 53,
   "metadata": {},
   "outputs": [
    {
     "data": {
      "text/plain": [
       "[3.5, 3.5, 1.707825127659933]"
      ]
     },
     "execution_count": 53,
     "metadata": {},
     "output_type": "execute_result"
    }
   ],
   "source": [
    "pop_mean = np.mean(die['face'])\n",
    "pop_median = np.median(die['face'])\n",
    "pop_sd = np.std(die['face'])\n",
    "[pop_mean, pop_median, pop_sd]"
   ]
  },
  {
   "cell_type": "code",
   "execution_count": 54,
   "metadata": {},
   "outputs": [],
   "source": [
    "def sample_mean(sample_size=100):\n",
    "    \"\"\"\n",
    "    function to simulate a sample mean\n",
    "    sample_size is the sample size\n",
    "    returns one sample mean\n",
    "    \"\"\"\n",
    "    \n",
    "    return np.mean(die.sample(sample_size, replace = True))"
   ]
  },
  {
   "cell_type": "code",
   "execution_count": 55,
   "metadata": {},
   "outputs": [
    {
     "name": "stderr",
     "output_type": "stream",
     "text": [
      "/opt/anaconda3/lib/python3.9/site-packages/numpy/core/fromnumeric.py:3438: FutureWarning: In a future version, DataFrame.mean(axis=None) will return a scalar mean over the entire DataFrame. To retain the old behavior, use 'frame.mean(axis=0)' or just 'frame.mean()'\n",
      "  return mean(axis=axis, dtype=dtype, out=out, **kwargs)\n"
     ]
    },
    {
     "data": {
      "text/plain": [
       "face    3.48\n",
       "dtype: float64"
      ]
     },
     "execution_count": 55,
     "metadata": {},
     "output_type": "execute_result"
    }
   ],
   "source": [
    "# try out the function\n",
    "sample_mean(100)"
   ]
  },
  {
   "cell_type": "code",
   "execution_count": 56,
   "metadata": {},
   "outputs": [],
   "source": [
    "def sample_median(sample_size=100):\n",
    "    \"\"\"\n",
    "    function to simulate a sample median\n",
    "    sample_size is the sample size\n",
    "    returns one sample median\n",
    "    \"\"\"\n",
    "    return np.mean(die.sample(sample_size, replace = True))"
   ]
  },
  {
   "cell_type": "code",
   "execution_count": 57,
   "metadata": {},
   "outputs": [
    {
     "data": {
      "text/plain": [
       "face    3.21\n",
       "dtype: float64"
      ]
     },
     "execution_count": 57,
     "metadata": {},
     "output_type": "execute_result"
    }
   ],
   "source": [
    "# try out the function\n",
    "sample_median(100)"
   ]
  },
  {
   "cell_type": "code",
   "execution_count": 58,
   "metadata": {},
   "outputs": [],
   "source": [
    "def simu_stat(stat, sample_size, rep):\n",
    "    \"\"\"\n",
    "    function to simulate a particular statistics multiple times\n",
    "    stat is the function to calculate the statistic\n",
    "    sample_size is the sample size\n",
    "    rep is number of samples to draw\n",
    "    returns list of simulated stats\n",
    "    \"\"\"\n",
    "    boot_stats = []\n",
    "    for i in np.arange(rep):\n",
    "        boot_stats = np.append(boot_stats, stat(sample_size))\n",
    "    return boot_stats"
   ]
  },
  {
   "cell_type": "code",
   "execution_count": 59,
   "metadata": {},
   "outputs": [
    {
     "data": {
      "text/plain": [
       "array([3.73, 3.38, 3.45, 3.86, 3.52, 3.3 , 3.4 , 4.04, 3.66, 3.4 ])"
      ]
     },
     "execution_count": 59,
     "metadata": {},
     "output_type": "execute_result"
    }
   ],
   "source": [
    "# try out the function\n",
    "simu_stat(sample_mean, 100, 10)"
   ]
  },
  {
   "cell_type": "code",
   "execution_count": 60,
   "metadata": {},
   "outputs": [
    {
     "name": "stdout",
     "output_type": "stream",
     "text": [
      "Sample size:  1000\n",
      "Population mean: 3.5\n",
      "Average of sample means:  3.4995847\n",
      "Population SD: 1.707825127659933\n",
      "SD of sample means: 0.05445234637653367\n",
      "SD by CLT: 0.05400617248673217\n"
     ]
    },
    {
     "data": {
      "image/png": "[encoded data removed]",
      "text/plain": [
       "<Figure size 432x288 with 1 Axes>"
      ]
     },
     "metadata": {},
     "output_type": "display_data"
    }
   ],
   "source": [
    "# simulate sample mean\n",
    "# change the sample size n here to see different simulation results\n",
    "sample_size = 1000\n",
    "rep = 10000\n",
    "stat = sample_mean\n",
    "# call the function simu_stat\n",
    "sample_means = simu_stat(stat, sample_size, rep)\n",
    "plt.hist(sample_means, bins=40)\n",
    "plt.xlabel('Sample Means')\n",
    "plt.title('Sample Size ' + str(sample_size))\n",
    "print(\"Sample size: \", sample_size)\n",
    "print(\"Population mean:\", pop_mean)\n",
    "print(\"Average of sample means: \", np.mean(sample_means))\n",
    "print(\"Population SD:\", pop_sd)\n",
    "print(\"SD of sample means:\", np.std(sample_means))\n",
    "print(\"SD by CLT:\", pop_sd / np.sqrt(sample_size))"
   ]
  },
  {
   "cell_type": "code",
   "execution_count": 61,
   "metadata": {
    "scrolled": false
   },
   "outputs": [
    {
     "name": "stdout",
     "output_type": "stream",
     "text": [
      "Sample size:  1000\n",
      "Population median: 3.5\n",
      "Average of sample median:  3.5001401000000003\n",
      "Population SD: 1.707825127659933\n",
      "SD of sample median: 0.054314490442146285\n",
      "SD by CLT: 0.05400617248673217\n"
     ]
    },
    {
     "data": {
      "image/png": "[encoded data removed]",
      "text/plain": [
       "<Figure size 432x288 with 1 Axes>"
      ]
     },
     "metadata": {},
     "output_type": "display_data"
    }
   ],
   "source": [
    "# simulate sample median\n",
    "# change the sample size n here to see different simulation results\n",
    "# for a large enough n, say 1000, does the histogram look normal to you?\n",
    "sample_size = 1000\n",
    "rep = 10000\n",
    "stat = sample_median\n",
    "# call the function simu_stat\n",
    "sample_medians = simu_stat(stat, sample_size, rep)\n",
    "plt.hist(sample_medians)\n",
    "plt.xlabel('Sample Median')\n",
    "plt.title('Sample Size ' + str(sample_size))\n",
    "print(\"Sample size: \", sample_size)\n",
    "print(\"Population median:\", pop_median)\n",
    "print(\"Average of sample median: \", np.mean(sample_medians))\n",
    "print(\"Population SD:\", pop_sd)\n",
    "print(\"SD of sample median:\", np.std(sample_medians))\n",
    "print(\"SD by CLT:\", pop_sd/np.sqrt(sample_size))"
   ]
  },
  {
   "cell_type": "markdown",
   "metadata": {},
   "source": [
    "**Question 7**:\n",
    "Let $X_1, \\dots, X_n \\overset{\\text{i.i.d.}} \\sim \\text{Uniform}(0, \\theta)$ where $\\theta$ is the unknown parameter and $0 < \\theta$. Find the MLE $\\hat{\\theta}$."
   ]
  },
  {
   "cell_type": "markdown",
   "metadata": {},
   "source": [
    "**Solution**:\n",
    "\n",
    "\n"
   ]
  },
  {
   "cell_type": "markdown",
   "metadata": {},
   "source": [
    "We can obtain de PDF:\n",
    "\n",
    "$\n",
    "PDF=\n",
    "\\begin{cases}\n",
    "\\frac{1}{\\theta} & x \\in [0,\\theta] \\\\\n",
    "0 &\\text{o.w.}  \\\\\n",
    "\\end{cases}\n",
    "$\n",
    "\n",
    "From it we can define our likelihood function:\n",
    "\n",
    "$L(\\theta|x_i) = \\Pi^n_{i=1} \\frac{1}{\\theta}$\n",
    "\n",
    "$L(\\theta|x_i) = (\\frac{1}{\\theta})^n$ , where $0<x_i\\leq \\theta$\n",
    "\n",
    "If we think about this function, it increases as $\\theta$ tends to 0. Therefore, we have to minimize the value of $\\theta$, in oreder to maximize the function. As the value $\\theta$ is constraint, such that it has to be greater or equal to all values of $X_i$.\n",
    "\n",
    "The minimum value that $\\theta$ can have is $max\\{X_1, X_2, ..., X_n\\}$. Therefore:\n",
    "\n",
    "$\\hat{\\theta} = max\\{X_1, X_2, ..., X_n\\}$\n",
    "\n"
   ]
  },
  {
   "cell_type": "markdown",
   "metadata": {},
   "source": [
    "**Question 8**:\n",
    "\n",
    "Let $X_1, X_2, \\cdots X_n \\sim \\text{Uniform}(0, \\theta)$. Define the two point estimate:\n",
    "\n",
    "$$ \\hat{\\theta}^1 = \\max \\{X_1, X_2, \\cdots X_n\\} \\quad \\hat{\\theta}^2 = 2 \\bar{X}_n $$ \n",
    "\n",
    "Find the mean square error for both $\\hat{\\theta}^1$ and $\\hat{\\theta}^2$. Which one has the smaller MSE?\n",
    "\n",
    "**Hint**: use MSE = $\\text{bias}^2$ + variance"
   ]
  },
  {
   "cell_type": "markdown",
   "metadata": {},
   "source": [
    "**Solution**:\n",
    "\n"
   ]
  },
  {
   "cell_type": "markdown",
   "metadata": {},
   "source": [
    "From last problem, we know that:\n",
    "\n",
    "$\n",
    "PDF=\n",
    "\\begin{cases}\n",
    "\\frac{1}{\\theta} & x \\in [0,\\theta] \\\\\n",
    "0 &\\text{o.w.}  \\\\\n",
    "\\end{cases}\n",
    "$\n",
    "\n",
    "$\n",
    "CDF=\n",
    "\\begin{cases}\n",
    "0 & x < 0 \\\\\n",
    "\\frac{x}{\\theta} & x \\in [0,\\theta] \\\\\n",
    "1 & x>1  \\\\\n",
    "\\end{cases}\n",
    "$"
   ]
  },
  {
   "cell_type": "markdown",
   "metadata": {},
   "source": [
    "#### 1) $\\hat{\\theta}_1 = \\max \\{X_1, X_2, \\cdots X_n\\}$\n",
    "\n",
    "We can define $y = \\max \\{X_1, X_2, \\cdots X_n\\}$, so that:\n",
    "\n",
    "$f_{\\hat{\\theta}_1} = n \\frac{1}{\\theta} (\\frac{y}{\\theta})^{(n-1)} = n \\frac{y^{n-1}}{\\theta^n}$\n",
    "\n",
    "We can then calculate the bias:\n",
    "\n",
    "$bias_{\\hat{\\theta}_1} = \\mathbb{E}[\\hat{\\theta}_1]-\\theta$\n",
    "\n",
    "$=\\int_0^\\theta y \\cdot \\frac{n y^{n-1}}{\\theta^n} d y - \\theta$\n",
    "\n",
    "$=\\left[\\frac{n}{\\theta^n} \\frac{y^{n+1}}{n+1}\\right]_0^\\theta-\\theta$\n",
    "\n",
    "$=\\frac{n \\theta^{n+1}}{\\theta^n (n+1)}-\\theta$\n",
    "\n",
    "$=-\\frac{\\theta}{n+1}$\n",
    "\n",
    "Then the variance:\n",
    "\n",
    "$\\operatorname{Var}(\\hat{\\theta}_1) =\\mathbb{E}\\left[\\hat{\\theta}^2\\right]-\\mathbb{E}[\\hat{\\theta}]^2$\n",
    "\n",
    "$ =\\int_0^\\theta y^2 \\cdot \\frac{n y^{n-1}}{\\theta^n} d y-\\left(\\frac{n \\theta}{n+1}\\right)^2$\n",
    "\n",
    "$ =\\left[\\frac{n}{\\theta^n} \\cdot \\frac{y^{n+2}}{n+2}\\right]_0^\\theta-\\left(\\frac{n \\theta}{n+1}\\right)^2$\n",
    "\n",
    "$=\\frac{n(\\theta)^{n+2}}{\\theta^n(n+2)}-\\left(\\frac{n \\theta}{n+1}\\right)^2$\n",
    "\n",
    "$=\\frac{n \\theta^2}{n+2}-\\frac{(n \\theta)^2}{(n+1)^2}$\n",
    "\n",
    "$=\\frac{\\theta^2 n}{(n+2)(n+1)^2}$\n",
    "\n",
    "Finally, we can calculate the Mean Square Error of $\\hat{\\theta}_1$:\n",
    "\n",
    "$MSE_{\\theta_1}= \\operatorname{Var}(\\hat{\\theta}_1) + (bias_{\\hat{\\theta}_1})^2$\n",
    "\n",
    "$=\\frac{\\theta^2 n}{(n+2)(n+1)^2} + (-\\frac{\\theta}{n+1})^2$\n",
    "\n",
    "$=\\frac{\\theta^2 (2n+2)}{(n+2)(n+1)^2}$\n",
    "\n",
    "$=\\frac{2\\theta^2}{(n+2)(n+1)}$"
   ]
  },
  {
   "cell_type": "markdown",
   "metadata": {},
   "source": [
    "#### 2) $\\hat{\\theta}_2 = 2 \\bar{X_n} = \\frac{2}{n} \\sum_{i=1}^n x_i$ \n",
    "\n",
    "We calculate first the bias:\n",
    "\n",
    "$bias_{\\hat{\\theta}_2} = \\mathbb{E}[\\hat{\\theta}_2]-\\theta$\n",
    "\n",
    "$bias_{\\hat{\\theta}_2} = \\mathbb{E}[\\frac{2}{n} \\sum_{i=1}^n x_i]-\\theta$\n",
    "\n",
    "$bias_{\\hat{\\theta}_2} = \\frac{2}{n} \\mathbb{E}[\\sum_{i=1}^n x_i]-\\theta$\n",
    "\n",
    "As the random variables follow an uniform distribution, we know that the expectation of a single X is $\\mathbb{E}[X]= \\frac{b-a}{2}=\\frac{\\theta}{2}$. As they are independent variables are independent $\\sum_{i=1}^n \\mathbb{E}[x_i]= n\\frac{b-a}{2}=n \\frac{\\theta}{2}$.\n",
    "\n",
    "$bias_{\\hat{\\theta}_2} = \\frac{2}{n} n \\frac{\\theta}{2}-\\theta$\n",
    "\n",
    "$bias_{\\hat{\\theta}_2} = 0$\n",
    "\n",
    "\n",
    "We can then calculate the variance:\n",
    "\n",
    "$\\operatorname{Var}(\\hat{\\theta}_2) = \\operatorname{Var}(\\frac{2 \\sum_{i=1}^n x_i]}{n})$\n",
    "\n",
    "$\\operatorname{Var}(\\hat{\\theta}_2) = \\frac{4}{n^2} \\operatorname{Var}(\\sum_{i=1}^n x_i)$\n",
    "\n",
    "\n",
    "As the random variables follow an uniform distribution, we know that the variance of a single X is $\\operatorname{Var}(X)= \\frac{(b-a)^2}{12}=\\frac{\\theta^2}{12}$. As they are independent variables are independent $\\sum_{i=1}^n \\operatorname{Var}(X)= n\\frac{(b-a)^2}{12}=n \\frac{\\theta^2}{12}$.\n",
    "\n",
    "$\\operatorname{Var}(\\hat{\\theta}_2) = \\frac{4}{n^2}n\\frac{\\theta^2}{12}$\n",
    "\n",
    "$\\operatorname{Var}(\\hat{\\theta}_2) = \\frac{\\theta^2}{3n}$\n",
    "\n",
    "Finally, we can calculate the Mean Square Error of $\\hat{\\theta}_2$:\n",
    "\n",
    "$MSE_{\\hat{\\theta}_2}= \\operatorname{Var}(\\hat{\\theta}_2) + (bias_{\\hat{\\theta}_1})^2$\n",
    "\n",
    "$MSE_{\\hat{\\theta}_2}= \\frac{\\theta^2}{3n}$"
   ]
  },
  {
   "cell_type": "markdown",
   "metadata": {},
   "source": [
    "For n>1, $MSE_{\\hat{\\theta}_2} > MSE_{\\hat{\\theta}_1}$, therefore we can conclude that $\\hat{\\theta}_1$ is a better estimador than $\\hat{\\theta}_2$."
   ]
  },
  {
   "cell_type": "markdown",
   "metadata": {},
   "source": [
    "**Question 9**: The file `geysers.csv` has data on eruption times and waiting times between eruptions of the old faithful geyser at the [Yellowstone National Park](https://www.nps.gov/yell/index.htm).\n",
    "\n",
    "- Estimate the mean waiting time. \n",
    "- Use Central Limit Theorem, give a standard error and a 90% confidence interval for the mean waiting time.\n",
    "- Estimate the median waiting time.\n",
    "- Use Bootstrap, give a standard error and a 90% confidence interval for the median waiting time. \n"
   ]
  },
  {
   "cell_type": "code",
   "execution_count": 62,
   "metadata": {},
   "outputs": [
    {
     "data": {
      "text/html": [
       "<div>\n",
       "<style scoped>\n",
       "    .dataframe tbody tr th:only-of-type {\n",
       "        vertical-align: middle;\n",
       "    }\n",
       "\n",
       "    .dataframe tbody tr th {\n",
       "        vertical-align: top;\n",
       "    }\n",
       "\n",
       "    .dataframe thead th {\n",
       "        text-align: right;\n",
       "    }\n",
       "</style>\n",
       "<table border=\"1\" class=\"dataframe\">\n",
       "  <thead>\n",
       "    <tr style=\"text-align: right;\">\n",
       "      <th></th>\n",
       "      <th>eruptions</th>\n",
       "      <th>waiting</th>\n",
       "    </tr>\n",
       "  </thead>\n",
       "  <tbody>\n",
       "    <tr>\n",
       "      <th>0</th>\n",
       "      <td>3.600</td>\n",
       "      <td>79</td>\n",
       "    </tr>\n",
       "    <tr>\n",
       "      <th>1</th>\n",
       "      <td>1.800</td>\n",
       "      <td>54</td>\n",
       "    </tr>\n",
       "    <tr>\n",
       "      <th>2</th>\n",
       "      <td>3.333</td>\n",
       "      <td>74</td>\n",
       "    </tr>\n",
       "    <tr>\n",
       "      <th>3</th>\n",
       "      <td>2.283</td>\n",
       "      <td>62</td>\n",
       "    </tr>\n",
       "    <tr>\n",
       "      <th>4</th>\n",
       "      <td>4.533</td>\n",
       "      <td>85</td>\n",
       "    </tr>\n",
       "    <tr>\n",
       "      <th>...</th>\n",
       "      <td>...</td>\n",
       "      <td>...</td>\n",
       "    </tr>\n",
       "    <tr>\n",
       "      <th>267</th>\n",
       "      <td>4.117</td>\n",
       "      <td>81</td>\n",
       "    </tr>\n",
       "    <tr>\n",
       "      <th>268</th>\n",
       "      <td>2.150</td>\n",
       "      <td>46</td>\n",
       "    </tr>\n",
       "    <tr>\n",
       "      <th>269</th>\n",
       "      <td>4.417</td>\n",
       "      <td>90</td>\n",
       "    </tr>\n",
       "    <tr>\n",
       "      <th>270</th>\n",
       "      <td>1.817</td>\n",
       "      <td>46</td>\n",
       "    </tr>\n",
       "    <tr>\n",
       "      <th>271</th>\n",
       "      <td>4.467</td>\n",
       "      <td>74</td>\n",
       "    </tr>\n",
       "  </tbody>\n",
       "</table>\n",
       "<p>272 rows × 2 columns</p>\n",
       "</div>"
      ],
      "text/plain": [
       "     eruptions  waiting\n",
       "0        3.600       79\n",
       "1        1.800       54\n",
       "2        3.333       74\n",
       "3        2.283       62\n",
       "4        4.533       85\n",
       "..         ...      ...\n",
       "267      4.117       81\n",
       "268      2.150       46\n",
       "269      4.417       90\n",
       "270      1.817       46\n",
       "271      4.467       74\n",
       "\n",
       "[272 rows x 2 columns]"
      ]
     },
     "execution_count": 62,
     "metadata": {},
     "output_type": "execute_result"
    }
   ],
   "source": [
    "geyser = pd.read_csv(\"geysers.csv\")\n",
    "geyser"
   ]
  },
  {
   "cell_type": "code",
   "execution_count": 63,
   "metadata": {},
   "outputs": [],
   "source": [
    "waiting_time = []\n",
    "rep=100000\n",
    "for dummy in range(rep):\n",
    "    sample_x = geyser['waiting'].sample(30, replace=True)\n",
    "    waiting_time.append(np.mean(sample_x))"
   ]
  },
  {
   "cell_type": "code",
   "execution_count": 64,
   "metadata": {},
   "outputs": [
    {
     "data": {
      "image/png": "[encoded data removed]",
      "text/plain": [
       "<Figure size 432x288 with 1 Axes>"
      ]
     },
     "metadata": {},
     "output_type": "display_data"
    }
   ],
   "source": [
    "plt.hist(waiting_time, bins=40)\n",
    "plt.show()"
   ]
  },
  {
   "cell_type": "code",
   "execution_count": 65,
   "metadata": {},
   "outputs": [
    {
     "name": "stdout",
     "output_type": "stream",
     "text": [
      "2.4831431280396536\n"
     ]
    }
   ],
   "source": [
    "mean_est = np.mean(waiting_time)\n",
    "sample_size = geyser.shape[0]\n",
    "# approx standard error by CLT\n",
    "mean_est_se = np.std(waiting_time)\n",
    "print(mean_est_se)"
   ]
  },
  {
   "cell_type": "code",
   "execution_count": 66,
   "metadata": {},
   "outputs": [],
   "source": [
    "import scipy.stats\n",
    "\n",
    "alpha = 0.1\n",
    "# get the normal percentile\n",
    "z_95 = scipy.stats.norm.ppf(1 - alpha/2)\n",
    "mean_ci_l = mean_est-(z_95*mean_est_se)\n",
    "mean_ci_u = mean_est+(z_95*mean_est_se)\n",
    "mean_ci = (mean_ci_l, mean_ci_u)"
   ]
  },
  {
   "cell_type": "code",
   "execution_count": 67,
   "metadata": {},
   "outputs": [
    {
     "data": {
      "text/plain": [
       "70.93333333333334"
      ]
     },
     "execution_count": 67,
     "metadata": {},
     "output_type": "execute_result"
    }
   ],
   "source": [
    "median_est = np.median(waiting_time)\n",
    "median_est"
   ]
  },
  {
   "cell_type": "code",
   "execution_count": 68,
   "metadata": {},
   "outputs": [],
   "source": [
    "# bootstrap\n",
    "random.seed = 2022\n",
    "rep = 10000\n",
    "boot_median = []\n",
    "\n",
    "for i in range(rep):\n",
    "    boot_sample = geyser['waiting'].sample(30, replace=True)\n",
    "    median_est = np.median(boot_sample)\n",
    "    boot_median = np.append(boot_median, median_est)"
   ]
  },
  {
   "cell_type": "code",
   "execution_count": 69,
   "metadata": {},
   "outputs": [],
   "source": [
    "median_est_se = np.std(boot_median)"
   ]
  },
  {
   "cell_type": "code",
   "execution_count": 87,
   "metadata": {},
   "outputs": [],
   "source": [
    "# bootstrap percentile interval\n",
    "median_ci_l = median_est-(z_95*median_est_se)\n",
    "median_ci_u = median_est+(z_95*median_est_se)\n",
    "median_ci =(median_ci_l, median_ci_u)"
   ]
  },
  {
   "cell_type": "code",
   "execution_count": 89,
   "metadata": {},
   "outputs": [
    {
     "data": {
      "text/plain": [
       "(66.0, 79.0)"
      ]
     },
     "execution_count": 89,
     "metadata": {},
     "output_type": "execute_result"
    }
   ],
   "source": [
    "#new answer (do not know if it is right)\n",
    "median_ci_u = np.percentile(boot_median, 95)\n",
    "median_ci_l = np.percentile(boot_median, 5)\n",
    "median_ci =(median_ci_l, median_ci_u)\n",
    "median_ci"
   ]
  },
  {
   "cell_type": "code",
   "execution_count": 90,
   "metadata": {
    "scrolled": true
   },
   "outputs": [
    {
     "name": "stdout",
     "output_type": "stream",
     "text": [
      "Mean waiting time is: 70.895 with standard error: 2.483\n",
      "90% confidence interval for mean waiting time is: 66.811, 74.980\n",
      "Median waiting time is: 77.000 with standard error: 3.899\n",
      "90% confidence interval for median waiting time is: 66.000, 79.000\n"
     ]
    }
   ],
   "source": [
    "print(\"Mean waiting time is: %.3f\" % mean_est, \"with standard error: %.3f\" % mean_est_se)\n",
    "print(\"90%% confidence interval for mean waiting time is: %.3f, %.3f\"  % mean_ci)\n",
    "print(\"Median waiting time is: %.3f\" % median_est, \"with standard error: %.3f\" % median_est_se)\n",
    "print(\"90%% confidence interval for median waiting time is: %.3f, %.3f\" % median_ci)"
   ]
  },
  {
   "cell_type": "markdown",
   "metadata": {},
   "source": [
    "**Question 10**: Let $X_1, \\dots, X_n \\overset{\\text{i.i.d.}} \\sim N(\\mu=3, \\sigma^2=1)$.  Let $\\theta = e^\\mu$. We know the maximum likelihood estimator(MLE) of $\\mu$ is sample mean $\\bar{X_n}$. It turns out that $\\hat{\\theta} = e^{\\overline{X}}$ is the MLE of $\\theta$. This is known as functional invariance of MLE: \n",
    "\n",
    "If $\\hat{\\theta}$ is the MLE for $\\theta$, and $g(\\theta )$ is the transformation of $\\theta$ through a given function $g$, then the MLE for $\\alpha = g(\\theta)$ is $\\hat{\\alpha }=g(\\hat {\\theta })$.   \n",
    "\n",
    "Create a dataset consisting of $n = 100$ observations. Use **both non-parametric and parametric bootstrap** to get the 95% confidence interval for $\\theta$. Plot a histogram of the bootstrap replications for the parametric and non-parametric bootstraps to compare the estimates of the distribution of $\\hat{\\theta}$.  \n",
    "\n",
    "**Bonus**: In this case, we can also derive the true sampling distribution of $\\hat{\\theta}$ analytically. Since we know the sampling distribution of $\\bar{X_n}$, and $\\hat{\\theta}$ is a transformation of $\\bar{X_n}$. Give it a try!"
   ]
  },
  {
   "cell_type": "code",
   "execution_count": 73,
   "metadata": {},
   "outputs": [
    {
     "data": {
      "text/html": [
       "<div>\n",
       "<style scoped>\n",
       "    .dataframe tbody tr th:only-of-type {\n",
       "        vertical-align: middle;\n",
       "    }\n",
       "\n",
       "    .dataframe tbody tr th {\n",
       "        vertical-align: top;\n",
       "    }\n",
       "\n",
       "    .dataframe thead th {\n",
       "        text-align: right;\n",
       "    }\n",
       "</style>\n",
       "<table border=\"1\" class=\"dataframe\">\n",
       "  <thead>\n",
       "    <tr style=\"text-align: right;\">\n",
       "      <th></th>\n",
       "      <th>Data</th>\n",
       "    </tr>\n",
       "  </thead>\n",
       "  <tbody>\n",
       "    <tr>\n",
       "      <th>0</th>\n",
       "      <td>2.312193</td>\n",
       "    </tr>\n",
       "    <tr>\n",
       "      <th>1</th>\n",
       "      <td>3.016963</td>\n",
       "    </tr>\n",
       "    <tr>\n",
       "      <th>2</th>\n",
       "      <td>2.647587</td>\n",
       "    </tr>\n",
       "    <tr>\n",
       "      <th>3</th>\n",
       "      <td>2.942626</td>\n",
       "    </tr>\n",
       "    <tr>\n",
       "      <th>4</th>\n",
       "      <td>2.637780</td>\n",
       "    </tr>\n",
       "  </tbody>\n",
       "</table>\n",
       "</div>"
      ],
      "text/plain": [
       "       Data\n",
       "0  2.312193\n",
       "1  3.016963\n",
       "2  2.647587\n",
       "3  2.942626\n",
       "4  2.637780"
      ]
     },
     "execution_count": 73,
     "metadata": {},
     "output_type": "execute_result"
    }
   ],
   "source": [
    "random.seed = 2022\n",
    "mean = 3\n",
    "sd = 1\n",
    "sample_size = 100\n",
    "X = np.random.normal(loc=mean, scale=sd**(1/2), size=sample_size)\n",
    "data = pd.DataFrame({\"Data\": X})\n",
    "data.head()"
   ]
  },
  {
   "cell_type": "code",
   "execution_count": 74,
   "metadata": {},
   "outputs": [
    {
     "name": "stderr",
     "output_type": "stream",
     "text": [
      "/opt/anaconda3/lib/python3.9/site-packages/numpy/core/fromnumeric.py:3438: FutureWarning: In a future version, DataFrame.mean(axis=None) will return a scalar mean over the entire DataFrame. To retain the old behavior, use 'frame.mean(axis=0)' or just 'frame.mean()'\n",
      "  return mean(axis=axis, dtype=dtype, out=out, **kwargs)\n"
     ]
    }
   ],
   "source": [
    "# non-parametric bootstrap \n",
    "random.seed = 2022\n",
    "rep = 10000\n",
    "np_boot_theta_hat = []\n",
    "\n",
    "for i in range(rep):\n",
    "    boot = data.sample(sample_size, replace = True)\n",
    "    theta_hat = np.exp(np.mean(boot))\n",
    "    np_boot_theta_hat = np.append(np_boot_theta_hat, theta_hat)"
   ]
  },
  {
   "cell_type": "code",
   "execution_count": 75,
   "metadata": {},
   "outputs": [
    {
     "data": {
      "text/plain": [
       "array([15.84570424, 16.57501968, 22.12664239, ..., 18.51468761,\n",
       "       17.81097179, 17.88128558])"
      ]
     },
     "execution_count": 75,
     "metadata": {},
     "output_type": "execute_result"
    }
   ],
   "source": [
    "np_boot_theta_hat"
   ]
  },
  {
   "cell_type": "code",
   "execution_count": 76,
   "metadata": {},
   "outputs": [],
   "source": [
    "np_boot_ci_l = np.percentile(np_boot_theta_hat, 2.5)\n",
    "np_boot_ci_u = np.percentile(np_boot_theta_hat, 97.5)\n",
    "np_boot_ci = (np_boot_ci_l, np_boot_ci_u)"
   ]
  },
  {
   "cell_type": "code",
   "execution_count": 77,
   "metadata": {},
   "outputs": [],
   "source": [
    "# parametric bootstrap \n",
    "random.seed = 2022\n",
    "rep = 10000\n",
    "boot_theta_hat = []\n",
    "mu_hat = np.mean(X)\n",
    "deviation = np.std(data)\n",
    "\n",
    "for i in range(rep):\n",
    "    boot = np.random.normal(loc = mu_hat, scale = deviation, size=sample_size)\n",
    "    theta_hat = np.exp(np.mean(boot))\n",
    "    boot_theta_hat = np.append(boot_theta_hat, theta_hat)    "
   ]
  },
  {
   "cell_type": "code",
   "execution_count": 78,
   "metadata": {},
   "outputs": [],
   "source": [
    "boot_ci_l = np.percentile(boot_theta_hat, 2.5)\n",
    "boot_ci_u = np.percentile(boot_theta_hat, 97.5)\n",
    "boot_ci = (boot_ci_l, boot_ci_u)"
   ]
  },
  {
   "cell_type": "code",
   "execution_count": 79,
   "metadata": {},
   "outputs": [
    {
     "name": "stdout",
     "output_type": "stream",
     "text": [
      "95% non-parametric bootstrap confidence interval is: 14.743, 24.055\n",
      "95% parametric bootstrap confidence interval is: 14.752, 24.092\n"
     ]
    }
   ],
   "source": [
    "print(\"95%% non-parametric bootstrap confidence interval is: %.3f, %.3f\"  % np_boot_ci)\n",
    "print(\"95%% parametric bootstrap confidence interval is: %.3f, %.3f\" % boot_ci)"
   ]
  },
  {
   "cell_type": "code",
   "execution_count": 80,
   "metadata": {},
   "outputs": [
    {
     "data": {
      "image/png": "[encoded data removed]",
      "text/plain": [
       "<Figure size 432x288 with 1 Axes>"
      ]
     },
     "metadata": {},
     "output_type": "display_data"
    }
   ],
   "source": [
    "# plot sampling distribution of theta estimated by both non-parametric and parametric bootstrap\n",
    "plt.hist(np_boot_theta_hat, bins=20, label='non-parametric bootstrap', alpha=0.4)\n",
    "plt.hist(boot_theta_hat, bins=20, label='parametric bootstrap', alpha=0.4)\n",
    "plt.scatter(np.exp(mean), 30, color='r')\n",
    "plt.xlabel('theta estimate')\n",
    "plt.ylabel('count')\n",
    "plt.legend();"
   ]
  },
  {
   "cell_type": "markdown",
   "metadata": {},
   "source": [
    "**Bonus Solution**: "
   ]
  },
  {
   "cell_type": "markdown",
   "metadata": {},
   "source": [
    "You're done with HW 3!  Be sure to...\n",
    "\n",
    "* **Save and Checkpoint** from the File menu,\n",
    "* **Close and Halt** from the File menu,\n",
    "* **Rename your ipynb file**, replacing LASTNAME with your last name,\n",
    "* **Upload** your file to the course website."
   ]
  }
 ],
 "metadata": {
  "kernelspec": {
   "display_name": "Python 3 (ipykernel)",
   "language": "python",
   "name": "python3"
  },
  "language_info": {
   "codemirror_mode": {
    "name": "ipython",
    "version": 3
   },
   "file_extension": ".py",
   "mimetype": "text/x-python",
   "name": "python",
   "nbconvert_exporter": "python",
   "pygments_lexer": "ipython3",
   "version": "3.9.12"
  }
 },
 "nbformat": 4,
 "nbformat_minor": 4
}
