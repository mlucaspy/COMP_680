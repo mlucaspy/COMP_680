{
 "cells": [
  {
   "cell_type": "markdown",
   "metadata": {},
   "source": [
    "<img style=\"float: left;\" src=\"attachment:D2Klogo.png\" width=\"20%\"> \n",
    "\n",
    "<center>\n",
    "\n",
    "# Welcome to COMP 680 #\n",
    "### Statistics for Computing and Data Science ###\n",
    "\n",
    "### Homework 4 ###"
   ]
  },
  {
   "cell_type": "code",
   "execution_count": 1,
   "metadata": {},
   "outputs": [],
   "source": [
    "### standard imports\n",
    "import numpy as np\n",
    "import pandas as pd\n",
    "\n",
    "import matplotlib.pyplot as plt\n",
    "%matplotlib inline  \n",
    "plt.style.use('fivethirtyeight')\n",
    "plt.rcParams[\"patch.force_edgecolor\"] = True\n",
    "import seaborn as sns\n",
    "\n",
    "import random\n",
    "random.seed(2021)\n",
    "\n",
    "import statsmodels.api as sm\n",
    "import scipy.stats as st"
   ]
  },
  {
   "cell_type": "markdown",
   "metadata": {},
   "source": [
    "## Part I: Simulation Study\n",
    "\n",
    "In this part, we will carry out simulation study to calculate Type I and Power (Type II error) empirically. Let's use the Swain vs. Alabama example in class to carry out the simulation study. "
   ]
  },
  {
   "cell_type": "markdown",
   "metadata": {},
   "source": [
    "**Question 1.1**: Design a simulation study to calculate Type I error, use $\\alpha = 0.05$. Before you proceed, develop a plan and some pseudo code for the simulation."
   ]
  },
  {
   "cell_type": "code",
   "execution_count": 2,
   "metadata": {},
   "outputs": [],
   "source": [
    "### define some parameters\n",
    "\n",
    "# significance level\n",
    "alpha = 0.05\n",
    "# population proportion in null hypothesis\n",
    "null_p = 0.26 #percentage of black people in the population\n",
    "# sample size\n",
    "sample_size = 100 #jury size\n",
    "# number of times to simulate\n",
    "rep = 1000000"
   ]
  },
  {
   "cell_type": "code",
   "execution_count": 3,
   "metadata": {},
   "outputs": [],
   "source": [
    "# simulate the sampling distribution of the test stat under the null\n",
    "simu_null_dist = np.random.binomial(n=sample_size, p=null_p, size=rep)"
   ]
  },
  {
   "cell_type": "code",
   "execution_count": 4,
   "metadata": {},
   "outputs": [
    {
     "data": {
      "image/png": "[encoded data removed]",
      "text/plain": [
       "<Figure size 432x288 with 1 Axes>"
      ]
     },
     "metadata": {},
     "output_type": "display_data"
    }
   ],
   "source": [
    "# create a histogram of the sampling distribution of the test stat under the null\n",
    "# why it is so normal\n",
    "plt.hist(simu_null_dist, bins=20, alpha=0.4, density=True)\n",
    "plt.title(\"Sampling Distribution Under the Null\");"
   ]
  },
  {
   "cell_type": "code",
   "execution_count": 5,
   "metadata": {},
   "outputs": [],
   "source": [
    "# carry out tests when null is true\n",
    "num_test = 10000\n",
    "# in this case, obs_stat should be from null distribution as well\n",
    "obs_stat = np.random.binomial(n=sample_size, p=0.26, size=num_test)"
   ]
  },
  {
   "cell_type": "code",
   "execution_count": 6,
   "metadata": {},
   "outputs": [],
   "source": [
    "# place holder to same all p-values\n",
    "# how many of p-values? same as length of obs_stat\n",
    "p_values = []\n",
    "for i in obs_stat:\n",
    "    # how to calculate p-values in this case?\n",
    "    one_p_value = np.average(simu_null_dist <= i)\n",
    "    p_values = np.append(p_values, one_p_value)"
   ]
  },
  {
   "cell_type": "code",
   "execution_count": 7,
   "metadata": {},
   "outputs": [
    {
     "data": {
      "text/plain": [
       "0.0373"
      ]
     },
     "execution_count": 7,
     "metadata": {},
     "output_type": "execute_result"
    }
   ],
   "source": [
    "### Type I Error\n",
    "\n",
    "# this is when you reject but null is true\n",
    "# we reject when p-values < alpha\n",
    "I_error = np.average(p_values <= alpha)\n",
    "# you should expect I_error < alpha, why???\n",
    "I_error"
   ]
  },
  {
   "cell_type": "code",
   "execution_count": 8,
   "metadata": {},
   "outputs": [
    {
     "data": {
      "image/png": "[encoded data removed]",
      "text/plain": [
       "<Figure size 432x288 with 1 Axes>"
      ]
     },
     "metadata": {},
     "output_type": "display_data"
    }
   ],
   "source": [
    "### Distribution of p-values under the null\n",
    "\n",
    "plt.hist(p_values, alpha=0.4, density=True)\n",
    "plt.title(\"P-value Distribution Under the Null\");"
   ]
  },
  {
   "cell_type": "markdown",
   "metadata": {},
   "source": [
    "The purpose of plotting all the p-values is to convince you that p-values under the null follow Uniform[0, 1] distribution. If it is not so obvious, increase the number of test to 1000000 (warning: it may take a long time to run...)\n",
    "\n",
    "We will not do the proof, but if you remember a CDF of any continuous random variable is a Uniform[0, 1]. While a p-value under the null is not exactly a CDF, but a tail probability is almost the CDF…"
   ]
  },
  {
   "cell_type": "markdown",
   "metadata": {},
   "source": [
    "**Question 1.2**: Design a simulation study to calculate Type II error and Power, also use $\\alpha = 0.05$. Now this is a scenario that the observed data is not from the null hypothesis. In order to be able to calculate the probability, we will need to make an assumption about what the \"true\" data generating mechanism is. But the beauty of simulation is that you can always change the assumptions and rerun your code! You can also reuse some of the parameters we defined in previous question, including the `simu_null_dist`."
   ]
  },
  {
   "cell_type": "code",
   "execution_count": 9,
   "metadata": {},
   "outputs": [],
   "source": [
    "### define some more parameters\n",
    "\n",
    "# \"the real population proportion\" that data is from\n",
    "# let's assume it is 0.15 instead of 0.26 which reflect selection bias of jury panel\n",
    "pop_p = 0.15"
   ]
  },
  {
   "cell_type": "code",
   "execution_count": 10,
   "metadata": {},
   "outputs": [],
   "source": [
    "# generate data to perform the tests\n",
    "num_test = 10000\n",
    "# in this case, obs_stat should NOT be from the null\n",
    "# but from some alternative distribution defined by pop_p\n",
    "obs_stat = np.random.binomial(n=sample_size, p=pop_p, size=num_test)"
   ]
  },
  {
   "cell_type": "code",
   "execution_count": 11,
   "metadata": {},
   "outputs": [],
   "source": [
    "# carry out tests when null is NOT true\n",
    "# calculate the p-values for each test\n",
    "# notice p-values are calculated in the same way as in previous problem!\n",
    "p_values = []\n",
    "for i in obs_stat:\n",
    "    one_p_value = np.average(simu_null_dist <= i)\n",
    "    p_values = np.append(p_values, one_p_value)"
   ]
  },
  {
   "cell_type": "code",
   "execution_count": 12,
   "metadata": {},
   "outputs": [
    {
     "data": {
      "text/plain": [
       "array([1.52168e-01, 6.55230e-02, 1.22120e-02, ..., 1.22120e-02,\n",
       "       1.90000e-05, 4.90000e-04])"
      ]
     },
     "execution_count": 12,
     "metadata": {},
     "output_type": "execute_result"
    }
   ],
   "source": [
    "p_values"
   ]
  },
  {
   "cell_type": "code",
   "execution_count": 13,
   "metadata": {},
   "outputs": [
    {
     "name": "stdout",
     "output_type": "stream",
     "text": [
      "0.1632 0.8368\n"
     ]
    }
   ],
   "source": [
    "### Type II Error and Power\n",
    "\n",
    "# this is when you fail to reject but null is NOT true\n",
    "II_error = np.average(p_values > alpha)\n",
    "# Power is 1 - type II error\n",
    "Power = 1 - II_error\n",
    "print(II_error, Power)"
   ]
  },
  {
   "cell_type": "markdown",
   "metadata": {},
   "source": [
    "**Question 1.3**: Now rewrite the code into modular functions, and perform a power analysis. In particular, we would like to vary the sample size and the data generating assumption, and see how does each affect the power of the same test."
   ]
  },
  {
   "cell_type": "code",
   "execution_count": 14,
   "metadata": {},
   "outputs": [],
   "source": [
    "### function to generate sampling distribution under the null\n",
    "\n",
    "def null_sampling_dist(null_p=0.26, sample_size=100, rep=10000):\n",
    "    ''' simulate the sampling distribution of the \n",
    "    test statistic under the null.\n",
    "    null_p: the population proportion under the null\n",
    "    sample_size: sample size to calculate the stat\n",
    "    rep: how many times to simulate the stat\n",
    "    '''\n",
    "    simu_null_dist = np.random.binomial(sample_size, null_p, rep)\n",
    "    return(simu_null_dist)"
   ]
  },
  {
   "cell_type": "code",
   "execution_count": 291,
   "metadata": {},
   "outputs": [],
   "source": [
    "### function to generate observed stat for a population distribution\n",
    "\n",
    "def gen_obs_stat(pop_p=0.26, sample_size=100, num_test=10000):\n",
    "    ''' simulate the observed test stat\n",
    "    pop_p: the data-generating population proportion\n",
    "    pop_p = null_p means null is true, otherwise null is NOT true\n",
    "    sample_size: sample size to calculate the stat\n",
    "    rep: how many times perform the test\n",
    "    '''\n",
    "    obs_stat = np.random.binomial(sample_size, pop_p, num_test)\n",
    "    return(obs_stat)"
   ]
  },
  {
   "cell_type": "code",
   "execution_count": 292,
   "metadata": {},
   "outputs": [],
   "source": [
    "### function to calculate p-values\n",
    "\n",
    "def cal_p_values(obs_stat, null_dist):\n",
    "    ''' simulate carrying out the tests\n",
    "    obs_stat: the observed test stat\n",
    "    simu_null_dist: simulated sampling distribution of test stat under the null\n",
    "    '''\n",
    "    p_values = []\n",
    "    for i in obs_stat:\n",
    "        one_p_value = np.average(null_dist <= i)\n",
    "        p_values = np.append(p_values,one_p_value)\n",
    "    return(p_values)"
   ]
  },
  {
   "cell_type": "code",
   "execution_count": 293,
   "metadata": {},
   "outputs": [],
   "source": [
    "### function to calculate power\n",
    "\n",
    "def cal_power(p_values, alpha=0.05):\n",
    "    ''' simulate carrying out the tests\n",
    "    obs_stat: the observed test stat\n",
    "    simu_null_dist: simulated sampling distribution of test stat under the null\n",
    "    '''\n",
    "    power = 1 - np.average(p_values > alpha)\n",
    "    return(power)"
   ]
  },
  {
   "cell_type": "code",
   "execution_count": 294,
   "metadata": {},
   "outputs": [],
   "source": [
    "### study power vs. sample size\n",
    "\n",
    "# assume data is from population proportion of 0.15\n",
    "pop_pa = 0.15\n",
    "# vary sample size from 20 to 200\n",
    "sample_size = np.arange(20, 201, 5)\n",
    "# place holder for power for each sample size\n",
    "powers = []\n",
    "counter=0\n",
    "\n",
    "for s in sample_size:\n",
    "    null_dist = null_sampling_dist(sample_size = s)\n",
    "    obs_stat = gen_obs_stat(pop_p = pop_pa, sample_size=s)\n",
    "    p_values = cal_p_values(obs_stat, null_dist)\n",
    "    power = cal_power(p_values, alpha=0.05)\n",
    "    powers = np.append(powers, power)"
   ]
  },
  {
   "cell_type": "code",
   "execution_count": 295,
   "metadata": {},
   "outputs": [
    {
     "data": {
      "text/html": [
       "<div>\n",
       "<style scoped>\n",
       "    .dataframe tbody tr th:only-of-type {\n",
       "        vertical-align: middle;\n",
       "    }\n",
       "\n",
       "    .dataframe tbody tr th {\n",
       "        vertical-align: top;\n",
       "    }\n",
       "\n",
       "    .dataframe thead th {\n",
       "        text-align: right;\n",
       "    }\n",
       "</style>\n",
       "<table border=\"1\" class=\"dataframe\">\n",
       "  <thead>\n",
       "    <tr style=\"text-align: right;\">\n",
       "      <th></th>\n",
       "      <th>Sample Size</th>\n",
       "      <th>Power</th>\n",
       "    </tr>\n",
       "  </thead>\n",
       "  <tbody>\n",
       "    <tr>\n",
       "      <th>0</th>\n",
       "      <td>20</td>\n",
       "      <td>0.1826</td>\n",
       "    </tr>\n",
       "    <tr>\n",
       "      <th>1</th>\n",
       "      <td>25</td>\n",
       "      <td>0.2507</td>\n",
       "    </tr>\n",
       "    <tr>\n",
       "      <th>2</th>\n",
       "      <td>30</td>\n",
       "      <td>0.3278</td>\n",
       "    </tr>\n",
       "    <tr>\n",
       "      <th>3</th>\n",
       "      <td>35</td>\n",
       "      <td>0.3831</td>\n",
       "    </tr>\n",
       "    <tr>\n",
       "      <th>4</th>\n",
       "      <td>40</td>\n",
       "      <td>0.4298</td>\n",
       "    </tr>\n",
       "    <tr>\n",
       "      <th>5</th>\n",
       "      <td>45</td>\n",
       "      <td>0.4804</td>\n",
       "    </tr>\n",
       "    <tr>\n",
       "      <th>6</th>\n",
       "      <td>50</td>\n",
       "      <td>0.5198</td>\n",
       "    </tr>\n",
       "    <tr>\n",
       "      <th>7</th>\n",
       "      <td>55</td>\n",
       "      <td>0.5521</td>\n",
       "    </tr>\n",
       "    <tr>\n",
       "      <th>8</th>\n",
       "      <td>60</td>\n",
       "      <td>0.5902</td>\n",
       "    </tr>\n",
       "    <tr>\n",
       "      <th>9</th>\n",
       "      <td>65</td>\n",
       "      <td>0.6117</td>\n",
       "    </tr>\n",
       "    <tr>\n",
       "      <th>10</th>\n",
       "      <td>70</td>\n",
       "      <td>0.6436</td>\n",
       "    </tr>\n",
       "    <tr>\n",
       "      <th>11</th>\n",
       "      <td>75</td>\n",
       "      <td>0.6673</td>\n",
       "    </tr>\n",
       "    <tr>\n",
       "      <th>12</th>\n",
       "      <td>80</td>\n",
       "      <td>0.7854</td>\n",
       "    </tr>\n",
       "    <tr>\n",
       "      <th>13</th>\n",
       "      <td>85</td>\n",
       "      <td>0.8101</td>\n",
       "    </tr>\n",
       "    <tr>\n",
       "      <th>14</th>\n",
       "      <td>90</td>\n",
       "      <td>0.8160</td>\n",
       "    </tr>\n",
       "    <tr>\n",
       "      <th>15</th>\n",
       "      <td>95</td>\n",
       "      <td>0.8302</td>\n",
       "    </tr>\n",
       "    <tr>\n",
       "      <th>16</th>\n",
       "      <td>100</td>\n",
       "      <td>0.8426</td>\n",
       "    </tr>\n",
       "    <tr>\n",
       "      <th>17</th>\n",
       "      <td>105</td>\n",
       "      <td>0.8517</td>\n",
       "    </tr>\n",
       "    <tr>\n",
       "      <th>18</th>\n",
       "      <td>110</td>\n",
       "      <td>0.8485</td>\n",
       "    </tr>\n",
       "    <tr>\n",
       "      <th>19</th>\n",
       "      <td>115</td>\n",
       "      <td>0.8632</td>\n",
       "    </tr>\n",
       "    <tr>\n",
       "      <th>20</th>\n",
       "      <td>120</td>\n",
       "      <td>0.8789</td>\n",
       "    </tr>\n",
       "    <tr>\n",
       "      <th>21</th>\n",
       "      <td>125</td>\n",
       "      <td>0.8869</td>\n",
       "    </tr>\n",
       "    <tr>\n",
       "      <th>22</th>\n",
       "      <td>130</td>\n",
       "      <td>0.9228</td>\n",
       "    </tr>\n",
       "    <tr>\n",
       "      <th>23</th>\n",
       "      <td>135</td>\n",
       "      <td>0.9298</td>\n",
       "    </tr>\n",
       "    <tr>\n",
       "      <th>24</th>\n",
       "      <td>140</td>\n",
       "      <td>0.9333</td>\n",
       "    </tr>\n",
       "    <tr>\n",
       "      <th>25</th>\n",
       "      <td>145</td>\n",
       "      <td>0.9423</td>\n",
       "    </tr>\n",
       "    <tr>\n",
       "      <th>26</th>\n",
       "      <td>150</td>\n",
       "      <td>0.9392</td>\n",
       "    </tr>\n",
       "    <tr>\n",
       "      <th>27</th>\n",
       "      <td>155</td>\n",
       "      <td>0.9428</td>\n",
       "    </tr>\n",
       "    <tr>\n",
       "      <th>28</th>\n",
       "      <td>160</td>\n",
       "      <td>0.9669</td>\n",
       "    </tr>\n",
       "    <tr>\n",
       "      <th>29</th>\n",
       "      <td>165</td>\n",
       "      <td>0.9662</td>\n",
       "    </tr>\n",
       "    <tr>\n",
       "      <th>30</th>\n",
       "      <td>170</td>\n",
       "      <td>0.9692</td>\n",
       "    </tr>\n",
       "    <tr>\n",
       "      <th>31</th>\n",
       "      <td>175</td>\n",
       "      <td>0.9707</td>\n",
       "    </tr>\n",
       "    <tr>\n",
       "      <th>32</th>\n",
       "      <td>180</td>\n",
       "      <td>0.9722</td>\n",
       "    </tr>\n",
       "    <tr>\n",
       "      <th>33</th>\n",
       "      <td>185</td>\n",
       "      <td>0.9851</td>\n",
       "    </tr>\n",
       "    <tr>\n",
       "      <th>34</th>\n",
       "      <td>190</td>\n",
       "      <td>0.9834</td>\n",
       "    </tr>\n",
       "    <tr>\n",
       "      <th>35</th>\n",
       "      <td>195</td>\n",
       "      <td>0.9844</td>\n",
       "    </tr>\n",
       "    <tr>\n",
       "      <th>36</th>\n",
       "      <td>200</td>\n",
       "      <td>0.9852</td>\n",
       "    </tr>\n",
       "  </tbody>\n",
       "</table>\n",
       "</div>"
      ],
      "text/plain": [
       "    Sample Size   Power\n",
       "0            20  0.1826\n",
       "1            25  0.2507\n",
       "2            30  0.3278\n",
       "3            35  0.3831\n",
       "4            40  0.4298\n",
       "5            45  0.4804\n",
       "6            50  0.5198\n",
       "7            55  0.5521\n",
       "8            60  0.5902\n",
       "9            65  0.6117\n",
       "10           70  0.6436\n",
       "11           75  0.6673\n",
       "12           80  0.7854\n",
       "13           85  0.8101\n",
       "14           90  0.8160\n",
       "15           95  0.8302\n",
       "16          100  0.8426\n",
       "17          105  0.8517\n",
       "18          110  0.8485\n",
       "19          115  0.8632\n",
       "20          120  0.8789\n",
       "21          125  0.8869\n",
       "22          130  0.9228\n",
       "23          135  0.9298\n",
       "24          140  0.9333\n",
       "25          145  0.9423\n",
       "26          150  0.9392\n",
       "27          155  0.9428\n",
       "28          160  0.9669\n",
       "29          165  0.9662\n",
       "30          170  0.9692\n",
       "31          175  0.9707\n",
       "32          180  0.9722\n",
       "33          185  0.9851\n",
       "34          190  0.9834\n",
       "35          195  0.9844\n",
       "36          200  0.9852"
      ]
     },
     "execution_count": 295,
     "metadata": {},
     "output_type": "execute_result"
    }
   ],
   "source": [
    "# put in a dataframe\n",
    "sample_size_power = pd.DataFrame({'Sample Size': sample_size, 'Power': powers})\n",
    "sample_size_power"
   ]
  },
  {
   "cell_type": "code",
   "execution_count": 296,
   "metadata": {
    "scrolled": true
   },
   "outputs": [
    {
     "data": {
      "image/png": "[encoded data removed]",
      "text/plain": [
       "<Figure size 432x288 with 1 Axes>"
      ]
     },
     "metadata": {},
     "output_type": "display_data"
    }
   ],
   "source": [
    "# plot !!!\n",
    "# power should increase as sample size increases\n",
    "# there may be small kinks because it is empirical, not theoretical power \n",
    "\n",
    "sample_size_power.plot(x='Sample Size', y='Power')\n",
    "plt.title('True population proportion fixed at 0.15');"
   ]
  },
  {
   "cell_type": "code",
   "execution_count": 297,
   "metadata": {},
   "outputs": [],
   "source": [
    "### study power vs. effect size\n",
    "\n",
    "# assume sample_size is 100\n",
    "sample_size = 100\n",
    "# vary population proportion from 0.1 to 0.255\n",
    "pop_p = np.arange(0.10, 0.26, 0.005)\n",
    "# place holder for power for each pop_p\n",
    "powers = []\n",
    "\n",
    "for pp in pop_p:\n",
    "    null_dist = null_sampling_dist(sample_size = sample_size)\n",
    "    obs_stat = gen_obs_stat(pop_p = pp, sample_size=sample_size)\n",
    "    p_values = cal_p_values(obs_stat, null_dist)\n",
    "    power = cal_power(p_values, alpha=0.05)\n",
    "    powers = np.append(powers, power)"
   ]
  },
  {
   "cell_type": "code",
   "execution_count": 298,
   "metadata": {},
   "outputs": [
    {
     "data": {
      "text/html": [
       "<div>\n",
       "<style scoped>\n",
       "    .dataframe tbody tr th:only-of-type {\n",
       "        vertical-align: middle;\n",
       "    }\n",
       "\n",
       "    .dataframe tbody tr th {\n",
       "        vertical-align: top;\n",
       "    }\n",
       "\n",
       "    .dataframe thead th {\n",
       "        text-align: right;\n",
       "    }\n",
       "</style>\n",
       "<table border=\"1\" class=\"dataframe\">\n",
       "  <thead>\n",
       "    <tr style=\"text-align: right;\">\n",
       "      <th></th>\n",
       "      <th>True Population Proportion</th>\n",
       "      <th>Power</th>\n",
       "      <th>Effect Size</th>\n",
       "    </tr>\n",
       "  </thead>\n",
       "  <tbody>\n",
       "    <tr>\n",
       "      <th>0</th>\n",
       "      <td>0.100</td>\n",
       "      <td>0.9957</td>\n",
       "      <td>0.160</td>\n",
       "    </tr>\n",
       "    <tr>\n",
       "      <th>1</th>\n",
       "      <td>0.105</td>\n",
       "      <td>0.9912</td>\n",
       "      <td>0.155</td>\n",
       "    </tr>\n",
       "    <tr>\n",
       "      <th>2</th>\n",
       "      <td>0.110</td>\n",
       "      <td>0.9889</td>\n",
       "      <td>0.150</td>\n",
       "    </tr>\n",
       "    <tr>\n",
       "      <th>3</th>\n",
       "      <td>0.115</td>\n",
       "      <td>0.9823</td>\n",
       "      <td>0.145</td>\n",
       "    </tr>\n",
       "    <tr>\n",
       "      <th>4</th>\n",
       "      <td>0.120</td>\n",
       "      <td>0.9705</td>\n",
       "      <td>0.140</td>\n",
       "    </tr>\n",
       "    <tr>\n",
       "      <th>5</th>\n",
       "      <td>0.125</td>\n",
       "      <td>0.9612</td>\n",
       "      <td>0.135</td>\n",
       "    </tr>\n",
       "    <tr>\n",
       "      <th>6</th>\n",
       "      <td>0.130</td>\n",
       "      <td>0.9414</td>\n",
       "      <td>0.130</td>\n",
       "    </tr>\n",
       "    <tr>\n",
       "      <th>7</th>\n",
       "      <td>0.135</td>\n",
       "      <td>0.9187</td>\n",
       "      <td>0.125</td>\n",
       "    </tr>\n",
       "    <tr>\n",
       "      <th>8</th>\n",
       "      <td>0.140</td>\n",
       "      <td>0.8996</td>\n",
       "      <td>0.120</td>\n",
       "    </tr>\n",
       "    <tr>\n",
       "      <th>9</th>\n",
       "      <td>0.145</td>\n",
       "      <td>0.8775</td>\n",
       "      <td>0.115</td>\n",
       "    </tr>\n",
       "    <tr>\n",
       "      <th>10</th>\n",
       "      <td>0.150</td>\n",
       "      <td>0.8370</td>\n",
       "      <td>0.110</td>\n",
       "    </tr>\n",
       "    <tr>\n",
       "      <th>11</th>\n",
       "      <td>0.155</td>\n",
       "      <td>0.7885</td>\n",
       "      <td>0.105</td>\n",
       "    </tr>\n",
       "    <tr>\n",
       "      <th>12</th>\n",
       "      <td>0.160</td>\n",
       "      <td>0.7655</td>\n",
       "      <td>0.100</td>\n",
       "    </tr>\n",
       "    <tr>\n",
       "      <th>13</th>\n",
       "      <td>0.165</td>\n",
       "      <td>0.7106</td>\n",
       "      <td>0.095</td>\n",
       "    </tr>\n",
       "    <tr>\n",
       "      <th>14</th>\n",
       "      <td>0.170</td>\n",
       "      <td>0.6678</td>\n",
       "      <td>0.090</td>\n",
       "    </tr>\n",
       "    <tr>\n",
       "      <th>15</th>\n",
       "      <td>0.175</td>\n",
       "      <td>0.6080</td>\n",
       "      <td>0.085</td>\n",
       "    </tr>\n",
       "    <tr>\n",
       "      <th>16</th>\n",
       "      <td>0.180</td>\n",
       "      <td>0.5741</td>\n",
       "      <td>0.080</td>\n",
       "    </tr>\n",
       "    <tr>\n",
       "      <th>17</th>\n",
       "      <td>0.185</td>\n",
       "      <td>0.5167</td>\n",
       "      <td>0.075</td>\n",
       "    </tr>\n",
       "    <tr>\n",
       "      <th>18</th>\n",
       "      <td>0.190</td>\n",
       "      <td>0.4616</td>\n",
       "      <td>0.070</td>\n",
       "    </tr>\n",
       "    <tr>\n",
       "      <th>19</th>\n",
       "      <td>0.195</td>\n",
       "      <td>0.4187</td>\n",
       "      <td>0.065</td>\n",
       "    </tr>\n",
       "    <tr>\n",
       "      <th>20</th>\n",
       "      <td>0.200</td>\n",
       "      <td>0.3551</td>\n",
       "      <td>0.060</td>\n",
       "    </tr>\n",
       "    <tr>\n",
       "      <th>21</th>\n",
       "      <td>0.205</td>\n",
       "      <td>0.3175</td>\n",
       "      <td>0.055</td>\n",
       "    </tr>\n",
       "    <tr>\n",
       "      <th>22</th>\n",
       "      <td>0.210</td>\n",
       "      <td>0.2785</td>\n",
       "      <td>0.050</td>\n",
       "    </tr>\n",
       "    <tr>\n",
       "      <th>23</th>\n",
       "      <td>0.215</td>\n",
       "      <td>0.2384</td>\n",
       "      <td>0.045</td>\n",
       "    </tr>\n",
       "    <tr>\n",
       "      <th>24</th>\n",
       "      <td>0.220</td>\n",
       "      <td>0.2024</td>\n",
       "      <td>0.040</td>\n",
       "    </tr>\n",
       "    <tr>\n",
       "      <th>25</th>\n",
       "      <td>0.225</td>\n",
       "      <td>0.1644</td>\n",
       "      <td>0.035</td>\n",
       "    </tr>\n",
       "    <tr>\n",
       "      <th>26</th>\n",
       "      <td>0.230</td>\n",
       "      <td>0.1349</td>\n",
       "      <td>0.030</td>\n",
       "    </tr>\n",
       "    <tr>\n",
       "      <th>27</th>\n",
       "      <td>0.235</td>\n",
       "      <td>0.1207</td>\n",
       "      <td>0.025</td>\n",
       "    </tr>\n",
       "    <tr>\n",
       "      <th>28</th>\n",
       "      <td>0.240</td>\n",
       "      <td>0.0954</td>\n",
       "      <td>0.020</td>\n",
       "    </tr>\n",
       "    <tr>\n",
       "      <th>29</th>\n",
       "      <td>0.245</td>\n",
       "      <td>0.0801</td>\n",
       "      <td>0.015</td>\n",
       "    </tr>\n",
       "    <tr>\n",
       "      <th>30</th>\n",
       "      <td>0.250</td>\n",
       "      <td>0.0623</td>\n",
       "      <td>0.010</td>\n",
       "    </tr>\n",
       "    <tr>\n",
       "      <th>31</th>\n",
       "      <td>0.255</td>\n",
       "      <td>0.0524</td>\n",
       "      <td>0.005</td>\n",
       "    </tr>\n",
       "  </tbody>\n",
       "</table>\n",
       "</div>"
      ],
      "text/plain": [
       "    True Population Proportion   Power  Effect Size\n",
       "0                        0.100  0.9957        0.160\n",
       "1                        0.105  0.9912        0.155\n",
       "2                        0.110  0.9889        0.150\n",
       "3                        0.115  0.9823        0.145\n",
       "4                        0.120  0.9705        0.140\n",
       "5                        0.125  0.9612        0.135\n",
       "6                        0.130  0.9414        0.130\n",
       "7                        0.135  0.9187        0.125\n",
       "8                        0.140  0.8996        0.120\n",
       "9                        0.145  0.8775        0.115\n",
       "10                       0.150  0.8370        0.110\n",
       "11                       0.155  0.7885        0.105\n",
       "12                       0.160  0.7655        0.100\n",
       "13                       0.165  0.7106        0.095\n",
       "14                       0.170  0.6678        0.090\n",
       "15                       0.175  0.6080        0.085\n",
       "16                       0.180  0.5741        0.080\n",
       "17                       0.185  0.5167        0.075\n",
       "18                       0.190  0.4616        0.070\n",
       "19                       0.195  0.4187        0.065\n",
       "20                       0.200  0.3551        0.060\n",
       "21                       0.205  0.3175        0.055\n",
       "22                       0.210  0.2785        0.050\n",
       "23                       0.215  0.2384        0.045\n",
       "24                       0.220  0.2024        0.040\n",
       "25                       0.225  0.1644        0.035\n",
       "26                       0.230  0.1349        0.030\n",
       "27                       0.235  0.1207        0.025\n",
       "28                       0.240  0.0954        0.020\n",
       "29                       0.245  0.0801        0.015\n",
       "30                       0.250  0.0623        0.010\n",
       "31                       0.255  0.0524        0.005"
      ]
     },
     "execution_count": 298,
     "metadata": {},
     "output_type": "execute_result"
    }
   ],
   "source": [
    "# put in a dataframe\n",
    "effect_size_power = pd.DataFrame({'True Population Proportion': pop_p, 'Power': powers})\n",
    "# effect size is the difference between true population proportion and the null proportion\n",
    "# for example, if null proportion is 0.26, but data was generated from population proportion of 0.15\n",
    "# effect size = 0.26 - 0.15 = 0.11\n",
    "effect_size_power['Effect Size'] = 0.26 - effect_size_power['True Population Proportion']\n",
    "effect_size_power"
   ]
  },
  {
   "cell_type": "code",
   "execution_count": 299,
   "metadata": {},
   "outputs": [
    {
     "data": {
      "image/png": "[encoded data removed]",
      "text/plain": [
       "<Figure size 432x288 with 1 Axes>"
      ]
     },
     "metadata": {},
     "output_type": "display_data"
    }
   ],
   "source": [
    "# plot !!!\n",
    "# power should increase as effect size increases\n",
    "\n",
    "effect_size_power.plot(x='Effect Size', y='Power')\n",
    "plt.title('Sample size fixed at 100');"
   ]
  },
  {
   "cell_type": "markdown",
   "metadata": {},
   "source": [
    "## Part II: NHANES Case Study\n",
    "\n",
    "In this part, we will be working with the [NHANES](https://www.cdc.gov/nchs/nhanes/index.htm) study (National Health and Nutrition Examination Survey) data from the 2015-2016 wave. The raw data for this study are available [here](https://wwwn.cdc.gov/nchs/nhanes/continuousnhanes/default.aspx?BeginYear=2015)"
   ]
  },
  {
   "cell_type": "code",
   "execution_count": 300,
   "metadata": {},
   "outputs": [
    {
     "data": {
      "text/html": [
       "<div>\n",
       "<style scoped>\n",
       "    .dataframe tbody tr th:only-of-type {\n",
       "        vertical-align: middle;\n",
       "    }\n",
       "\n",
       "    .dataframe tbody tr th {\n",
       "        vertical-align: top;\n",
       "    }\n",
       "\n",
       "    .dataframe thead th {\n",
       "        text-align: right;\n",
       "    }\n",
       "</style>\n",
       "<table border=\"1\" class=\"dataframe\">\n",
       "  <thead>\n",
       "    <tr style=\"text-align: right;\">\n",
       "      <th></th>\n",
       "      <th>SEQN</th>\n",
       "      <th>ALQ101</th>\n",
       "      <th>ALQ110</th>\n",
       "      <th>ALQ130</th>\n",
       "      <th>SMQ020</th>\n",
       "      <th>RIAGENDR</th>\n",
       "      <th>RIDAGEYR</th>\n",
       "      <th>RIDRETH1</th>\n",
       "      <th>DMDCITZN</th>\n",
       "      <th>DMDEDUC2</th>\n",
       "      <th>...</th>\n",
       "      <th>BPXSY2</th>\n",
       "      <th>BPXDI2</th>\n",
       "      <th>BMXWT</th>\n",
       "      <th>BMXHT</th>\n",
       "      <th>BMXBMI</th>\n",
       "      <th>BMXLEG</th>\n",
       "      <th>BMXARML</th>\n",
       "      <th>BMXARMC</th>\n",
       "      <th>BMXWAIST</th>\n",
       "      <th>HIQ210</th>\n",
       "    </tr>\n",
       "  </thead>\n",
       "  <tbody>\n",
       "    <tr>\n",
       "      <th>0</th>\n",
       "      <td>83732</td>\n",
       "      <td>1.0</td>\n",
       "      <td>NaN</td>\n",
       "      <td>1.0</td>\n",
       "      <td>1</td>\n",
       "      <td>1</td>\n",
       "      <td>62</td>\n",
       "      <td>3</td>\n",
       "      <td>1.0</td>\n",
       "      <td>5.0</td>\n",
       "      <td>...</td>\n",
       "      <td>124.0</td>\n",
       "      <td>64.0</td>\n",
       "      <td>94.8</td>\n",
       "      <td>184.5</td>\n",
       "      <td>27.8</td>\n",
       "      <td>43.3</td>\n",
       "      <td>43.6</td>\n",
       "      <td>35.9</td>\n",
       "      <td>101.1</td>\n",
       "      <td>2.0</td>\n",
       "    </tr>\n",
       "    <tr>\n",
       "      <th>1</th>\n",
       "      <td>83733</td>\n",
       "      <td>1.0</td>\n",
       "      <td>NaN</td>\n",
       "      <td>6.0</td>\n",
       "      <td>1</td>\n",
       "      <td>1</td>\n",
       "      <td>53</td>\n",
       "      <td>3</td>\n",
       "      <td>2.0</td>\n",
       "      <td>3.0</td>\n",
       "      <td>...</td>\n",
       "      <td>140.0</td>\n",
       "      <td>88.0</td>\n",
       "      <td>90.4</td>\n",
       "      <td>171.4</td>\n",
       "      <td>30.8</td>\n",
       "      <td>38.0</td>\n",
       "      <td>40.0</td>\n",
       "      <td>33.2</td>\n",
       "      <td>107.9</td>\n",
       "      <td>NaN</td>\n",
       "    </tr>\n",
       "    <tr>\n",
       "      <th>2</th>\n",
       "      <td>83734</td>\n",
       "      <td>1.0</td>\n",
       "      <td>NaN</td>\n",
       "      <td>NaN</td>\n",
       "      <td>1</td>\n",
       "      <td>1</td>\n",
       "      <td>78</td>\n",
       "      <td>3</td>\n",
       "      <td>1.0</td>\n",
       "      <td>3.0</td>\n",
       "      <td>...</td>\n",
       "      <td>132.0</td>\n",
       "      <td>44.0</td>\n",
       "      <td>83.4</td>\n",
       "      <td>170.1</td>\n",
       "      <td>28.8</td>\n",
       "      <td>35.6</td>\n",
       "      <td>37.0</td>\n",
       "      <td>31.0</td>\n",
       "      <td>116.5</td>\n",
       "      <td>2.0</td>\n",
       "    </tr>\n",
       "    <tr>\n",
       "      <th>3</th>\n",
       "      <td>83735</td>\n",
       "      <td>2.0</td>\n",
       "      <td>1.0</td>\n",
       "      <td>1.0</td>\n",
       "      <td>2</td>\n",
       "      <td>2</td>\n",
       "      <td>56</td>\n",
       "      <td>3</td>\n",
       "      <td>1.0</td>\n",
       "      <td>5.0</td>\n",
       "      <td>...</td>\n",
       "      <td>134.0</td>\n",
       "      <td>68.0</td>\n",
       "      <td>109.8</td>\n",
       "      <td>160.9</td>\n",
       "      <td>42.4</td>\n",
       "      <td>38.5</td>\n",
       "      <td>37.7</td>\n",
       "      <td>38.3</td>\n",
       "      <td>110.1</td>\n",
       "      <td>2.0</td>\n",
       "    </tr>\n",
       "    <tr>\n",
       "      <th>4</th>\n",
       "      <td>83736</td>\n",
       "      <td>2.0</td>\n",
       "      <td>1.0</td>\n",
       "      <td>1.0</td>\n",
       "      <td>2</td>\n",
       "      <td>2</td>\n",
       "      <td>42</td>\n",
       "      <td>4</td>\n",
       "      <td>1.0</td>\n",
       "      <td>4.0</td>\n",
       "      <td>...</td>\n",
       "      <td>114.0</td>\n",
       "      <td>54.0</td>\n",
       "      <td>55.2</td>\n",
       "      <td>164.9</td>\n",
       "      <td>20.3</td>\n",
       "      <td>37.4</td>\n",
       "      <td>36.0</td>\n",
       "      <td>27.2</td>\n",
       "      <td>80.4</td>\n",
       "      <td>2.0</td>\n",
       "    </tr>\n",
       "  </tbody>\n",
       "</table>\n",
       "<p>5 rows × 28 columns</p>\n",
       "</div>"
      ],
      "text/plain": [
       "    SEQN  ALQ101  ALQ110  ALQ130  SMQ020  RIAGENDR  RIDAGEYR  RIDRETH1  \\\n",
       "0  83732     1.0     NaN     1.0       1         1        62         3   \n",
       "1  83733     1.0     NaN     6.0       1         1        53         3   \n",
       "2  83734     1.0     NaN     NaN       1         1        78         3   \n",
       "3  83735     2.0     1.0     1.0       2         2        56         3   \n",
       "4  83736     2.0     1.0     1.0       2         2        42         4   \n",
       "\n",
       "   DMDCITZN  DMDEDUC2  ...  BPXSY2  BPXDI2  BMXWT  BMXHT  BMXBMI  BMXLEG  \\\n",
       "0       1.0       5.0  ...   124.0    64.0   94.8  184.5    27.8    43.3   \n",
       "1       2.0       3.0  ...   140.0    88.0   90.4  171.4    30.8    38.0   \n",
       "2       1.0       3.0  ...   132.0    44.0   83.4  170.1    28.8    35.6   \n",
       "3       1.0       5.0  ...   134.0    68.0  109.8  160.9    42.4    38.5   \n",
       "4       1.0       4.0  ...   114.0    54.0   55.2  164.9    20.3    37.4   \n",
       "\n",
       "   BMXARML  BMXARMC  BMXWAIST  HIQ210  \n",
       "0     43.6     35.9     101.1     2.0  \n",
       "1     40.0     33.2     107.9     NaN  \n",
       "2     37.0     31.0     116.5     2.0  \n",
       "3     37.7     38.3     110.1     2.0  \n",
       "4     36.0     27.2      80.4     2.0  \n",
       "\n",
       "[5 rows x 28 columns]"
      ]
     },
     "execution_count": 300,
     "metadata": {},
     "output_type": "execute_result"
    }
   ],
   "source": [
    "nhanes = pd.read_csv(\"nhanes_2015_2016.csv\")\n",
    "nhanes.head()"
   ]
  },
  {
   "cell_type": "markdown",
   "metadata": {},
   "source": [
    "### Exploring the contents of a data set\n",
    "\n",
    "Pandas has a number of basic ways to understand what is in a data set.  For example, above we used the '`shape`' method to determine the numbers of rows and columns in a data set.  The columns in a Pandas data frame have names, to see the names, use the '`columns`' method:"
   ]
  },
  {
   "cell_type": "code",
   "execution_count": 301,
   "metadata": {},
   "outputs": [
    {
     "name": "stdout",
     "output_type": "stream",
     "text": [
      "(5735, 28)\n"
     ]
    },
    {
     "data": {
      "text/plain": [
       "Index(['SEQN', 'ALQ101', 'ALQ110', 'ALQ130', 'SMQ020', 'RIAGENDR', 'RIDAGEYR',\n",
       "       'RIDRETH1', 'DMDCITZN', 'DMDEDUC2', 'DMDMARTL', 'DMDHHSIZ', 'WTINT2YR',\n",
       "       'SDMVPSU', 'SDMVSTRA', 'INDFMPIR', 'BPXSY1', 'BPXDI1', 'BPXSY2',\n",
       "       'BPXDI2', 'BMXWT', 'BMXHT', 'BMXBMI', 'BMXLEG', 'BMXARML', 'BMXARMC',\n",
       "       'BMXWAIST', 'HIQ210'],\n",
       "      dtype='object')"
      ]
     },
     "execution_count": 301,
     "metadata": {},
     "output_type": "execute_result"
    }
   ],
   "source": [
    "print(nhanes.shape)\n",
    "nhanes.columns"
   ]
  },
  {
   "cell_type": "markdown",
   "metadata": {},
   "source": [
    "These names correspond to variables in the NHANES study.  For example, `SEQN` is a unique identifier for one person, and `BMXWT` is the subject's weight in kilograms (\"BMX\" is the NHANES prefix for body measurements). You can search for variable names and read about the description [here](https://wwwn.cdc.gov/nchs/nhanes/search/default.aspx)\n",
    "\n",
    "The variables in the NHANES data set are documented in a set of \"codebooks\" that are available on-line. The codebooks for the 2015-2016 wave of NHANES can be found by following the links at the following page:\n",
    "\n",
    "* [Demographics code book](https://wwwn.cdc.gov/Nchs/Nhanes/2015-2016/DEMO_I.htm)\n",
    "\n",
    "* [Body measures code book](https://wwwn.cdc.gov/Nchs/Nhanes/2015-2016/BMX_I.htm)\n",
    "\n",
    "* [Blood pressure code book](https://wwwn.cdc.gov/Nchs/Nhanes/2015-2016/BPX_I.htm)\n",
    "\n",
    "* [Alcohol questionaire code book](https://wwwn.cdc.gov/Nchs/Nhanes/2015-2016/ALQ_I.htm)\n",
    "\n",
    "* [Smoking questionaire code book](https://wwwn.cdc.gov/Nchs/Nhanes/2015-2016/SMQ_I.htm)"
   ]
  },
  {
   "cell_type": "markdown",
   "metadata": {},
   "source": [
    "For convenience, let's rename some of the variables to be descriptive."
   ]
  },
  {
   "cell_type": "code",
   "execution_count": 302,
   "metadata": {},
   "outputs": [],
   "source": [
    "new_col_names = {'SEQN':'ID', 'ALQ130':'avg_drinks_per_day', 'SMQ020': 'smoker', \n",
    "                 'RIAGENDR':'gender', 'RIDAGEYR':'age', 'RIDRETH1':'race', \n",
    "                 'DMDCITZN':'citizen', 'DMDEDUC2':'educ_level', \n",
    "                 'DMDMARTL':'mari_stat', 'INDFMPIR':'fam_pov_income_ratio', \n",
    "                 'BPXSY1':'systolic_bp', 'BPXDI1':'diastolic_bp', \n",
    "                 'BMXWT':'weight', 'BMXHT':'height', 'BMXBMI':'bmi', \n",
    "                 'BMXLEG':'upper_leg_len', 'BMXARML':'upper_arm_len', \n",
    "                 'BMXARMC': 'arm_cir', 'BMXWAIST':'waist_cir'}"
   ]
  },
  {
   "cell_type": "code",
   "execution_count": 303,
   "metadata": {},
   "outputs": [
    {
     "data": {
      "text/html": [
       "<div>\n",
       "<style scoped>\n",
       "    .dataframe tbody tr th:only-of-type {\n",
       "        vertical-align: middle;\n",
       "    }\n",
       "\n",
       "    .dataframe tbody tr th {\n",
       "        vertical-align: top;\n",
       "    }\n",
       "\n",
       "    .dataframe thead th {\n",
       "        text-align: right;\n",
       "    }\n",
       "</style>\n",
       "<table border=\"1\" class=\"dataframe\">\n",
       "  <thead>\n",
       "    <tr style=\"text-align: right;\">\n",
       "      <th></th>\n",
       "      <th>ID</th>\n",
       "      <th>ALQ101</th>\n",
       "      <th>ALQ110</th>\n",
       "      <th>avg_drinks_per_day</th>\n",
       "      <th>smoker</th>\n",
       "      <th>gender</th>\n",
       "      <th>age</th>\n",
       "      <th>race</th>\n",
       "      <th>citizen</th>\n",
       "      <th>educ_level</th>\n",
       "      <th>...</th>\n",
       "      <th>BPXSY2</th>\n",
       "      <th>BPXDI2</th>\n",
       "      <th>weight</th>\n",
       "      <th>height</th>\n",
       "      <th>bmi</th>\n",
       "      <th>upper_leg_len</th>\n",
       "      <th>upper_arm_len</th>\n",
       "      <th>arm_cir</th>\n",
       "      <th>waist_cir</th>\n",
       "      <th>HIQ210</th>\n",
       "    </tr>\n",
       "  </thead>\n",
       "  <tbody>\n",
       "    <tr>\n",
       "      <th>0</th>\n",
       "      <td>83732</td>\n",
       "      <td>1.0</td>\n",
       "      <td>NaN</td>\n",
       "      <td>1.0</td>\n",
       "      <td>1</td>\n",
       "      <td>1</td>\n",
       "      <td>62</td>\n",
       "      <td>3</td>\n",
       "      <td>1.0</td>\n",
       "      <td>5.0</td>\n",
       "      <td>...</td>\n",
       "      <td>124.0</td>\n",
       "      <td>64.0</td>\n",
       "      <td>94.8</td>\n",
       "      <td>184.5</td>\n",
       "      <td>27.8</td>\n",
       "      <td>43.3</td>\n",
       "      <td>43.6</td>\n",
       "      <td>35.9</td>\n",
       "      <td>101.1</td>\n",
       "      <td>2.0</td>\n",
       "    </tr>\n",
       "    <tr>\n",
       "      <th>1</th>\n",
       "      <td>83733</td>\n",
       "      <td>1.0</td>\n",
       "      <td>NaN</td>\n",
       "      <td>6.0</td>\n",
       "      <td>1</td>\n",
       "      <td>1</td>\n",
       "      <td>53</td>\n",
       "      <td>3</td>\n",
       "      <td>2.0</td>\n",
       "      <td>3.0</td>\n",
       "      <td>...</td>\n",
       "      <td>140.0</td>\n",
       "      <td>88.0</td>\n",
       "      <td>90.4</td>\n",
       "      <td>171.4</td>\n",
       "      <td>30.8</td>\n",
       "      <td>38.0</td>\n",
       "      <td>40.0</td>\n",
       "      <td>33.2</td>\n",
       "      <td>107.9</td>\n",
       "      <td>NaN</td>\n",
       "    </tr>\n",
       "    <tr>\n",
       "      <th>2</th>\n",
       "      <td>83734</td>\n",
       "      <td>1.0</td>\n",
       "      <td>NaN</td>\n",
       "      <td>NaN</td>\n",
       "      <td>1</td>\n",
       "      <td>1</td>\n",
       "      <td>78</td>\n",
       "      <td>3</td>\n",
       "      <td>1.0</td>\n",
       "      <td>3.0</td>\n",
       "      <td>...</td>\n",
       "      <td>132.0</td>\n",
       "      <td>44.0</td>\n",
       "      <td>83.4</td>\n",
       "      <td>170.1</td>\n",
       "      <td>28.8</td>\n",
       "      <td>35.6</td>\n",
       "      <td>37.0</td>\n",
       "      <td>31.0</td>\n",
       "      <td>116.5</td>\n",
       "      <td>2.0</td>\n",
       "    </tr>\n",
       "    <tr>\n",
       "      <th>3</th>\n",
       "      <td>83735</td>\n",
       "      <td>2.0</td>\n",
       "      <td>1.0</td>\n",
       "      <td>1.0</td>\n",
       "      <td>2</td>\n",
       "      <td>2</td>\n",
       "      <td>56</td>\n",
       "      <td>3</td>\n",
       "      <td>1.0</td>\n",
       "      <td>5.0</td>\n",
       "      <td>...</td>\n",
       "      <td>134.0</td>\n",
       "      <td>68.0</td>\n",
       "      <td>109.8</td>\n",
       "      <td>160.9</td>\n",
       "      <td>42.4</td>\n",
       "      <td>38.5</td>\n",
       "      <td>37.7</td>\n",
       "      <td>38.3</td>\n",
       "      <td>110.1</td>\n",
       "      <td>2.0</td>\n",
       "    </tr>\n",
       "    <tr>\n",
       "      <th>4</th>\n",
       "      <td>83736</td>\n",
       "      <td>2.0</td>\n",
       "      <td>1.0</td>\n",
       "      <td>1.0</td>\n",
       "      <td>2</td>\n",
       "      <td>2</td>\n",
       "      <td>42</td>\n",
       "      <td>4</td>\n",
       "      <td>1.0</td>\n",
       "      <td>4.0</td>\n",
       "      <td>...</td>\n",
       "      <td>114.0</td>\n",
       "      <td>54.0</td>\n",
       "      <td>55.2</td>\n",
       "      <td>164.9</td>\n",
       "      <td>20.3</td>\n",
       "      <td>37.4</td>\n",
       "      <td>36.0</td>\n",
       "      <td>27.2</td>\n",
       "      <td>80.4</td>\n",
       "      <td>2.0</td>\n",
       "    </tr>\n",
       "  </tbody>\n",
       "</table>\n",
       "<p>5 rows × 28 columns</p>\n",
       "</div>"
      ],
      "text/plain": [
       "      ID  ALQ101  ALQ110  avg_drinks_per_day  smoker  gender  age  race  \\\n",
       "0  83732     1.0     NaN                 1.0       1       1   62     3   \n",
       "1  83733     1.0     NaN                 6.0       1       1   53     3   \n",
       "2  83734     1.0     NaN                 NaN       1       1   78     3   \n",
       "3  83735     2.0     1.0                 1.0       2       2   56     3   \n",
       "4  83736     2.0     1.0                 1.0       2       2   42     4   \n",
       "\n",
       "   citizen  educ_level  ...  BPXSY2  BPXDI2  weight  height   bmi  \\\n",
       "0      1.0         5.0  ...   124.0    64.0    94.8   184.5  27.8   \n",
       "1      2.0         3.0  ...   140.0    88.0    90.4   171.4  30.8   \n",
       "2      1.0         3.0  ...   132.0    44.0    83.4   170.1  28.8   \n",
       "3      1.0         5.0  ...   134.0    68.0   109.8   160.9  42.4   \n",
       "4      1.0         4.0  ...   114.0    54.0    55.2   164.9  20.3   \n",
       "\n",
       "   upper_leg_len  upper_arm_len  arm_cir  waist_cir  HIQ210  \n",
       "0           43.3           43.6     35.9      101.1     2.0  \n",
       "1           38.0           40.0     33.2      107.9     NaN  \n",
       "2           35.6           37.0     31.0      116.5     2.0  \n",
       "3           38.5           37.7     38.3      110.1     2.0  \n",
       "4           37.4           36.0     27.2       80.4     2.0  \n",
       "\n",
       "[5 rows x 28 columns]"
      ]
     },
     "execution_count": 303,
     "metadata": {},
     "output_type": "execute_result"
    }
   ],
   "source": [
    "nhanes.rename(columns=new_col_names, inplace=True)\n",
    "nhanes.head()"
   ]
  },
  {
   "cell_type": "code",
   "execution_count": 304,
   "metadata": {},
   "outputs": [
    {
     "data": {
      "text/plain": [
       "ID                        int64\n",
       "ALQ101                  float64\n",
       "ALQ110                  float64\n",
       "avg_drinks_per_day      float64\n",
       "smoker                    int64\n",
       "gender                    int64\n",
       "age                       int64\n",
       "race                      int64\n",
       "citizen                 float64\n",
       "educ_level              float64\n",
       "mari_stat               float64\n",
       "DMDHHSIZ                  int64\n",
       "WTINT2YR                float64\n",
       "SDMVPSU                   int64\n",
       "SDMVSTRA                  int64\n",
       "fam_pov_income_ratio    float64\n",
       "systolic_bp             float64\n",
       "diastolic_bp            float64\n",
       "BPXSY2                  float64\n",
       "BPXDI2                  float64\n",
       "weight                  float64\n",
       "height                  float64\n",
       "bmi                     float64\n",
       "upper_leg_len           float64\n",
       "upper_arm_len           float64\n",
       "arm_cir                 float64\n",
       "waist_cir               float64\n",
       "HIQ210                  float64\n",
       "dtype: object"
      ]
     },
     "execution_count": 304,
     "metadata": {},
     "output_type": "execute_result"
    }
   ],
   "source": [
    "nhanes.dtypes"
   ]
  },
  {
   "cell_type": "markdown",
   "metadata": {},
   "source": [
    "As we see here, most of the variables have floating point or integer data type.  Unlike many data sets, NHANES does not use any text values in its data.  For example, while many datasets would use text labels like \"F\" or \"M\" to denote a subject's gender, this information is represented in NHANES with integer codes.  The actual meanings of these codes can be determined from the codebooks.  For example, the variable `RIAGENDR` contains each subject's gender, with male gender coded as `1` and female gender coded as `2`.  The `RIAGENDR` variable is part of the demographics component of NHANES, so this coding can be found in the demographics codebook. Variables like `BMXWT` which represent a quantitative measurement will typically be stored as floating point data values."
   ]
  },
  {
   "cell_type": "markdown",
   "metadata": {},
   "source": [
    "### Missing values\n"
   ]
  },
  {
   "cell_type": "markdown",
   "metadata": {},
   "source": [
    "When reading a dataset using Pandas, there is a set of values including 'NA', 'NULL', and 'NaN' that are taken by default to represent a missing value.  The full list of default missing value codes is in the '`read_csv`' documentation [here](https://pandas.pydata.org/pandas-docs/stable/generated/pandas.read_csv.html).  This document also explains how to change the way that '`read_csv`' decides whether a variable's value is missing.\n",
    "\n",
    "Pandas has functions called `isnull` and `notnull` that can be used to identify where the missing and non-missing values are located in a data frame.  Below we use these functions to find out which columns contain missing values, the number of missing values, and which records/rows exactly contain the missing values. "
   ]
  },
  {
   "cell_type": "code",
   "execution_count": 305,
   "metadata": {},
   "outputs": [
    {
     "data": {
      "text/plain": [
       "ID                      False\n",
       "ALQ101                   True\n",
       "ALQ110                   True\n",
       "avg_drinks_per_day       True\n",
       "smoker                  False\n",
       "gender                  False\n",
       "age                     False\n",
       "race                    False\n",
       "citizen                  True\n",
       "educ_level               True\n",
       "mari_stat                True\n",
       "DMDHHSIZ                False\n",
       "WTINT2YR                False\n",
       "SDMVPSU                 False\n",
       "SDMVSTRA                False\n",
       "fam_pov_income_ratio     True\n",
       "systolic_bp              True\n",
       "diastolic_bp             True\n",
       "BPXSY2                   True\n",
       "BPXDI2                   True\n",
       "weight                   True\n",
       "height                   True\n",
       "bmi                      True\n",
       "upper_leg_len            True\n",
       "upper_arm_len            True\n",
       "arm_cir                  True\n",
       "waist_cir                True\n",
       "HIQ210                   True\n",
       "dtype: bool"
      ]
     },
     "execution_count": 305,
     "metadata": {},
     "output_type": "execute_result"
    }
   ],
   "source": [
    "# df.isnull().any will return True columns that contain missing value\n",
    "# a lot of the columns has missing values in this case\n",
    "nhanes.isnull().any()"
   ]
  },
  {
   "cell_type": "markdown",
   "metadata": {},
   "source": [
    "As an aside, note that there may be a variety of distinct forms of missingness in a variable, and in some cases it is important to keep these values distinct.  For example, in case of the DMDEDUC2 variable, in addition to the blank or NA values that Pandas considers to be missing, three people responded \"don't know\" (code value 9).  In many analyses, the \"don't know\" values will also be treated as missing, we will fix those later."
   ]
  },
  {
   "cell_type": "code",
   "execution_count": 306,
   "metadata": {},
   "outputs": [
    {
     "data": {
      "text/plain": [
       "ID                         0\n",
       "ALQ101                   527\n",
       "ALQ110                  4004\n",
       "avg_drinks_per_day      2356\n",
       "smoker                     0\n",
       "gender                     0\n",
       "age                        0\n",
       "race                       0\n",
       "citizen                    1\n",
       "educ_level               261\n",
       "mari_stat                261\n",
       "DMDHHSIZ                   0\n",
       "WTINT2YR                   0\n",
       "SDMVPSU                    0\n",
       "SDMVSTRA                   0\n",
       "fam_pov_income_ratio     601\n",
       "systolic_bp              334\n",
       "diastolic_bp             334\n",
       "BPXSY2                   200\n",
       "BPXDI2                   200\n",
       "weight                    69\n",
       "height                    62\n",
       "bmi                       73\n",
       "upper_leg_len            390\n",
       "upper_arm_len            308\n",
       "arm_cir                  308\n",
       "waist_cir                367\n",
       "HIQ210                  1003\n",
       "dtype: int64"
      ]
     },
     "execution_count": 306,
     "metadata": {},
     "output_type": "execute_result"
    }
   ],
   "source": [
    "# this returns the number of missing values in each column\n",
    "nhanes.isnull().sum()"
   ]
  },
  {
   "cell_type": "code",
   "execution_count": 307,
   "metadata": {
    "scrolled": true
   },
   "outputs": [
    {
     "data": {
      "text/html": [
       "<div>\n",
       "<style scoped>\n",
       "    .dataframe tbody tr th:only-of-type {\n",
       "        vertical-align: middle;\n",
       "    }\n",
       "\n",
       "    .dataframe tbody tr th {\n",
       "        vertical-align: top;\n",
       "    }\n",
       "\n",
       "    .dataframe thead th {\n",
       "        text-align: right;\n",
       "    }\n",
       "</style>\n",
       "<table border=\"1\" class=\"dataframe\">\n",
       "  <thead>\n",
       "    <tr style=\"text-align: right;\">\n",
       "      <th></th>\n",
       "      <th>ID</th>\n",
       "      <th>ALQ101</th>\n",
       "      <th>ALQ110</th>\n",
       "      <th>avg_drinks_per_day</th>\n",
       "      <th>smoker</th>\n",
       "      <th>gender</th>\n",
       "      <th>age</th>\n",
       "      <th>race</th>\n",
       "      <th>citizen</th>\n",
       "      <th>educ_level</th>\n",
       "      <th>...</th>\n",
       "      <th>BPXSY2</th>\n",
       "      <th>BPXDI2</th>\n",
       "      <th>weight</th>\n",
       "      <th>height</th>\n",
       "      <th>bmi</th>\n",
       "      <th>upper_leg_len</th>\n",
       "      <th>upper_arm_len</th>\n",
       "      <th>arm_cir</th>\n",
       "      <th>waist_cir</th>\n",
       "      <th>HIQ210</th>\n",
       "    </tr>\n",
       "  </thead>\n",
       "  <tbody>\n",
       "    <tr>\n",
       "      <th>201</th>\n",
       "      <td>84075</td>\n",
       "      <td>1.0</td>\n",
       "      <td>NaN</td>\n",
       "      <td>NaN</td>\n",
       "      <td>1</td>\n",
       "      <td>1</td>\n",
       "      <td>62</td>\n",
       "      <td>3</td>\n",
       "      <td>1.0</td>\n",
       "      <td>3.0</td>\n",
       "      <td>...</td>\n",
       "      <td>126.0</td>\n",
       "      <td>74.0</td>\n",
       "      <td>NaN</td>\n",
       "      <td>178.9</td>\n",
       "      <td>NaN</td>\n",
       "      <td>NaN</td>\n",
       "      <td>NaN</td>\n",
       "      <td>NaN</td>\n",
       "      <td>NaN</td>\n",
       "      <td>2.0</td>\n",
       "    </tr>\n",
       "    <tr>\n",
       "      <th>216</th>\n",
       "      <td>84103</td>\n",
       "      <td>NaN</td>\n",
       "      <td>NaN</td>\n",
       "      <td>NaN</td>\n",
       "      <td>1</td>\n",
       "      <td>1</td>\n",
       "      <td>33</td>\n",
       "      <td>3</td>\n",
       "      <td>1.0</td>\n",
       "      <td>4.0</td>\n",
       "      <td>...</td>\n",
       "      <td>NaN</td>\n",
       "      <td>NaN</td>\n",
       "      <td>NaN</td>\n",
       "      <td>NaN</td>\n",
       "      <td>NaN</td>\n",
       "      <td>NaN</td>\n",
       "      <td>NaN</td>\n",
       "      <td>NaN</td>\n",
       "      <td>NaN</td>\n",
       "      <td>2.0</td>\n",
       "    </tr>\n",
       "    <tr>\n",
       "      <th>220</th>\n",
       "      <td>84108</td>\n",
       "      <td>2.0</td>\n",
       "      <td>1.0</td>\n",
       "      <td>1.0</td>\n",
       "      <td>1</td>\n",
       "      <td>1</td>\n",
       "      <td>63</td>\n",
       "      <td>3</td>\n",
       "      <td>1.0</td>\n",
       "      <td>5.0</td>\n",
       "      <td>...</td>\n",
       "      <td>114.0</td>\n",
       "      <td>58.0</td>\n",
       "      <td>NaN</td>\n",
       "      <td>186.5</td>\n",
       "      <td>NaN</td>\n",
       "      <td>41.0</td>\n",
       "      <td>40.9</td>\n",
       "      <td>31.2</td>\n",
       "      <td>97.5</td>\n",
       "      <td>1.0</td>\n",
       "    </tr>\n",
       "    <tr>\n",
       "      <th>242</th>\n",
       "      <td>84147</td>\n",
       "      <td>1.0</td>\n",
       "      <td>NaN</td>\n",
       "      <td>NaN</td>\n",
       "      <td>2</td>\n",
       "      <td>1</td>\n",
       "      <td>78</td>\n",
       "      <td>1</td>\n",
       "      <td>2.0</td>\n",
       "      <td>1.0</td>\n",
       "      <td>...</td>\n",
       "      <td>120.0</td>\n",
       "      <td>0.0</td>\n",
       "      <td>NaN</td>\n",
       "      <td>NaN</td>\n",
       "      <td>NaN</td>\n",
       "      <td>NaN</td>\n",
       "      <td>NaN</td>\n",
       "      <td>NaN</td>\n",
       "      <td>NaN</td>\n",
       "      <td>2.0</td>\n",
       "    </tr>\n",
       "    <tr>\n",
       "      <th>275</th>\n",
       "      <td>84203</td>\n",
       "      <td>1.0</td>\n",
       "      <td>NaN</td>\n",
       "      <td>3.0</td>\n",
       "      <td>2</td>\n",
       "      <td>1</td>\n",
       "      <td>21</td>\n",
       "      <td>4</td>\n",
       "      <td>1.0</td>\n",
       "      <td>5.0</td>\n",
       "      <td>...</td>\n",
       "      <td>120.0</td>\n",
       "      <td>68.0</td>\n",
       "      <td>118.1</td>\n",
       "      <td>NaN</td>\n",
       "      <td>NaN</td>\n",
       "      <td>51.5</td>\n",
       "      <td>46.0</td>\n",
       "      <td>40.2</td>\n",
       "      <td>114.0</td>\n",
       "      <td>2.0</td>\n",
       "    </tr>\n",
       "    <tr>\n",
       "      <th>...</th>\n",
       "      <td>...</td>\n",
       "      <td>...</td>\n",
       "      <td>...</td>\n",
       "      <td>...</td>\n",
       "      <td>...</td>\n",
       "      <td>...</td>\n",
       "      <td>...</td>\n",
       "      <td>...</td>\n",
       "      <td>...</td>\n",
       "      <td>...</td>\n",
       "      <td>...</td>\n",
       "      <td>...</td>\n",
       "      <td>...</td>\n",
       "      <td>...</td>\n",
       "      <td>...</td>\n",
       "      <td>...</td>\n",
       "      <td>...</td>\n",
       "      <td>...</td>\n",
       "      <td>...</td>\n",
       "      <td>...</td>\n",
       "      <td>...</td>\n",
       "    </tr>\n",
       "    <tr>\n",
       "      <th>5574</th>\n",
       "      <td>93421</td>\n",
       "      <td>2.0</td>\n",
       "      <td>2.0</td>\n",
       "      <td>NaN</td>\n",
       "      <td>2</td>\n",
       "      <td>2</td>\n",
       "      <td>80</td>\n",
       "      <td>1</td>\n",
       "      <td>2.0</td>\n",
       "      <td>1.0</td>\n",
       "      <td>...</td>\n",
       "      <td>124.0</td>\n",
       "      <td>52.0</td>\n",
       "      <td>NaN</td>\n",
       "      <td>NaN</td>\n",
       "      <td>NaN</td>\n",
       "      <td>NaN</td>\n",
       "      <td>NaN</td>\n",
       "      <td>NaN</td>\n",
       "      <td>NaN</td>\n",
       "      <td>2.0</td>\n",
       "    </tr>\n",
       "    <tr>\n",
       "      <th>5595</th>\n",
       "      <td>93455</td>\n",
       "      <td>NaN</td>\n",
       "      <td>NaN</td>\n",
       "      <td>NaN</td>\n",
       "      <td>1</td>\n",
       "      <td>1</td>\n",
       "      <td>73</td>\n",
       "      <td>1</td>\n",
       "      <td>1.0</td>\n",
       "      <td>2.0</td>\n",
       "      <td>...</td>\n",
       "      <td>112.0</td>\n",
       "      <td>64.0</td>\n",
       "      <td>NaN</td>\n",
       "      <td>NaN</td>\n",
       "      <td>NaN</td>\n",
       "      <td>NaN</td>\n",
       "      <td>NaN</td>\n",
       "      <td>NaN</td>\n",
       "      <td>NaN</td>\n",
       "      <td>2.0</td>\n",
       "    </tr>\n",
       "    <tr>\n",
       "      <th>5640</th>\n",
       "      <td>93538</td>\n",
       "      <td>1.0</td>\n",
       "      <td>NaN</td>\n",
       "      <td>2.0</td>\n",
       "      <td>2</td>\n",
       "      <td>1</td>\n",
       "      <td>28</td>\n",
       "      <td>3</td>\n",
       "      <td>1.0</td>\n",
       "      <td>2.0</td>\n",
       "      <td>...</td>\n",
       "      <td>NaN</td>\n",
       "      <td>NaN</td>\n",
       "      <td>NaN</td>\n",
       "      <td>NaN</td>\n",
       "      <td>NaN</td>\n",
       "      <td>NaN</td>\n",
       "      <td>NaN</td>\n",
       "      <td>NaN</td>\n",
       "      <td>NaN</td>\n",
       "      <td>2.0</td>\n",
       "    </tr>\n",
       "    <tr>\n",
       "      <th>5696</th>\n",
       "      <td>93629</td>\n",
       "      <td>NaN</td>\n",
       "      <td>NaN</td>\n",
       "      <td>NaN</td>\n",
       "      <td>1</td>\n",
       "      <td>2</td>\n",
       "      <td>51</td>\n",
       "      <td>3</td>\n",
       "      <td>1.0</td>\n",
       "      <td>1.0</td>\n",
       "      <td>...</td>\n",
       "      <td>NaN</td>\n",
       "      <td>NaN</td>\n",
       "      <td>NaN</td>\n",
       "      <td>NaN</td>\n",
       "      <td>NaN</td>\n",
       "      <td>NaN</td>\n",
       "      <td>NaN</td>\n",
       "      <td>NaN</td>\n",
       "      <td>NaN</td>\n",
       "      <td>2.0</td>\n",
       "    </tr>\n",
       "    <tr>\n",
       "      <th>5705</th>\n",
       "      <td>93645</td>\n",
       "      <td>2.0</td>\n",
       "      <td>1.0</td>\n",
       "      <td>NaN</td>\n",
       "      <td>1</td>\n",
       "      <td>1</td>\n",
       "      <td>80</td>\n",
       "      <td>3</td>\n",
       "      <td>1.0</td>\n",
       "      <td>5.0</td>\n",
       "      <td>...</td>\n",
       "      <td>168.0</td>\n",
       "      <td>0.0</td>\n",
       "      <td>NaN</td>\n",
       "      <td>165.9</td>\n",
       "      <td>NaN</td>\n",
       "      <td>37.0</td>\n",
       "      <td>38.0</td>\n",
       "      <td>30.0</td>\n",
       "      <td>95.0</td>\n",
       "      <td>2.0</td>\n",
       "    </tr>\n",
       "  </tbody>\n",
       "</table>\n",
       "<p>73 rows × 28 columns</p>\n",
       "</div>"
      ],
      "text/plain": [
       "         ID  ALQ101  ALQ110  avg_drinks_per_day  smoker  gender  age  race  \\\n",
       "201   84075     1.0     NaN                 NaN       1       1   62     3   \n",
       "216   84103     NaN     NaN                 NaN       1       1   33     3   \n",
       "220   84108     2.0     1.0                 1.0       1       1   63     3   \n",
       "242   84147     1.0     NaN                 NaN       2       1   78     1   \n",
       "275   84203     1.0     NaN                 3.0       2       1   21     4   \n",
       "...     ...     ...     ...                 ...     ...     ...  ...   ...   \n",
       "5574  93421     2.0     2.0                 NaN       2       2   80     1   \n",
       "5595  93455     NaN     NaN                 NaN       1       1   73     1   \n",
       "5640  93538     1.0     NaN                 2.0       2       1   28     3   \n",
       "5696  93629     NaN     NaN                 NaN       1       2   51     3   \n",
       "5705  93645     2.0     1.0                 NaN       1       1   80     3   \n",
       "\n",
       "      citizen  educ_level  ...  BPXSY2  BPXDI2  weight  height  bmi  \\\n",
       "201       1.0         3.0  ...   126.0    74.0     NaN   178.9  NaN   \n",
       "216       1.0         4.0  ...     NaN     NaN     NaN     NaN  NaN   \n",
       "220       1.0         5.0  ...   114.0    58.0     NaN   186.5  NaN   \n",
       "242       2.0         1.0  ...   120.0     0.0     NaN     NaN  NaN   \n",
       "275       1.0         5.0  ...   120.0    68.0   118.1     NaN  NaN   \n",
       "...       ...         ...  ...     ...     ...     ...     ...  ...   \n",
       "5574      2.0         1.0  ...   124.0    52.0     NaN     NaN  NaN   \n",
       "5595      1.0         2.0  ...   112.0    64.0     NaN     NaN  NaN   \n",
       "5640      1.0         2.0  ...     NaN     NaN     NaN     NaN  NaN   \n",
       "5696      1.0         1.0  ...     NaN     NaN     NaN     NaN  NaN   \n",
       "5705      1.0         5.0  ...   168.0     0.0     NaN   165.9  NaN   \n",
       "\n",
       "      upper_leg_len  upper_arm_len  arm_cir  waist_cir  HIQ210  \n",
       "201             NaN            NaN      NaN        NaN     2.0  \n",
       "216             NaN            NaN      NaN        NaN     2.0  \n",
       "220            41.0           40.9     31.2       97.5     1.0  \n",
       "242             NaN            NaN      NaN        NaN     2.0  \n",
       "275            51.5           46.0     40.2      114.0     2.0  \n",
       "...             ...            ...      ...        ...     ...  \n",
       "5574            NaN            NaN      NaN        NaN     2.0  \n",
       "5595            NaN            NaN      NaN        NaN     2.0  \n",
       "5640            NaN            NaN      NaN        NaN     2.0  \n",
       "5696            NaN            NaN      NaN        NaN     2.0  \n",
       "5705           37.0           38.0     30.0       95.0     2.0  \n",
       "\n",
       "[73 rows x 28 columns]"
      ]
     },
     "execution_count": 307,
     "metadata": {},
     "output_type": "execute_result"
    }
   ],
   "source": [
    "# this returns all the rows where BMI is missing\n",
    "nhanes[nhanes['bmi'].isnull()]"
   ]
  },
  {
   "cell_type": "markdown",
   "metadata": {},
   "source": [
    "### Translation of all the categorical variables\n",
    "For convenience, we list all the number code with informative text category names here, and we code missing values in those categorical variables properly.\n",
    "\n",
    "- Gender:\n",
    "    - 1: Male\n",
    "    - 2: Female\n",
    "- Smoker (smoked at least 100 cigarettes in life):\n",
    "    - 1: Yes\n",
    "    - 2: No\n",
    "- Race: \n",
    "    - 1: Mexican American\n",
    "    - 2: Other Hispanic\n",
    "    - 3: Non-Hispanic White\n",
    "    - 4: Non-Hispanic Black\n",
    "    - 5: Other Race Including Multi-Racial\n",
    "- Education Level:\n",
    "    - 1: < 9th grade\n",
    "    - 2: 9-11th grade\n",
    "    - 3: HS/GED\n",
    "    - 4: Some college/AA\n",
    "    - 5: College\n",
    "- Marital Status:\n",
    "    - 1: Married\n",
    "    - 2: Widowed\n",
    "    - 3: Divorced\n",
    "    - 4: Separated\n",
    "    - 5: Never married\n",
    "    - 6: Living w/partner\n",
    "- Citizenship:\n",
    "    - 1: US Citizen\n",
    "    - 2: Non US Citizen"
   ]
  },
  {
   "cell_type": "code",
   "execution_count": 308,
   "metadata": {},
   "outputs": [],
   "source": [
    "# replace some code as missing values\n",
    "nhanes['avg_drinks_per_day'] =  nhanes['avg_drinks_per_day'].replace({777:np.NaN, 999:np.NaN})\n",
    "nhanes['smoker'] = nhanes['smoker'].replace({7:np.NaN, 9:np.NaN})\n",
    "nhanes['educ_level'] = nhanes['educ_level'].replace({7:np.NaN, 9:np.NaN})\n",
    "nhanes['mari_stat'] = nhanes['mari_stat'].replace({77:np.NaN})\n",
    "nhanes['citizen'] = nhanes['citizen'].replace({7:np.NaN, 9:np.NaN})"
   ]
  },
  {
   "cell_type": "markdown",
   "metadata": {},
   "source": [
    "### Graphical Exploration"
   ]
  },
  {
   "cell_type": "code",
   "execution_count": 309,
   "metadata": {
    "scrolled": true
   },
   "outputs": [
    {
     "data": {
      "image/png": "[encoded data removed]",
      "text/plain": [
       "<Figure size 432x288 with 1 Axes>"
      ]
     },
     "metadata": {},
     "output_type": "display_data"
    }
   ],
   "source": [
    "# age distribution\n",
    "nhanes['age'].plot(kind='hist', bins=40);"
   ]
  },
  {
   "cell_type": "code",
   "execution_count": 310,
   "metadata": {},
   "outputs": [
    {
     "data": {
      "image/png": "[encoded data removed]",
      "text/plain": [
       "<Figure size 432x288 with 1 Axes>"
      ]
     },
     "metadata": {},
     "output_type": "display_data"
    }
   ],
   "source": [
    "# age by gender\n",
    "nhanes[nhanes['gender']==1]['age'].plot(kind='hist', bins=40, label='Male', alpha=0.4)\n",
    "nhanes[nhanes['gender']==2]['age'].plot(kind='hist', bins=40, label='Female', alpha=0.4)\n",
    "plt.legend();"
   ]
  },
  {
   "cell_type": "code",
   "execution_count": 311,
   "metadata": {},
   "outputs": [
    {
     "data": {
      "image/png": "[encoded data removed]",
      "text/plain": [
       "<Figure size 432x288 with 1 Axes>"
      ]
     },
     "metadata": {},
     "output_type": "display_data"
    }
   ],
   "source": [
    "# histogram of blood pressure\n",
    "nhanes[['systolic_bp', 'diastolic_bp']].plot(kind='hist', bins=40, alpha=0.5);"
   ]
  },
  {
   "cell_type": "code",
   "execution_count": 312,
   "metadata": {},
   "outputs": [
    {
     "data": {
      "image/png": "[encoded data removed]",
      "text/plain": [
       "<Figure size 432x288 with 1 Axes>"
      ]
     },
     "metadata": {},
     "output_type": "display_data"
    }
   ],
   "source": [
    "# BMI by gender\n",
    "nhanes[nhanes['gender']==1]['bmi'].plot(kind='hist', bins=40, density=True, label='Male', alpha=0.4)\n",
    "nhanes[nhanes['gender']==2]['bmi'].plot(kind='hist', bins=40, density=True, label='Female', alpha=0.4)\n",
    "plt.legend();"
   ]
  },
  {
   "cell_type": "code",
   "execution_count": 313,
   "metadata": {},
   "outputs": [
    {
     "data": {
      "image/png": "[encoded data removed]",
      "text/plain": [
       "<Figure size 432x288 with 1 Axes>"
      ]
     },
     "metadata": {},
     "output_type": "display_data"
    }
   ],
   "source": [
    "# gener and education level \n",
    "# create a pivot table for ed level and gender\n",
    "ed_gender = nhanes.pivot_table(index='educ_level', columns='gender', values='ID', aggfunc='count', fill_value=0)\n",
    "ed_gender.plot(kind='bar')\n",
    "# fix gender label\n",
    "plt.legend(['Male','Female'])\n",
    "# fix ed level label\n",
    "plt.xticks(np.arange(5),['< 9th grade', '9-11th grade', 'high school', 'some college', '> college'], rotation=45);"
   ]
  },
  {
   "cell_type": "code",
   "execution_count": 314,
   "metadata": {
    "scrolled": true
   },
   "outputs": [
    {
     "data": {
      "image/png": "[encoded data removed]",
      "text/plain": [
       "<Figure size 432x288 with 1 Axes>"
      ]
     },
     "metadata": {},
     "output_type": "display_data"
    }
   ],
   "source": [
    "# race and education level \n",
    "ed_race = nhanes.pivot_table(index='educ_level', columns='race', values='ID', aggfunc='count', fill_value=0)\n",
    "ed_race.plot(kind='bar')\n",
    "# fix race label: Mexican American, Other Hispanic, Non-Hispanic White,Non-Hispanic Black,Other Race Including Multi-Racial\n",
    "plt.legend(['Mexican','Hispanic','White','Black','Other'])\n",
    "# fix ed level label: from codebook\n",
    "plt.xticks(np.arange(5),['< 9th grade', '9-11th grade', 'HS/GED', 'Some college/AA', 'College'], rotation=45);"
   ]
  },
  {
   "cell_type": "code",
   "execution_count": 315,
   "metadata": {},
   "outputs": [
    {
     "data": {
      "image/png": "[encoded data removed]",
      "text/plain": [
       "<Figure size 432x288 with 1 Axes>"
      ]
     },
     "metadata": {},
     "output_type": "display_data"
    }
   ],
   "source": [
    "# education and marital status\n",
    "ed_mar = nhanes.pivot_table(index='educ_level', columns='mari_stat', values='ID', aggfunc='count', fill_value=0)\n",
    "ed_mar.plot(kind='bar')\n",
    "# fix marital status label\n",
    "plt.legend(['Married','Widowed','Divorced','Separated','Never married', 'Living w/partner'])\n",
    "# fix ed level label: from codebook\n",
    "plt.xticks(np.arange(5),['< 9th grade', '9-11th grade', 'HS/GED', 'Some college/AA', 'College'], rotation=45);"
   ]
  },
  {
   "cell_type": "code",
   "execution_count": 316,
   "metadata": {},
   "outputs": [
    {
     "data": {
      "image/png": "[encoded data removed]",
      "text/plain": [
       "<Figure size 432x288 with 1 Axes>"
      ]
     },
     "metadata": {},
     "output_type": "display_data"
    }
   ],
   "source": [
    "# age distribution by marital status\n",
    "sns.boxplot(y='age', x='mari_stat', data=nhanes)\n",
    "plt.xticks(np.arange(6), ['Married','Widowed','Divorced','Separated','Never married', 'Living w/partner'], rotation=45);"
   ]
  },
  {
   "cell_type": "code",
   "execution_count": 317,
   "metadata": {
    "scrolled": false
   },
   "outputs": [
    {
     "data": {
      "image/png": "[encoded data removed]",
      "text/plain": [
       "<Figure size 432x288 with 1 Axes>"
      ]
     },
     "metadata": {},
     "output_type": "display_data"
    }
   ],
   "source": [
    "# blood pressure \n",
    "nhanes.plot(kind='scatter', y='systolic_bp', x='diastolic_bp');"
   ]
  },
  {
   "cell_type": "code",
   "execution_count": 318,
   "metadata": {},
   "outputs": [
    {
     "data": {
      "image/png": "[encoded data removed]",
      "text/plain": [
       "<Figure size 432x288 with 1 Axes>"
      ]
     },
     "metadata": {},
     "output_type": "display_data"
    }
   ],
   "source": [
    "# age and blood pressure \n",
    "nhanes.plot(kind='scatter', y='systolic_bp', x='age');"
   ]
  },
  {
   "cell_type": "markdown",
   "metadata": {},
   "source": [
    "### Part II  HW Questions Start Here"
   ]
  },
  {
   "cell_type": "markdown",
   "metadata": {},
   "source": [
    "For each of the hypothesis testing problems, please state the null hypothesis and alternative hypothesis clearly, and indicate whether the alternative is one-sided or two-sided. Select a statistical test that is appropriate and implement it in one or multiple ways. Assume significant level $\\alpha = 0.05$ unless otherwise stated.\n",
    "\n",
    "[`scipy.stats` statistical tests](https://docs.scipy.org/doc/scipy/reference/stats.html#statistical-tests)"
   ]
  },
  {
   "cell_type": "markdown",
   "metadata": {},
   "source": [
    "**Question 2.1**:\n",
    "\n",
    "Suppose that the proportion of smokers in the US was known to be 40%, and we wished to assess whether the proportion of smokers in the NHANES data were different from 40%. Notice the `Smoker` column indicates the status of smoking, and we will ignore all the missing data, and take the proportion of `Smoker` coded 1 as smokers. \n",
    "\n",
    "Carry out the test for population proportion of smokers being 40%. Do this in three ways!"
   ]
  },
  {
   "cell_type": "markdown",
   "metadata": {},
   "source": [
    "**Solution**:\n",
    "\n",
    "Null hypothesis: The proportion of smokers in the US is 40%\n",
    "\n",
    "Alternative hypothesis: The proportion of smokers in the US is different than 40%"
   ]
  },
  {
   "cell_type": "code",
   "execution_count": 319,
   "metadata": {},
   "outputs": [],
   "source": [
    "# define smoker, exclude missing values\n",
    "smoker = nhanes['smoker'].dropna()==1"
   ]
  },
  {
   "cell_type": "code",
   "execution_count": 321,
   "metadata": {},
   "outputs": [],
   "source": [
    "p = 0.4\n",
    "p_hat = np.average(smoker)\n",
    "n = len(smoker)"
   ]
  },
  {
   "cell_type": "markdown",
   "metadata": {},
   "source": [
    "First carry out this test \"by hand\": according to CLT, under the null:\n",
    "$$ \\frac{\\hat{p} - p}{\\sqrt{p(1-p)/n}} \\sim \\text{N}(0, 1) $$\n"
   ]
  },
  {
   "cell_type": "code",
   "execution_count": 322,
   "metadata": {},
   "outputs": [
    {
     "name": "stdout",
     "output_type": "stream",
     "text": [
      "0.7823563854332805 0.4340051581348052\n"
     ]
    }
   ],
   "source": [
    "z_score = (p_hat-p)/((p*(1-p))/n)**0.5\n",
    "p_value = st.norm(0, 1).cdf(-z_score) + (1-st.norm(0, 1).cdf(z_score))\n",
    "print(z_score, p_value)"
   ]
  },
  {
   "cell_type": "markdown",
   "metadata": {},
   "source": [
    "Carry out the same test using [`statsmodels.stats.proportion.proportions_ztest`](https://www.statsmodels.org/stable/generated/statsmodels.stats.proportion.proportions_ztest.html#statsmodels.stats.proportion.proportions_ztest):"
   ]
  },
  {
   "cell_type": "code",
   "execution_count": 323,
   "metadata": {
    "scrolled": true
   },
   "outputs": [
    {
     "data": {
      "text/plain": [
       "(0.7807518954896244, 0.43494843171868214)"
      ]
     },
     "execution_count": 323,
     "metadata": {},
     "output_type": "execute_result"
    }
   ],
   "source": [
    "sm.stats.proportions_ztest(count=sum(smoker), nobs=len(smoker), value=0.4, alternative='two-sided')\n",
    "# this returns z-score and p-value"
   ]
  },
  {
   "cell_type": "code",
   "execution_count": 332,
   "metadata": {},
   "outputs": [
    {
     "data": {
      "text/plain": [
       "0.7807518954896243"
      ]
     },
     "execution_count": 332,
     "metadata": {},
     "output_type": "execute_result"
    }
   ],
   "source": [
    "z_score = (p_hat-p)/((p_hat*(1-p_hat))/n)**0.5\n",
    "z_score"
   ]
  },
  {
   "cell_type": "markdown",
   "metadata": {},
   "source": [
    "Carry out the same test using [`statsmodels.stats.proportion.binom_test`](https://www.statsmodels.org/stable/generated/statsmodels.stats.proportion.binom_test.html):"
   ]
  },
  {
   "cell_type": "code",
   "execution_count": 324,
   "metadata": {
    "scrolled": true
   },
   "outputs": [
    {
     "name": "stderr",
     "output_type": "stream",
     "text": [
      "/opt/anaconda3/lib/python3.9/site-packages/scipy/stats/_discrete_distns.py:67: RuntimeWarning: divide by zero encountered in _binom_pdf\n",
      "  return _boost._binom_pdf(x, n, p)\n"
     ]
    },
    {
     "data": {
      "text/plain": [
       "0.43403608544100336"
      ]
     },
     "execution_count": 324,
     "metadata": {},
     "output_type": "execute_result"
    }
   ],
   "source": [
    "sm.stats.binom_test(count=sum(smoker), nobs=len(smoker), prop=0.4, alternative=\"two-sided\")\n",
    "# this only returns p-value, why is it slightly different?"
   ]
  },
  {
   "cell_type": "markdown",
   "metadata": {},
   "source": [
    "Carry out the same test using [`scipy.stats.binom_test`](https://docs.scipy.org/doc/scipy/reference/generated/scipy.stats.binom_test.html#scipy.stats.binom_test):"
   ]
  },
  {
   "cell_type": "code",
   "execution_count": 325,
   "metadata": {},
   "outputs": [
    {
     "data": {
      "text/plain": [
       "0.43403608544100336"
      ]
     },
     "execution_count": 325,
     "metadata": {},
     "output_type": "execute_result"
    }
   ],
   "source": [
    "st.binom_test(x=sum(smoker), n=len(smoker), p=0.4, alternative='two-sided')\n",
    "# this only returns p-value and it should be exactly the same as the above one"
   ]
  },
  {
   "cell_type": "markdown",
   "metadata": {},
   "source": [
    "**Conclusion**:\n",
    "\n",
    "We fail to reject $H_0$, because there is no enough evidence to demonstrate the observed data differ in distribution to the null data, taking into account that $p-value > \\alpha$. In other words, we don't have enough evidence to say that the proportion is different than 40%"
   ]
  },
  {
   "cell_type": "markdown",
   "metadata": {},
   "source": [
    "**Question 2.2**:\n",
    "\n",
    "We are interested in comparing BMI between male and female population. In general, we hypothesize the average BMI index in the female population is slightly higher than in male population. Carry out the test to answer this question. You can assume the BMI index follows normal distribution in the general population."
   ]
  },
  {
   "cell_type": "markdown",
   "metadata": {},
   "source": [
    "**Solution**:\n",
    "\n",
    "Null hypothesis: the average BMI index for male and female are the same.\n",
    "\n",
    "Alternative hypothesis: the BMI index for female is higher than in male population."
   ]
  },
  {
   "cell_type": "code",
   "execution_count": 326,
   "metadata": {},
   "outputs": [
    {
     "name": "stdout",
     "output_type": "stream",
     "text": [
      "Average male BMI is 28.778 with standard deviation: 6.251\n",
      "Average female BMI is 29.940 with standard deviation: 7.752\n",
      "The lenght of male BMI is 2718 and female BMI is 2944\n"
     ]
    }
   ],
   "source": [
    "BMI_male = nhanes[nhanes['gender']==1]['bmi'].dropna()\n",
    "BMI_female = nhanes[nhanes['gender']==2]['bmi'].dropna()\n",
    "print(\"Average male BMI is %.3f\" % np.mean(BMI_male), \"with standard deviation: %.3f\" % np.std(BMI_male))\n",
    "print(\"Average female BMI is %.3f\" % np.mean(BMI_female), \"with standard deviation: %.3f\" % np.std(BMI_female))\n",
    "print(\"The lenght of male BMI is %i\" %len(BMI_male), \"and female BMI is %i\" %len(BMI_female))"
   ]
  },
  {
   "cell_type": "markdown",
   "metadata": {},
   "source": [
    "Which test should you use?\n",
    "\n",
    "- [`scipy.stats.ttest_1samp`](https://docs.scipy.org/doc/scipy/reference/generated/scipy.stats.ttest_1samp.html#scipy.stats.ttest_1samp): 1-sample t-test\n",
    "- [`scipy.stats.ttest_ind`](https://docs.scipy.org/doc/scipy/reference/generated/scipy.stats.ttest_ind.html#scipy.stats.ttest_ind): 2-sample independent t-test \n",
    "- [`scipy.stats.ttest_rel`](https://docs.scipy.org/doc/scipy/reference/generated/scipy.stats.ttest_rel.html#scipy.stats.ttest_rel): 2-sample paired t-test"
   ]
  },
  {
   "cell_type": "code",
   "execution_count": 327,
   "metadata": {},
   "outputs": [
    {
     "data": {
      "text/plain": [
       "Ttest_indResult(statistic=-6.228051375741995, pvalue=5.069046249149507e-10)"
      ]
     },
     "execution_count": 327,
     "metadata": {},
     "output_type": "execute_result"
    }
   ],
   "source": [
    "# 2-sample independent t-test \n",
    "# notice this can not perform one-sided test\n",
    "BMI_test = st.ttest_ind(a = BMI_male, b = BMI_female, equal_var = False, alternative = 'two-sided')\n",
    "BMI_test"
   ]
  },
  {
   "cell_type": "code",
   "execution_count": 328,
   "metadata": {},
   "outputs": [
    {
     "data": {
      "text/plain": [
       "2.5345231245747537e-10"
      ]
     },
     "execution_count": 328,
     "metadata": {},
     "output_type": "execute_result"
    }
   ],
   "source": [
    "# need to divide p_value by 2, convert 2-sided to 1-sided correctly\n",
    "p_value = BMI_test[1]/2\n",
    "p_value"
   ]
  },
  {
   "cell_type": "markdown",
   "metadata": {},
   "source": [
    "**Conclusion**:\n",
    "\n",
    "We reject $H_0$, so we can say that the female BMI index is higher, as the $p-value < \\alpha$. And the mean of female BMI index is greater than the male BMI index."
   ]
  },
  {
   "cell_type": "markdown",
   "metadata": {},
   "source": [
    "**Question 2.3**:\n",
    "\n",
    "Are arm length and leg length the same on average? You can assume both follow normal distribution in the general population."
   ]
  },
  {
   "cell_type": "markdown",
   "metadata": {},
   "source": [
    "**Solution**:\n",
    "\n",
    "Null hypothesis: The average arm length and the leg length are the same.\n",
    "\n",
    "Alternative hypothesis: The arm length and the leg length are not equal."
   ]
  },
  {
   "cell_type": "code",
   "execution_count": 329,
   "metadata": {},
   "outputs": [],
   "source": [
    "arm_leg = nhanes[['upper_leg_len', 'upper_arm_len']].dropna()\n",
    "arm = arm_leg['upper_arm_len']\n",
    "leg = arm_leg['upper_leg_len']"
   ]
  },
  {
   "cell_type": "code",
   "execution_count": 113,
   "metadata": {},
   "outputs": [
    {
     "name": "stdout",
     "output_type": "stream",
     "text": [
      "Average arm length is 37.147 with standard deviation: 2.799\n",
      "Average leg length is 38.578 with standard deviation: 3.874\n"
     ]
    }
   ],
   "source": [
    "print(\"Average arm length is %.3f\" % np.mean(arm), \"with standard deviation: %.3f\" % np.std(arm))\n",
    "print(\"Average leg length is %.3f\" % np.mean(leg), \"with standard deviation: %.3f\" % np.std(leg))"
   ]
  },
  {
   "cell_type": "markdown",
   "metadata": {},
   "source": [
    "Which test should you use?\n",
    "\n",
    "- [`scipy.stats.ttest_1samp`](https://docs.scipy.org/doc/scipy/reference/generated/scipy.stats.ttest_1samp.html#scipy.stats.ttest_1samp): 1-sample t-test\n",
    "- [`scipy.stats.ttest_ind`](https://docs.scipy.org/doc/scipy/reference/generated/scipy.stats.ttest_ind.html#scipy.stats.ttest_ind): 2-sample independent t-test \n",
    "- [`scipy.stats.ttest_rel`](https://docs.scipy.org/doc/scipy/reference/generated/scipy.stats.ttest_rel.html#scipy.stats.ttest_rel): 2-sample paired t-test"
   ]
  },
  {
   "cell_type": "code",
   "execution_count": 183,
   "metadata": {},
   "outputs": [
    {
     "data": {
      "text/plain": [
       "Ttest_relResult(statistic=-34.27547078076742, pvalue=6.849455304108963e-233)"
      ]
     },
     "execution_count": 183,
     "metadata": {},
     "output_type": "execute_result"
    }
   ],
   "source": [
    "# 2-sample paired t-test\n",
    "arm_leg_test = st.ttest_rel(arm, leg, alternative = \"two-sided\")\n",
    "arm_leg_test"
   ]
  },
  {
   "cell_type": "code",
   "execution_count": 184,
   "metadata": {},
   "outputs": [
    {
     "data": {
      "text/plain": [
       "6.849455304108963e-233"
      ]
     },
     "execution_count": 184,
     "metadata": {},
     "output_type": "execute_result"
    }
   ],
   "source": [
    "p_value = arm_leg_test[1]\n",
    "p_value"
   ]
  },
  {
   "cell_type": "markdown",
   "metadata": {},
   "source": [
    "**Conclusion**:\n",
    "\n",
    "We reject $H_0$. The lenght of arms and legs are not the same on average, as our p-value is way smaller compared to our alpha."
   ]
  },
  {
   "cell_type": "markdown",
   "metadata": {},
   "source": [
    "**Question 2.4**:\n",
    "\n",
    "From the previous test, we are further interested in exploring the relationship between the arm length and leg length. Let's test whether these two are linearly associated in a positive way, i.e, positively correlated. In other words, we would like to calculate the Pearson correlation between the two and formally test whether the correlation is a positive one. Let's first create a scatter plot to visually explore the correlation:"
   ]
  },
  {
   "cell_type": "code",
   "execution_count": 185,
   "metadata": {
    "scrolled": true
   },
   "outputs": [
    {
     "data": {
      "image/png": "[encoded data removed]",
      "text/plain": [
       "<Figure size 432x288 with 1 Axes>"
      ]
     },
     "metadata": {},
     "output_type": "display_data"
    }
   ],
   "source": [
    "# arm length vs. leg length\n",
    "nhanes.plot(kind='scatter', y='upper_leg_len', x='upper_arm_len');"
   ]
  },
  {
   "cell_type": "markdown",
   "metadata": {},
   "source": [
    "**Solution**:\n",
    "\n",
    "Null hypothesis: Both are uncorrelated.\n",
    "\n",
    "Alternative hypothesis: They are correlated."
   ]
  },
  {
   "cell_type": "markdown",
   "metadata": {},
   "source": [
    "Which test to use?\n",
    "\n",
    "- [`scipy.stats.pearsonr`](https://docs.scipy.org/doc/scipy/reference/generated/scipy.stats.pearsonr.html#scipy.stats.pearsonr): test Pearson correlation between two numerical variables"
   ]
  },
  {
   "cell_type": "code",
   "execution_count": 186,
   "metadata": {},
   "outputs": [
    {
     "data": {
      "text/plain": [
       "(0.6245370012742526, 0.0)"
      ]
     },
     "execution_count": 186,
     "metadata": {},
     "output_type": "execute_result"
    }
   ],
   "source": [
    "cor_test = st.pearsonr(arm, leg)\n",
    "cor_test"
   ]
  },
  {
   "cell_type": "code",
   "execution_count": 187,
   "metadata": {},
   "outputs": [
    {
     "data": {
      "text/plain": [
       "0.0"
      ]
     },
     "execution_count": 187,
     "metadata": {},
     "output_type": "execute_result"
    }
   ],
   "source": [
    "p_value = cor_test[1]\n",
    "p_value"
   ]
  },
  {
   "cell_type": "markdown",
   "metadata": {},
   "source": [
    "**Conclusion**:\n",
    "\n",
    "We reject the $H_0$. The two parameters are correlated. The p_value returned from the function is really small, so we reject the $H_0$."
   ]
  },
  {
   "cell_type": "markdown",
   "metadata": {},
   "source": [
    "If you are feeling fancy, we can create a plot with hypothesis testing result for the Pearson correlation:"
   ]
  },
  {
   "cell_type": "code",
   "execution_count": 198,
   "metadata": {},
   "outputs": [
    {
     "ename": "AttributeError",
     "evalue": "'JointGrid' object has no attribute 'annotate'",
     "output_type": "error",
     "traceback": [
      "\u001b[0;31m---------------------------------------------------------------------------\u001b[0m",
      "\u001b[0;31mAttributeError\u001b[0m                            Traceback (most recent call last)",
      "Input \u001b[0;32mIn [198]\u001b[0m, in \u001b[0;36m<cell line: 4>\u001b[0;34m()\u001b[0m\n\u001b[1;32m      1\u001b[0m \u001b[38;5;66;03m# sns contour plot with kernal density estimate\u001b[39;00m\n\u001b[1;32m      2\u001b[0m \u001b[38;5;66;03m# also performing a hypothesis test on Pearson correlation\u001b[39;00m\n\u001b[1;32m      3\u001b[0m \u001b[38;5;66;03m# ignore the warning message\u001b[39;00m\n\u001b[0;32m----> 4\u001b[0m \u001b[43msns\u001b[49m\u001b[38;5;241;43m.\u001b[39;49m\u001b[43mjointplot\u001b[49m\u001b[43m(\u001b[49m\u001b[43mkind\u001b[49m\u001b[38;5;241;43m=\u001b[39;49m\u001b[38;5;124;43m'\u001b[39;49m\u001b[38;5;124;43mkde\u001b[39;49m\u001b[38;5;124;43m'\u001b[39;49m\u001b[43m,\u001b[49m\u001b[43m \u001b[49m\u001b[43my\u001b[49m\u001b[38;5;241;43m=\u001b[39;49m\u001b[38;5;124;43m'\u001b[39;49m\u001b[38;5;124;43mupper_leg_len\u001b[39;49m\u001b[38;5;124;43m'\u001b[39;49m\u001b[43m,\u001b[49m\u001b[43m \u001b[49m\u001b[43mx\u001b[49m\u001b[38;5;241;43m=\u001b[39;49m\u001b[38;5;124;43m'\u001b[39;49m\u001b[38;5;124;43mupper_arm_len\u001b[39;49m\u001b[38;5;124;43m'\u001b[39;49m\u001b[43m,\u001b[49m\u001b[43m \u001b[49m\u001b[43mdata\u001b[49m\u001b[38;5;241;43m=\u001b[39;49m\u001b[43mnhanes\u001b[49m\u001b[43m)\u001b[49m\u001b[38;5;241;43m.\u001b[39;49m\u001b[43mannotate\u001b[49m(st\u001b[38;5;241m.\u001b[39mpearsonr)\n",
      "\u001b[0;31mAttributeError\u001b[0m: 'JointGrid' object has no attribute 'annotate'"
     ]
    },
    {
     "data": {
      "image/png": "[encoded data removed]",
      "text/plain": [
       "<Figure size 432x432 with 3 Axes>"
      ]
     },
     "metadata": {},
     "output_type": "display_data"
    }
   ],
   "source": [
    "# sns contour plot with kernal density estimate\n",
    "# also performing a hypothesis test on Pearson correlation\n",
    "# ignore the warning message\n",
    "sns.jointplot(kind='kde', y='upper_leg_len', x='upper_arm_len', data=nhanes).annotate(st.pearsonr);"
   ]
  },
  {
   "cell_type": "markdown",
   "metadata": {},
   "source": [
    "**Question 2.5**:\n",
    "\n",
    "We want to test whether the age distribution in the NHANES dataset is normal.  "
   ]
  },
  {
   "cell_type": "markdown",
   "metadata": {},
   "source": [
    "**Solution**:\n",
    "\n",
    "Null hypothesis: The age distribution follows a normal distribution\n",
    "\n",
    "Alternative hypothesis: The age distribution does not follow a normal distribution."
   ]
  },
  {
   "cell_type": "markdown",
   "metadata": {},
   "source": [
    "Which test to use? All three can be used, but using different test statistics. \n",
    "\n",
    "- [`scipy.stats.kstest`](https://docs.scipy.org/doc/scipy/reference/generated/scipy.stats.kstest.html#scipy.stats.kstest): Performs the (one-sample or two-sample) Kolmogorov-Smirnov test for goodness of fit.\n",
    "- [`scipy.stats.shapiro`](https://docs.scipy.org/doc/scipy/reference/generated/scipy.stats.shapiro.html#scipy.stats.shapiro): Perform the Shapiro-Wilk test for normality.\n",
    "- [`scipy.stats.normaltest`](https://docs.scipy.org/doc/scipy/reference/generated/scipy.stats.normaltest.html#scipy.stats.normaltest): Test whether a sample differs from a normal distribution."
   ]
  },
  {
   "cell_type": "code",
   "execution_count": 208,
   "metadata": {},
   "outputs": [
    {
     "data": {
      "image/png": "[encoded data removed]",
      "text/plain": [
       "<Figure size 432x288 with 1 Axes>"
      ]
     },
     "metadata": {},
     "output_type": "display_data"
    }
   ],
   "source": [
    "age = nhanes['age'].dropna()\n",
    "plt.hist(age)\n",
    "plt.show()"
   ]
  },
  {
   "cell_type": "code",
   "execution_count": 200,
   "metadata": {},
   "outputs": [
    {
     "data": {
      "text/plain": [
       "NormaltestResult(statistic=2926.957777430139, pvalue=0.0)"
      ]
     },
     "execution_count": 200,
     "metadata": {},
     "output_type": "execute_result"
    }
   ],
   "source": [
    "norm_test = st.normaltest(age)\n",
    "norm_test"
   ]
  },
  {
   "cell_type": "code",
   "execution_count": 202,
   "metadata": {},
   "outputs": [
    {
     "data": {
      "text/plain": [
       "0.0"
      ]
     },
     "execution_count": 202,
     "metadata": {},
     "output_type": "execute_result"
    }
   ],
   "source": [
    "p_value = norm_test[1]\n",
    "p_value"
   ]
  },
  {
   "cell_type": "markdown",
   "metadata": {},
   "source": [
    "**Conclusion**:\n",
    "\n",
    "We reject the $H_0$, because the value is really is small. This means that the age distribution does not follow a normal distribution."
   ]
  },
  {
   "cell_type": "markdown",
   "metadata": {},
   "source": [
    "**Question 2.6**:\n",
    "We would like to further test whether the age distribution of male and female are the same in the NHANES dataset. "
   ]
  },
  {
   "cell_type": "markdown",
   "metadata": {},
   "source": [
    "**Solution**:\n",
    "\n",
    "Null hypothesis: The age distribution of male and female are the same.\n",
    "\n",
    "Alternative hypothesis: The age distribution of male and female are not the same."
   ]
  },
  {
   "cell_type": "markdown",
   "metadata": {},
   "source": [
    "Which test to use?\n",
    "\n",
    "- [`scipy.stats.kstest`](https://docs.scipy.org/doc/scipy/reference/generated/scipy.stats.kstest.html#scipy.stats.kstest): Performs the (one-sample or two-sample) Kolmogorov-Smirnov test for goodness of fit.\n",
    "- [`scipy.stats.ks_1samp`](https://docs.scipy.org/doc/scipy/reference/generated/scipy.stats.ks_1samp.html#scipy.stats.ks_1samp): one-sample Kolmogorov-Smirnov test for goodness of fit.\n",
    "- [`scipy.stats.ks_2samp`](https://docs.scipy.org/doc/scipy/reference/generated/scipy.stats.ks_2samp.html#scipy.stats.ks_2samp): two-sample Kolmogorov-Smirnov test for goodness of fit."
   ]
  },
  {
   "cell_type": "code",
   "execution_count": 213,
   "metadata": {},
   "outputs": [],
   "source": [
    "male_age = nhanes[nhanes['gender']==1]['age'].dropna()\n",
    "female_age = nhanes[nhanes['gender']==2]['age'].dropna()"
   ]
  },
  {
   "cell_type": "code",
   "execution_count": 214,
   "metadata": {},
   "outputs": [
    {
     "data": {
      "text/plain": [
       "KstestResult(statistic=0.03280929080584753, pvalue=0.08904003761553114)"
      ]
     },
     "execution_count": 214,
     "metadata": {},
     "output_type": "execute_result"
    }
   ],
   "source": [
    "gender_age_test = st.ks_2samp(male_age, female_age)\n",
    "gender_age_test"
   ]
  },
  {
   "cell_type": "code",
   "execution_count": 273,
   "metadata": {},
   "outputs": [
    {
     "data": {
      "text/plain": [
       "0.08904003761553114"
      ]
     },
     "execution_count": 273,
     "metadata": {},
     "output_type": "execute_result"
    }
   ],
   "source": [
    "p_value = gender_age_test[1]\n",
    "p_value"
   ]
  },
  {
   "cell_type": "markdown",
   "metadata": {},
   "source": [
    "**Conclusion**:\n",
    "\n",
    "We don't reject $H_0$, as the p_value is greater than the alpha. This means we don't have enough evidence to say that the age distribution of male and female are different."
   ]
  },
  {
   "cell_type": "markdown",
   "metadata": {},
   "source": [
    "**Question 2.7**:\n",
    "We would like to test whether marital status and education level are independent. "
   ]
  },
  {
   "cell_type": "markdown",
   "metadata": {},
   "source": [
    "**Solution**:\n",
    "\n",
    "Null hypothesis: Marital status and education level are independent to each other.\n",
    "\n",
    "Alternative hypothesis: They are dependent."
   ]
  },
  {
   "cell_type": "markdown",
   "metadata": {},
   "source": [
    "Which test to use?\n",
    "\n",
    "- [`scipy.stats.chi2_contingency`](https://docs.scipy.org/doc/scipy/reference/generated/scipy.stats.chi2_contingency.html#scipy.stats.chi2_contingency): Chi-square test of independence of variables in a contingency table.\n",
    "- [`scipy.stats.chisquare`](https://docs.scipy.org/doc/scipy/reference/generated/scipy.stats.chisquare.html#scipy.stats.chisquare): one-sample Kolmogorov-Smirnov test for goodness of fit."
   ]
  },
  {
   "cell_type": "code",
   "execution_count": 216,
   "metadata": {},
   "outputs": [
    {
     "data": {
      "text/html": [
       "<div>\n",
       "<style scoped>\n",
       "    .dataframe tbody tr th:only-of-type {\n",
       "        vertical-align: middle;\n",
       "    }\n",
       "\n",
       "    .dataframe tbody tr th {\n",
       "        vertical-align: top;\n",
       "    }\n",
       "\n",
       "    .dataframe thead th {\n",
       "        text-align: right;\n",
       "    }\n",
       "</style>\n",
       "<table border=\"1\" class=\"dataframe\">\n",
       "  <thead>\n",
       "    <tr style=\"text-align: right;\">\n",
       "      <th>mari_stat</th>\n",
       "      <th>1.0</th>\n",
       "      <th>2.0</th>\n",
       "      <th>3.0</th>\n",
       "      <th>4.0</th>\n",
       "      <th>5.0</th>\n",
       "      <th>6.0</th>\n",
       "    </tr>\n",
       "    <tr>\n",
       "      <th>educ_level</th>\n",
       "      <th></th>\n",
       "      <th></th>\n",
       "      <th></th>\n",
       "      <th></th>\n",
       "      <th></th>\n",
       "      <th></th>\n",
       "    </tr>\n",
       "  </thead>\n",
       "  <tbody>\n",
       "    <tr>\n",
       "      <th>1.0</th>\n",
       "      <td>341</td>\n",
       "      <td>88</td>\n",
       "      <td>52</td>\n",
       "      <td>43</td>\n",
       "      <td>65</td>\n",
       "      <td>66</td>\n",
       "    </tr>\n",
       "    <tr>\n",
       "      <th>2.0</th>\n",
       "      <td>305</td>\n",
       "      <td>40</td>\n",
       "      <td>62</td>\n",
       "      <td>39</td>\n",
       "      <td>117</td>\n",
       "      <td>80</td>\n",
       "    </tr>\n",
       "    <tr>\n",
       "      <th>3.0</th>\n",
       "      <td>550</td>\n",
       "      <td>99</td>\n",
       "      <td>127</td>\n",
       "      <td>40</td>\n",
       "      <td>237</td>\n",
       "      <td>133</td>\n",
       "    </tr>\n",
       "    <tr>\n",
       "      <th>4.0</th>\n",
       "      <td>757</td>\n",
       "      <td>108</td>\n",
       "      <td>217</td>\n",
       "      <td>42</td>\n",
       "      <td>332</td>\n",
       "      <td>163</td>\n",
       "    </tr>\n",
       "    <tr>\n",
       "      <th>5.0</th>\n",
       "      <td>827</td>\n",
       "      <td>59</td>\n",
       "      <td>120</td>\n",
       "      <td>22</td>\n",
       "      <td>253</td>\n",
       "      <td>85</td>\n",
       "    </tr>\n",
       "  </tbody>\n",
       "</table>\n",
       "</div>"
      ],
      "text/plain": [
       "mari_stat   1.0  2.0  3.0  4.0  5.0  6.0\n",
       "educ_level                              \n",
       "1.0         341   88   52   43   65   66\n",
       "2.0         305   40   62   39  117   80\n",
       "3.0         550   99  127   40  237  133\n",
       "4.0         757  108  217   42  332  163\n",
       "5.0         827   59  120   22  253   85"
      ]
     },
     "execution_count": 216,
     "metadata": {},
     "output_type": "execute_result"
    }
   ],
   "source": [
    "# remember this pivot table we used to create bar plots\n",
    "# this is marital status by education level\n",
    "ed_mar"
   ]
  },
  {
   "cell_type": "code",
   "execution_count": 217,
   "metadata": {},
   "outputs": [
    {
     "data": {
      "text/html": [
       "<div>\n",
       "<style scoped>\n",
       "    .dataframe tbody tr th:only-of-type {\n",
       "        vertical-align: middle;\n",
       "    }\n",
       "\n",
       "    .dataframe tbody tr th {\n",
       "        vertical-align: top;\n",
       "    }\n",
       "\n",
       "    .dataframe thead th {\n",
       "        text-align: right;\n",
       "    }\n",
       "</style>\n",
       "<table border=\"1\" class=\"dataframe\">\n",
       "  <thead>\n",
       "    <tr style=\"text-align: right;\">\n",
       "      <th>mari_stat</th>\n",
       "      <th>Married</th>\n",
       "      <th>Widowed</th>\n",
       "      <th>Divorced</th>\n",
       "      <th>Separated</th>\n",
       "      <th>Never married</th>\n",
       "      <th>Living w/partner</th>\n",
       "    </tr>\n",
       "    <tr>\n",
       "      <th>educ_level</th>\n",
       "      <th></th>\n",
       "      <th></th>\n",
       "      <th></th>\n",
       "      <th></th>\n",
       "      <th></th>\n",
       "      <th></th>\n",
       "    </tr>\n",
       "  </thead>\n",
       "  <tbody>\n",
       "    <tr>\n",
       "      <th>&lt; 9th grade</th>\n",
       "      <td>341</td>\n",
       "      <td>88</td>\n",
       "      <td>52</td>\n",
       "      <td>43</td>\n",
       "      <td>65</td>\n",
       "      <td>66</td>\n",
       "    </tr>\n",
       "    <tr>\n",
       "      <th>9-11th grade</th>\n",
       "      <td>305</td>\n",
       "      <td>40</td>\n",
       "      <td>62</td>\n",
       "      <td>39</td>\n",
       "      <td>117</td>\n",
       "      <td>80</td>\n",
       "    </tr>\n",
       "    <tr>\n",
       "      <th>HS/GED</th>\n",
       "      <td>550</td>\n",
       "      <td>99</td>\n",
       "      <td>127</td>\n",
       "      <td>40</td>\n",
       "      <td>237</td>\n",
       "      <td>133</td>\n",
       "    </tr>\n",
       "    <tr>\n",
       "      <th>Some college/AA</th>\n",
       "      <td>757</td>\n",
       "      <td>108</td>\n",
       "      <td>217</td>\n",
       "      <td>42</td>\n",
       "      <td>332</td>\n",
       "      <td>163</td>\n",
       "    </tr>\n",
       "    <tr>\n",
       "      <th>College</th>\n",
       "      <td>827</td>\n",
       "      <td>59</td>\n",
       "      <td>120</td>\n",
       "      <td>22</td>\n",
       "      <td>253</td>\n",
       "      <td>85</td>\n",
       "    </tr>\n",
       "  </tbody>\n",
       "</table>\n",
       "</div>"
      ],
      "text/plain": [
       "mari_stat        Married  Widowed  Divorced  Separated  Never married  \\\n",
       "educ_level                                                              \n",
       "< 9th grade          341       88        52         43             65   \n",
       "9-11th grade         305       40        62         39            117   \n",
       "HS/GED               550       99       127         40            237   \n",
       "Some college/AA      757      108       217         42            332   \n",
       "College              827       59       120         22            253   \n",
       "\n",
       "mari_stat        Living w/partner  \n",
       "educ_level                         \n",
       "< 9th grade                    66  \n",
       "9-11th grade                   80  \n",
       "HS/GED                        133  \n",
       "Some college/AA               163  \n",
       "College                        85  "
      ]
     },
     "execution_count": 217,
     "metadata": {},
     "output_type": "execute_result"
    }
   ],
   "source": [
    "# make the pivot table look nice with informative labels\n",
    "ed_mar.rename(columns={1:'Married', 2:'Widowed', 3:'Divorced', 4:'Separated', 5:'Never married', 6:'Living w/partner'}, \n",
    "              index={1:'< 9th grade', 2:'9-11th grade', 3:'HS/GED',  4:'Some college/AA', 5:'College'},\n",
    "              inplace=True)\n",
    "ed_mar"
   ]
  },
  {
   "cell_type": "code",
   "execution_count": 218,
   "metadata": {},
   "outputs": [
    {
     "data": {
      "text/plain": [
       "(218.0466954816882,\n",
       " 2.928937568726158e-35,\n",
       " 20,\n",
       " array([[332.94935089,  47.1877857 ,  69.22472116,  22.27646736,\n",
       "         120.24501737,  63.11665752],\n",
       "        [326.84951545,  46.32327665,  67.95648199,  21.86834888,\n",
       "         118.04205522,  61.96032181],\n",
       "        [602.86706893,  85.44231121, 125.34430426,  40.33571037,\n",
       "         217.72609252, 114.28451271],\n",
       "        [822.96946425, 116.63667947, 171.10660084,  55.06198574,\n",
       "         297.21631011, 156.00895959],\n",
       "        [694.36460048,  98.40994697, 144.36789175,  46.45748766,\n",
       "         250.77052478, 131.62954836]]))"
      ]
     },
     "execution_count": 218,
     "metadata": {},
     "output_type": "execute_result"
    }
   ],
   "source": [
    "ind_test = st.chi2_contingency(ed_mar)\n",
    "ind_test"
   ]
  },
  {
   "cell_type": "code",
   "execution_count": 219,
   "metadata": {},
   "outputs": [
    {
     "data": {
      "text/plain": [
       "2.928937568726158e-35"
      ]
     },
     "execution_count": 219,
     "metadata": {},
     "output_type": "execute_result"
    }
   ],
   "source": [
    "p_value = ind_test[1]\n",
    "p_value"
   ]
  },
  {
   "cell_type": "markdown",
   "metadata": {},
   "source": [
    "**Conclusion**:\n",
    "\n",
    "We reject $H_0$, therefore we can say that they are not independent. This is because the p_value is less than alpha."
   ]
  },
  {
   "cell_type": "markdown",
   "metadata": {},
   "source": [
    "WooHoo~~ You're done with HW 4!  Be sure to...\n",
    "\n",
    "* **Save and Checkpoint** from the File menu,\n",
    "* **Close and Halt** from the File menu,\n",
    "* **Rename your ipynb file**, replacing LASTNAME with your last name,\n",
    "* **Upload** your file to the course website."
   ]
  }
 ],
 "metadata": {
  "kernelspec": {
   "display_name": "Python 3 (ipykernel)",
   "language": "python",
   "name": "python3"
  },
  "language_info": {
   "codemirror_mode": {
    "name": "ipython",
    "version": 3
   },
   "file_extension": ".py",
   "mimetype": "text/x-python",
   "name": "python",
   "nbconvert_exporter": "python",
   "pygments_lexer": "ipython3",
   "version": "3.9.12"
  }
 },
 "nbformat": 4,
 "nbformat_minor": 4
}
