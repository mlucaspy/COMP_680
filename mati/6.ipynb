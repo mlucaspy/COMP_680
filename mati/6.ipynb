{
 "cells": [
  {
   "cell_type": "markdown",
   "metadata": {},
   "source": [
    "<img style=\"float: left;\" src=\"attachment:D2Klogo.png\" width=\"20%\"> \n",
    "\n",
    "<center>\n",
    "\n",
    "# Welcome to COMP 680 #\n",
    "### Statistics for Computing and Data Science ###\n",
    "\n",
    "### Homework 6 ###"
   ]
  },
  {
   "cell_type": "code",
   "execution_count": 154,
   "metadata": {},
   "outputs": [],
   "source": [
    "### standard imports\n",
    "import numpy as np\n",
    "import pandas as pd\n",
    "\n",
    "import matplotlib.pyplot as plt\n",
    "%matplotlib inline  \n",
    "plt.style.use('fivethirtyeight')\n",
    "plt.rcParams[\"patch.force_edgecolor\"] = True\n",
    "import seaborn as sns\n",
    "\n",
    "import statsmodels.api as sm\n",
    "from statsmodels.sandbox.predict_functional import predict_functional\n",
    "import scipy.stats as st\n",
    "import math\n",
    "\n",
    "import warnings\n",
    "warnings.filterwarnings(\"ignore\")"
   ]
  },
  {
   "cell_type": "markdown",
   "metadata": {},
   "source": [
    "## NHANES Case Study\n",
    "\n",
    "In this homework, we will be working with the [NHANES](https://wwwn.cdc.gov/nchs/nhanes/continuousnhanes/default.aspx?BeginYear=2015) data again. We will perform the same processing and cleaning of the data as before:"
   ]
  },
  {
   "cell_type": "code",
   "execution_count": 155,
   "metadata": {
    "scrolled": true
   },
   "outputs": [
    {
     "data": {
      "text/html": [
       "<div>\n",
       "<style scoped>\n",
       "    .dataframe tbody tr th:only-of-type {\n",
       "        vertical-align: middle;\n",
       "    }\n",
       "\n",
       "    .dataframe tbody tr th {\n",
       "        vertical-align: top;\n",
       "    }\n",
       "\n",
       "    .dataframe thead th {\n",
       "        text-align: right;\n",
       "    }\n",
       "</style>\n",
       "<table border=\"1\" class=\"dataframe\">\n",
       "  <thead>\n",
       "    <tr style=\"text-align: right;\">\n",
       "      <th></th>\n",
       "      <th>ID</th>\n",
       "      <th>ALQ101</th>\n",
       "      <th>ALQ110</th>\n",
       "      <th>Avg_drinks_per_day</th>\n",
       "      <th>Smoker</th>\n",
       "      <th>Gender</th>\n",
       "      <th>Age</th>\n",
       "      <th>Race</th>\n",
       "      <th>Citizenship</th>\n",
       "      <th>Education_Level</th>\n",
       "      <th>...</th>\n",
       "      <th>BPXSY2</th>\n",
       "      <th>BPXDI2</th>\n",
       "      <th>Weight</th>\n",
       "      <th>Height</th>\n",
       "      <th>BMI</th>\n",
       "      <th>Leg_Length</th>\n",
       "      <th>Arm_Length</th>\n",
       "      <th>Arm_Circumference</th>\n",
       "      <th>Waist_Circumference</th>\n",
       "      <th>HIQ210</th>\n",
       "    </tr>\n",
       "  </thead>\n",
       "  <tbody>\n",
       "    <tr>\n",
       "      <th>0</th>\n",
       "      <td>83732</td>\n",
       "      <td>1.0</td>\n",
       "      <td>NaN</td>\n",
       "      <td>1.0</td>\n",
       "      <td>1.0</td>\n",
       "      <td>1</td>\n",
       "      <td>62</td>\n",
       "      <td>3</td>\n",
       "      <td>1.0</td>\n",
       "      <td>5.0</td>\n",
       "      <td>...</td>\n",
       "      <td>124.0</td>\n",
       "      <td>64.0</td>\n",
       "      <td>94.8</td>\n",
       "      <td>184.5</td>\n",
       "      <td>27.8</td>\n",
       "      <td>43.3</td>\n",
       "      <td>43.6</td>\n",
       "      <td>35.9</td>\n",
       "      <td>101.1</td>\n",
       "      <td>2.0</td>\n",
       "    </tr>\n",
       "    <tr>\n",
       "      <th>1</th>\n",
       "      <td>83733</td>\n",
       "      <td>1.0</td>\n",
       "      <td>NaN</td>\n",
       "      <td>6.0</td>\n",
       "      <td>1.0</td>\n",
       "      <td>1</td>\n",
       "      <td>53</td>\n",
       "      <td>3</td>\n",
       "      <td>2.0</td>\n",
       "      <td>3.0</td>\n",
       "      <td>...</td>\n",
       "      <td>140.0</td>\n",
       "      <td>88.0</td>\n",
       "      <td>90.4</td>\n",
       "      <td>171.4</td>\n",
       "      <td>30.8</td>\n",
       "      <td>38.0</td>\n",
       "      <td>40.0</td>\n",
       "      <td>33.2</td>\n",
       "      <td>107.9</td>\n",
       "      <td>NaN</td>\n",
       "    </tr>\n",
       "    <tr>\n",
       "      <th>2</th>\n",
       "      <td>83734</td>\n",
       "      <td>1.0</td>\n",
       "      <td>NaN</td>\n",
       "      <td>NaN</td>\n",
       "      <td>1.0</td>\n",
       "      <td>1</td>\n",
       "      <td>78</td>\n",
       "      <td>3</td>\n",
       "      <td>1.0</td>\n",
       "      <td>3.0</td>\n",
       "      <td>...</td>\n",
       "      <td>132.0</td>\n",
       "      <td>44.0</td>\n",
       "      <td>83.4</td>\n",
       "      <td>170.1</td>\n",
       "      <td>28.8</td>\n",
       "      <td>35.6</td>\n",
       "      <td>37.0</td>\n",
       "      <td>31.0</td>\n",
       "      <td>116.5</td>\n",
       "      <td>2.0</td>\n",
       "    </tr>\n",
       "    <tr>\n",
       "      <th>3</th>\n",
       "      <td>83735</td>\n",
       "      <td>2.0</td>\n",
       "      <td>1.0</td>\n",
       "      <td>1.0</td>\n",
       "      <td>2.0</td>\n",
       "      <td>2</td>\n",
       "      <td>56</td>\n",
       "      <td>3</td>\n",
       "      <td>1.0</td>\n",
       "      <td>5.0</td>\n",
       "      <td>...</td>\n",
       "      <td>134.0</td>\n",
       "      <td>68.0</td>\n",
       "      <td>109.8</td>\n",
       "      <td>160.9</td>\n",
       "      <td>42.4</td>\n",
       "      <td>38.5</td>\n",
       "      <td>37.7</td>\n",
       "      <td>38.3</td>\n",
       "      <td>110.1</td>\n",
       "      <td>2.0</td>\n",
       "    </tr>\n",
       "    <tr>\n",
       "      <th>4</th>\n",
       "      <td>83736</td>\n",
       "      <td>2.0</td>\n",
       "      <td>1.0</td>\n",
       "      <td>1.0</td>\n",
       "      <td>2.0</td>\n",
       "      <td>2</td>\n",
       "      <td>42</td>\n",
       "      <td>4</td>\n",
       "      <td>1.0</td>\n",
       "      <td>4.0</td>\n",
       "      <td>...</td>\n",
       "      <td>114.0</td>\n",
       "      <td>54.0</td>\n",
       "      <td>55.2</td>\n",
       "      <td>164.9</td>\n",
       "      <td>20.3</td>\n",
       "      <td>37.4</td>\n",
       "      <td>36.0</td>\n",
       "      <td>27.2</td>\n",
       "      <td>80.4</td>\n",
       "      <td>2.0</td>\n",
       "    </tr>\n",
       "  </tbody>\n",
       "</table>\n",
       "<p>5 rows × 28 columns</p>\n",
       "</div>"
      ],
      "text/plain": [
       "      ID  ALQ101  ALQ110  Avg_drinks_per_day  Smoker  Gender  Age  Race  \\\n",
       "0  83732     1.0     NaN                 1.0     1.0       1   62     3   \n",
       "1  83733     1.0     NaN                 6.0     1.0       1   53     3   \n",
       "2  83734     1.0     NaN                 NaN     1.0       1   78     3   \n",
       "3  83735     2.0     1.0                 1.0     2.0       2   56     3   \n",
       "4  83736     2.0     1.0                 1.0     2.0       2   42     4   \n",
       "\n",
       "   Citizenship  Education_Level  ...  BPXSY2  BPXDI2  Weight  Height   BMI  \\\n",
       "0          1.0              5.0  ...   124.0    64.0    94.8   184.5  27.8   \n",
       "1          2.0              3.0  ...   140.0    88.0    90.4   171.4  30.8   \n",
       "2          1.0              3.0  ...   132.0    44.0    83.4   170.1  28.8   \n",
       "3          1.0              5.0  ...   134.0    68.0   109.8   160.9  42.4   \n",
       "4          1.0              4.0  ...   114.0    54.0    55.2   164.9  20.3   \n",
       "\n",
       "   Leg_Length  Arm_Length  Arm_Circumference  Waist_Circumference  HIQ210  \n",
       "0        43.3        43.6               35.9                101.1     2.0  \n",
       "1        38.0        40.0               33.2                107.9     NaN  \n",
       "2        35.6        37.0               31.0                116.5     2.0  \n",
       "3        38.5        37.7               38.3                110.1     2.0  \n",
       "4        37.4        36.0               27.2                 80.4     2.0  \n",
       "\n",
       "[5 rows x 28 columns]"
      ]
     },
     "execution_count": 155,
     "metadata": {},
     "output_type": "execute_result"
    }
   ],
   "source": [
    "nhanes = pd.read_csv(\"nhanes_2015_2016.csv\")\n",
    "# fix column names to be informative\n",
    "new_col_names = {'SEQN':'ID',\n",
    "                 'ALQ130':'Avg_drinks_per_day', 'SMQ020': 'Smoker', \n",
    "                 'RIAGENDR':'Gender', 'RIDAGEYR':'Age', 'RIDRETH1':'Race', \n",
    "                 'DMDCITZN':'Citizenship', 'DMDEDUC2':'Education_Level', \n",
    "                 'DMDMARTL':'Marital_Status', 'INDFMPIR':'Family_PIR', \n",
    "                 'BPXSY1':'Systolic_Blood_Pressure', 'BPXDI1':'Diastolic_Blood_Pressure', \n",
    "                 'BMXWT':'Weight', 'BMXHT':'Height', 'BMXBMI':'BMI', \n",
    "                 'BMXLEG':'Leg_Length', 'BMXARML':'Arm_Length', \n",
    "                 'BMXARMC': 'Arm_Circumference', 'BMXWAIST':'Waist_Circumference'}\n",
    "nhanes.rename(columns=new_col_names, inplace=True)\n",
    "# replace some code as missing values\n",
    "nhanes['ALQ101'] =  nhanes['ALQ101'].replace({7:np.NaN, 9:np.NaN})\n",
    "nhanes['ALQ110'] =  nhanes['ALQ110'].replace({7:np.NaN, 9:np.NaN})\n",
    "nhanes['Avg_drinks_per_day'] =  nhanes['Avg_drinks_per_day'].replace({777:np.NaN, 999:np.NaN})\n",
    "nhanes['Smoker'] = nhanes['Smoker'].replace({7:np.NaN, 9:np.NaN})\n",
    "nhanes['Education_Level'] = nhanes['Education_Level'].replace({7:np.NaN, 9:np.NaN})\n",
    "nhanes['Marital_Status'] = nhanes['Marital_Status'].replace({77:np.NaN})\n",
    "nhanes['Citizenship'] = nhanes['Citizenship'].replace({7:np.NaN, 9:np.NaN})\n",
    "# there are quite a few missing values but most model will exclude them\n",
    "nhanes.head()"
   ]
  },
  {
   "cell_type": "code",
   "execution_count": 156,
   "metadata": {},
   "outputs": [
    {
     "data": {
      "text/html": [
       "<div>\n",
       "<style scoped>\n",
       "    .dataframe tbody tr th:only-of-type {\n",
       "        vertical-align: middle;\n",
       "    }\n",
       "\n",
       "    .dataframe tbody tr th {\n",
       "        vertical-align: top;\n",
       "    }\n",
       "\n",
       "    .dataframe thead th {\n",
       "        text-align: right;\n",
       "    }\n",
       "</style>\n",
       "<table border=\"1\" class=\"dataframe\">\n",
       "  <thead>\n",
       "    <tr style=\"text-align: right;\">\n",
       "      <th></th>\n",
       "      <th>Smoker</th>\n",
       "    </tr>\n",
       "  </thead>\n",
       "  <tbody>\n",
       "    <tr>\n",
       "      <th>0</th>\n",
       "      <td>1.0</td>\n",
       "    </tr>\n",
       "    <tr>\n",
       "      <th>1</th>\n",
       "      <td>1.0</td>\n",
       "    </tr>\n",
       "    <tr>\n",
       "      <th>2</th>\n",
       "      <td>1.0</td>\n",
       "    </tr>\n",
       "    <tr>\n",
       "      <th>3</th>\n",
       "      <td>2.0</td>\n",
       "    </tr>\n",
       "    <tr>\n",
       "      <th>4</th>\n",
       "      <td>2.0</td>\n",
       "    </tr>\n",
       "    <tr>\n",
       "      <th>...</th>\n",
       "      <td>...</td>\n",
       "    </tr>\n",
       "    <tr>\n",
       "      <th>5730</th>\n",
       "      <td>1.0</td>\n",
       "    </tr>\n",
       "    <tr>\n",
       "      <th>5731</th>\n",
       "      <td>2.0</td>\n",
       "    </tr>\n",
       "    <tr>\n",
       "      <th>5732</th>\n",
       "      <td>1.0</td>\n",
       "    </tr>\n",
       "    <tr>\n",
       "      <th>5733</th>\n",
       "      <td>1.0</td>\n",
       "    </tr>\n",
       "    <tr>\n",
       "      <th>5734</th>\n",
       "      <td>2.0</td>\n",
       "    </tr>\n",
       "  </tbody>\n",
       "</table>\n",
       "<p>5735 rows × 1 columns</p>\n",
       "</div>"
      ],
      "text/plain": [
       "      Smoker\n",
       "0        1.0\n",
       "1        1.0\n",
       "2        1.0\n",
       "3        2.0\n",
       "4        2.0\n",
       "...      ...\n",
       "5730     1.0\n",
       "5731     2.0\n",
       "5732     1.0\n",
       "5733     1.0\n",
       "5734     2.0\n",
       "\n",
       "[5735 rows x 1 columns]"
      ]
     },
     "execution_count": 156,
     "metadata": {},
     "output_type": "execute_result"
    }
   ],
   "source": [
    "nhanes[['Smoker']]"
   ]
  },
  {
   "cell_type": "markdown",
   "metadata": {},
   "source": [
    "**Question 1:** \n",
    "We generate a binary variable reflecting whether a person has smoked at least 100 cigarettes in life, based on the original [SMQ020](https://wwwn.cdc.gov/Nchs/Nhanes/2015-2016/SMQ_I.htm#SMQ020) variable in NHANES, renamed above to be `Smoker`."
   ]
  },
  {
   "cell_type": "code",
   "execution_count": 157,
   "metadata": {},
   "outputs": [
    {
     "data": {
      "text/plain": [
       "0"
      ]
     },
     "execution_count": 157,
     "metadata": {},
     "output_type": "execute_result"
    }
   ],
   "source": [
    "sum(nhanes['Smoker']==0)"
   ]
  },
  {
   "cell_type": "code",
   "execution_count": 158,
   "metadata": {},
   "outputs": [
    {
     "data": {
      "text/html": [
       "<div>\n",
       "<style scoped>\n",
       "    .dataframe tbody tr th:only-of-type {\n",
       "        vertical-align: middle;\n",
       "    }\n",
       "\n",
       "    .dataframe tbody tr th {\n",
       "        vertical-align: top;\n",
       "    }\n",
       "\n",
       "    .dataframe thead th {\n",
       "        text-align: right;\n",
       "    }\n",
       "</style>\n",
       "<table border=\"1\" class=\"dataframe\">\n",
       "  <thead>\n",
       "    <tr style=\"text-align: right;\">\n",
       "      <th></th>\n",
       "      <th>ID</th>\n",
       "      <th>ALQ101</th>\n",
       "      <th>ALQ110</th>\n",
       "      <th>Avg_drinks_per_day</th>\n",
       "      <th>Smoker</th>\n",
       "      <th>Gender</th>\n",
       "      <th>Age</th>\n",
       "      <th>Race</th>\n",
       "      <th>Citizenship</th>\n",
       "      <th>Education_Level</th>\n",
       "      <th>...</th>\n",
       "      <th>BPXSY2</th>\n",
       "      <th>BPXDI2</th>\n",
       "      <th>Weight</th>\n",
       "      <th>Height</th>\n",
       "      <th>BMI</th>\n",
       "      <th>Leg_Length</th>\n",
       "      <th>Arm_Length</th>\n",
       "      <th>Arm_Circumference</th>\n",
       "      <th>Waist_Circumference</th>\n",
       "      <th>HIQ210</th>\n",
       "    </tr>\n",
       "  </thead>\n",
       "  <tbody>\n",
       "    <tr>\n",
       "      <th>0</th>\n",
       "      <td>83732</td>\n",
       "      <td>1.0</td>\n",
       "      <td>NaN</td>\n",
       "      <td>1.0</td>\n",
       "      <td>1.0</td>\n",
       "      <td>1</td>\n",
       "      <td>62</td>\n",
       "      <td>3</td>\n",
       "      <td>1.0</td>\n",
       "      <td>5.0</td>\n",
       "      <td>...</td>\n",
       "      <td>124.0</td>\n",
       "      <td>64.0</td>\n",
       "      <td>94.8</td>\n",
       "      <td>184.5</td>\n",
       "      <td>27.8</td>\n",
       "      <td>43.3</td>\n",
       "      <td>43.6</td>\n",
       "      <td>35.9</td>\n",
       "      <td>101.1</td>\n",
       "      <td>2.0</td>\n",
       "    </tr>\n",
       "    <tr>\n",
       "      <th>1</th>\n",
       "      <td>83733</td>\n",
       "      <td>1.0</td>\n",
       "      <td>NaN</td>\n",
       "      <td>6.0</td>\n",
       "      <td>1.0</td>\n",
       "      <td>1</td>\n",
       "      <td>53</td>\n",
       "      <td>3</td>\n",
       "      <td>2.0</td>\n",
       "      <td>3.0</td>\n",
       "      <td>...</td>\n",
       "      <td>140.0</td>\n",
       "      <td>88.0</td>\n",
       "      <td>90.4</td>\n",
       "      <td>171.4</td>\n",
       "      <td>30.8</td>\n",
       "      <td>38.0</td>\n",
       "      <td>40.0</td>\n",
       "      <td>33.2</td>\n",
       "      <td>107.9</td>\n",
       "      <td>NaN</td>\n",
       "    </tr>\n",
       "    <tr>\n",
       "      <th>2</th>\n",
       "      <td>83734</td>\n",
       "      <td>1.0</td>\n",
       "      <td>NaN</td>\n",
       "      <td>NaN</td>\n",
       "      <td>1.0</td>\n",
       "      <td>1</td>\n",
       "      <td>78</td>\n",
       "      <td>3</td>\n",
       "      <td>1.0</td>\n",
       "      <td>3.0</td>\n",
       "      <td>...</td>\n",
       "      <td>132.0</td>\n",
       "      <td>44.0</td>\n",
       "      <td>83.4</td>\n",
       "      <td>170.1</td>\n",
       "      <td>28.8</td>\n",
       "      <td>35.6</td>\n",
       "      <td>37.0</td>\n",
       "      <td>31.0</td>\n",
       "      <td>116.5</td>\n",
       "      <td>2.0</td>\n",
       "    </tr>\n",
       "    <tr>\n",
       "      <th>3</th>\n",
       "      <td>83735</td>\n",
       "      <td>2.0</td>\n",
       "      <td>1.0</td>\n",
       "      <td>1.0</td>\n",
       "      <td>0.0</td>\n",
       "      <td>2</td>\n",
       "      <td>56</td>\n",
       "      <td>3</td>\n",
       "      <td>1.0</td>\n",
       "      <td>5.0</td>\n",
       "      <td>...</td>\n",
       "      <td>134.0</td>\n",
       "      <td>68.0</td>\n",
       "      <td>109.8</td>\n",
       "      <td>160.9</td>\n",
       "      <td>42.4</td>\n",
       "      <td>38.5</td>\n",
       "      <td>37.7</td>\n",
       "      <td>38.3</td>\n",
       "      <td>110.1</td>\n",
       "      <td>2.0</td>\n",
       "    </tr>\n",
       "    <tr>\n",
       "      <th>4</th>\n",
       "      <td>83736</td>\n",
       "      <td>2.0</td>\n",
       "      <td>1.0</td>\n",
       "      <td>1.0</td>\n",
       "      <td>0.0</td>\n",
       "      <td>2</td>\n",
       "      <td>42</td>\n",
       "      <td>4</td>\n",
       "      <td>1.0</td>\n",
       "      <td>4.0</td>\n",
       "      <td>...</td>\n",
       "      <td>114.0</td>\n",
       "      <td>54.0</td>\n",
       "      <td>55.2</td>\n",
       "      <td>164.9</td>\n",
       "      <td>20.3</td>\n",
       "      <td>37.4</td>\n",
       "      <td>36.0</td>\n",
       "      <td>27.2</td>\n",
       "      <td>80.4</td>\n",
       "      <td>2.0</td>\n",
       "    </tr>\n",
       "  </tbody>\n",
       "</table>\n",
       "<p>5 rows × 28 columns</p>\n",
       "</div>"
      ],
      "text/plain": [
       "      ID  ALQ101  ALQ110  Avg_drinks_per_day  Smoker  Gender  Age  Race  \\\n",
       "0  83732     1.0     NaN                 1.0     1.0       1   62     3   \n",
       "1  83733     1.0     NaN                 6.0     1.0       1   53     3   \n",
       "2  83734     1.0     NaN                 NaN     1.0       1   78     3   \n",
       "3  83735     2.0     1.0                 1.0     0.0       2   56     3   \n",
       "4  83736     2.0     1.0                 1.0     0.0       2   42     4   \n",
       "\n",
       "   Citizenship  Education_Level  ...  BPXSY2  BPXDI2  Weight  Height   BMI  \\\n",
       "0          1.0              5.0  ...   124.0    64.0    94.8   184.5  27.8   \n",
       "1          2.0              3.0  ...   140.0    88.0    90.4   171.4  30.8   \n",
       "2          1.0              3.0  ...   132.0    44.0    83.4   170.1  28.8   \n",
       "3          1.0              5.0  ...   134.0    68.0   109.8   160.9  42.4   \n",
       "4          1.0              4.0  ...   114.0    54.0    55.2   164.9  20.3   \n",
       "\n",
       "   Leg_Length  Arm_Length  Arm_Circumference  Waist_Circumference  HIQ210  \n",
       "0        43.3        43.6               35.9                101.1     2.0  \n",
       "1        38.0        40.0               33.2                107.9     NaN  \n",
       "2        35.6        37.0               31.0                116.5     2.0  \n",
       "3        38.5        37.7               38.3                110.1     2.0  \n",
       "4        37.4        36.0               27.2                 80.4     2.0  \n",
       "\n",
       "[5 rows x 28 columns]"
      ]
     },
     "execution_count": 158,
     "metadata": {},
     "output_type": "execute_result"
    }
   ],
   "source": [
    "# recode Smoker so 1 is smoker and 0 is non-smoker\n",
    "nhanes['Smoker'] = nhanes['Smoker'].replace({2:0})\n",
    "nhanes.head()"
   ]
  },
  {
   "cell_type": "markdown",
   "metadata": {},
   "source": [
    " **1.1:** Fit a logistic regression model [sm.GLM.from_formula](https://www.statsmodels.org/dev/examples/notebooks/generated/glm_formula.html) using only one covariate Gender to predict smoking status. Reminder the variable `Gender` is coded as following, but you should include in the model correctly as a categorical variable, and use the Male category as reference!\n",
    " - Gender:\n",
    "    - 1: Male\n",
    "    - 2: Female"
   ]
  },
  {
   "cell_type": "code",
   "execution_count": 159,
   "metadata": {},
   "outputs": [
    {
     "data": {
      "text/html": [
       "<table class=\"simpletable\">\n",
       "<caption>Generalized Linear Model Regression Results</caption>\n",
       "<tr>\n",
       "  <th>Dep. Variable:</th>        <td>Smoker</td>      <th>  No. Observations:  </th>  <td>  5725</td> \n",
       "</tr>\n",
       "<tr>\n",
       "  <th>Model:</th>                  <td>GLM</td>       <th>  Df Residuals:      </th>  <td>  5723</td> \n",
       "</tr>\n",
       "<tr>\n",
       "  <th>Model Family:</th>        <td>Binomial</td>     <th>  Df Model:          </th>  <td>     1</td> \n",
       "</tr>\n",
       "<tr>\n",
       "  <th>Link Function:</th>         <td>Logit</td>      <th>  Scale:             </th> <td>  1.0000</td>\n",
       "</tr>\n",
       "<tr>\n",
       "  <th>Method:</th>                <td>IRLS</td>       <th>  Log-Likelihood:    </th> <td> -3734.8</td>\n",
       "</tr>\n",
       "<tr>\n",
       "  <th>Date:</th>            <td>Mon, 05 Dec 2022</td> <th>  Deviance:          </th> <td>  7469.6</td>\n",
       "</tr>\n",
       "<tr>\n",
       "  <th>Time:</th>                <td>18:21:00</td>     <th>  Pearson chi2:      </th> <td>5.72e+03</td>\n",
       "</tr>\n",
       "<tr>\n",
       "  <th>No. Iterations:</th>          <td>4</td>        <th>  Pseudo R-squ. (CS):</th>  <td>0.04428</td>\n",
       "</tr>\n",
       "<tr>\n",
       "  <th>Covariance Type:</th>     <td>nonrobust</td>    <th>                     </th>     <td> </td>   \n",
       "</tr>\n",
       "</table>\n",
       "<table class=\"simpletable\">\n",
       "<tr>\n",
       "         <td></td>           <th>coef</th>     <th>std err</th>      <th>z</th>      <th>P>|z|</th>  <th>[0.025</th>    <th>0.975]</th>  \n",
       "</tr>\n",
       "<tr>\n",
       "  <th>Intercept</th>      <td>    0.0530</td> <td>    0.038</td> <td>    1.391</td> <td> 0.164</td> <td>   -0.022</td> <td>    0.128</td>\n",
       "</tr>\n",
       "<tr>\n",
       "  <th>C(Gender)[T.2]</th> <td>   -0.8774</td> <td>    0.055</td> <td>  -15.908</td> <td> 0.000</td> <td>   -0.985</td> <td>   -0.769</td>\n",
       "</tr>\n",
       "</table>"
      ],
      "text/plain": [
       "<class 'statsmodels.iolib.summary.Summary'>\n",
       "\"\"\"\n",
       "                 Generalized Linear Model Regression Results                  \n",
       "==============================================================================\n",
       "Dep. Variable:                 Smoker   No. Observations:                 5725\n",
       "Model:                            GLM   Df Residuals:                     5723\n",
       "Model Family:                Binomial   Df Model:                            1\n",
       "Link Function:                  Logit   Scale:                          1.0000\n",
       "Method:                          IRLS   Log-Likelihood:                -3734.8\n",
       "Date:                Mon, 05 Dec 2022   Deviance:                       7469.6\n",
       "Time:                        18:21:00   Pearson chi2:                 5.72e+03\n",
       "No. Iterations:                     4   Pseudo R-squ. (CS):            0.04428\n",
       "Covariance Type:            nonrobust                                         \n",
       "==================================================================================\n",
       "                     coef    std err          z      P>|z|      [0.025      0.975]\n",
       "----------------------------------------------------------------------------------\n",
       "Intercept          0.0530      0.038      1.391      0.164      -0.022       0.128\n",
       "C(Gender)[T.2]    -0.8774      0.055    -15.908      0.000      -0.985      -0.769\n",
       "==================================================================================\n",
       "\"\"\""
      ]
     },
     "execution_count": 159,
     "metadata": {},
     "output_type": "execute_result"
    }
   ],
   "source": [
    "formula = \"Smoker ~ C(Gender)\"\n",
    "mod1 = sm.GLM.from_formula(formula=formula, data=nhanes, family=sm.families.Binomial()).fit()\n",
    "mod1.summary()"
   ]
  },
  {
   "cell_type": "code",
   "execution_count": 160,
   "metadata": {},
   "outputs": [
    {
     "name": "stdout",
     "output_type": "stream",
     "text": [
      "Requirement already satisfied: pandas in /opt/anaconda3/lib/python3.9/site-packages (1.4.2)\n",
      "Requirement already satisfied: python-dateutil>=2.8.1 in /opt/anaconda3/lib/python3.9/site-packages (from pandas) (2.8.2)\n",
      "Requirement already satisfied: pytz>=2020.1 in /opt/anaconda3/lib/python3.9/site-packages (from pandas) (2021.3)\n",
      "Requirement already satisfied: numpy>=1.18.5 in /opt/anaconda3/lib/python3.9/site-packages (from pandas) (1.21.5)\n",
      "Requirement already satisfied: six>=1.5 in /opt/anaconda3/lib/python3.9/site-packages (from python-dateutil>=2.8.1->pandas) (1.16.0)\n",
      "Note: you may need to restart the kernel to use updated packages.\n"
     ]
    }
   ],
   "source": [
    "pip install pandas"
   ]
  },
  {
   "cell_type": "markdown",
   "metadata": {},
   "source": [
    "**1.2:** Calculate the probability, odds, and log odds of the variable `Smoker` for females and for males, **without using the model in 1.1** What is the log odds of smoking for males?  Then calculate the log odds ratio for females relative to males, that is the log odds ratio of females minus the log odds ratio of males.\n",
    "\n",
    "**Hint:** You may find [`df.pivot_table`](https://pandas.pydata.org/docs/reference/api/pandas.pivot_table.html) useful."
   ]
  },
  {
   "cell_type": "code",
   "execution_count": 161,
   "metadata": {},
   "outputs": [
    {
     "data": {
      "text/html": [
       "<div>\n",
       "<style scoped>\n",
       "    .dataframe tbody tr th:only-of-type {\n",
       "        vertical-align: middle;\n",
       "    }\n",
       "\n",
       "    .dataframe tbody tr th {\n",
       "        vertical-align: top;\n",
       "    }\n",
       "\n",
       "    .dataframe thead tr th {\n",
       "        text-align: left;\n",
       "    }\n",
       "\n",
       "    .dataframe thead tr:last-of-type th {\n",
       "        text-align: right;\n",
       "    }\n",
       "</style>\n",
       "<table border=\"1\" class=\"dataframe\">\n",
       "  <thead>\n",
       "    <tr>\n",
       "      <th></th>\n",
       "      <th>sum</th>\n",
       "      <th>count</th>\n",
       "    </tr>\n",
       "    <tr>\n",
       "      <th></th>\n",
       "      <th>Smoker</th>\n",
       "      <th>Smoker</th>\n",
       "    </tr>\n",
       "    <tr>\n",
       "      <th>Gender</th>\n",
       "      <th></th>\n",
       "      <th></th>\n",
       "    </tr>\n",
       "  </thead>\n",
       "  <tbody>\n",
       "    <tr>\n",
       "      <th>1</th>\n",
       "      <td>1413.0</td>\n",
       "      <td>2753</td>\n",
       "    </tr>\n",
       "    <tr>\n",
       "      <th>2</th>\n",
       "      <td>906.0</td>\n",
       "      <td>2972</td>\n",
       "    </tr>\n",
       "  </tbody>\n",
       "</table>\n",
       "</div>"
      ],
      "text/plain": [
       "           sum  count\n",
       "        Smoker Smoker\n",
       "Gender               \n",
       "1       1413.0   2753\n",
       "2        906.0   2972"
      ]
     },
     "execution_count": 161,
     "metadata": {},
     "output_type": "execute_result"
    }
   ],
   "source": [
    "# enter your code here\n",
    "pd.pivot_table(nhanes, values='Smoker', index=['Gender'], aggfunc=['sum', 'count'])"
   ]
  },
  {
   "cell_type": "code",
   "execution_count": 162,
   "metadata": {},
   "outputs": [
    {
     "data": {
      "text/plain": [
       "-2066"
      ]
     },
     "execution_count": 162,
     "metadata": {},
     "output_type": "execute_result"
    }
   ],
   "source": [
    "906-2972"
   ]
  },
  {
   "cell_type": "code",
   "execution_count": 163,
   "metadata": {},
   "outputs": [],
   "source": [
    "# Log odds ratio for males:\n",
    "lodds_male = math.log(1413/(2753-1413))\n",
    "# Log odds ratio for females:\n",
    "lodds_female = math.log(906/(2972-906))\n",
    "# Log odds ratio for females relative to males:\n",
    "lodds_female_to_male = lodds_female - lodds_male"
   ]
  },
  {
   "cell_type": "code",
   "execution_count": 164,
   "metadata": {},
   "outputs": [
    {
     "name": "stdout",
     "output_type": "stream",
     "text": [
      "Smoking log odds ratio for male: 0.0530\n",
      "Smoking log odds ratio for female: -0.8243\n",
      "Smoking log odds ratio for female relative to male: -0.8774\n"
     ]
    }
   ],
   "source": [
    "# print out result\n",
    "print('Smoking log odds ratio for male: %.4f' % lodds_male)\n",
    "print('Smoking log odds ratio for female: %.4f' % lodds_female)\n",
    "print('Smoking log odds ratio for female relative to male: %.4f' % lodds_female_to_male)"
   ]
  },
  {
   "cell_type": "markdown",
   "metadata": {},
   "source": [
    "**1.3:** If your calculation in **1.2** is correct, you should end up with almost identical numbers as the coefficients in model in **1.1** (assuming you fit the model correctly). What are the interpretations for the intercept and slope for the model in **1.1**? I hope the above exercise helps with the interpretations!"
   ]
  },
  {
   "cell_type": "markdown",
   "metadata": {},
   "source": [
    "**Solution:**  \n",
    "\n",
    "**Interpretation for intercept:** The intercept represents the log odds ratio of being a smoker if you are a man.\n",
    "\n",
    "**Interpretation for slope:** The slope represents the change in the log odds ratio of being a smoker if you are a woman in comparison to a man. As it is negative, we can interpret it as women are less likely to be smokers in comparison to men.\n"
   ]
  },
  {
   "cell_type": "markdown",
   "metadata": {},
   "source": [
    "**1.4:** Based on the model results in **1.1**, can we conclude that more than 50% of male are smokers in general population?"
   ]
  },
  {
   "cell_type": "markdown",
   "metadata": {},
   "source": [
    "**Solution:**: \n",
    "\n",
    "As the interception is positive, we can tell that the probability of being a smoker is greater than not being a smoker when being a man (by the definition of log odds ratio, we can recall that the log odds ratio represents the log of the probability of being a smoker over the probability of not being a smoker). \n",
    "\n",
    "The fact that we yield a positive value, means that the numeratior is greater than the denominator. Therefore, we can conclude that the probality of being a smoker if you are a man is greater than 50%. "
   ]
  },
  {
   "cell_type": "markdown",
   "metadata": {},
   "source": [
    "**1.5:** Does there appear to be a significant difference between the smoking status of female and male? If so, can you quantify the difference based on the model in **1.1**: how much more likely that male are smokers than female?"
   ]
  },
  {
   "cell_type": "code",
   "execution_count": 165,
   "metadata": {},
   "outputs": [
    {
     "name": "stdout",
     "output_type": "stream",
     "text": [
      "2.404639508963792\n"
     ]
    }
   ],
   "source": [
    "# calculate odds ratio of male over female\n",
    "# notice the model coefficient is female over male, so need to do 1 / \n",
    "odd_m_f = 1/math.exp(-0.8774)\n",
    "print(odd_m_f)"
   ]
  },
  {
   "cell_type": "markdown",
   "metadata": {},
   "source": [
    "**Solution:**: \n",
    "\n",
    "We can see that the p_value is quite small (<0.05), therefore we can say there is significant difference between smoking status of female vs men. Men are **2.405** more likely to be smokers than women."
   ]
  },
  {
   "cell_type": "markdown",
   "metadata": {},
   "source": [
    "**Question 2:** We will build upon the model in **Question 1** by adding more covariates from the data."
   ]
  },
  {
   "cell_type": "markdown",
   "metadata": {},
   "source": [
    "**2.1:** Let's first add age to the model, so fit a logistic regression model using Gender and Age to predict smoking status."
   ]
  },
  {
   "cell_type": "code",
   "execution_count": 166,
   "metadata": {},
   "outputs": [
    {
     "name": "stdout",
     "output_type": "stream",
     "text": [
      "                 Generalized Linear Model Regression Results                  \n",
      "==============================================================================\n",
      "Dep. Variable:                 Smoker   No. Observations:                 5725\n",
      "Model:                            GLM   Df Residuals:                     5722\n",
      "Model Family:                Binomial   Df Model:                            2\n",
      "Link Function:                  Logit   Scale:                          1.0000\n",
      "Method:                          IRLS   Log-Likelihood:                -3637.6\n",
      "Date:                Mon, 05 Dec 2022   Deviance:                       7275.2\n",
      "Time:                        18:21:01   Pearson chi2:                 5.73e+03\n",
      "No. Iterations:                     4   Pseudo R-squ. (CS):            0.07618\n",
      "Covariance Type:            nonrobust                                         \n",
      "==================================================================================\n",
      "                     coef    std err          z      P>|z|      [0.025      0.975]\n",
      "----------------------------------------------------------------------------------\n",
      "Intercept         -0.9656      0.084    -11.546      0.000      -1.130      -0.802\n",
      "C(Gender)[T.2]    -0.8978      0.056    -15.967      0.000      -1.008      -0.788\n",
      "Age                0.0211      0.002     13.720      0.000       0.018       0.024\n",
      "==================================================================================\n"
     ]
    }
   ],
   "source": [
    "# enter your code here\n",
    "formula = \"Smoker ~ C(Gender) + Age\"\n",
    "mod1 = sm.GLM.from_formula(formula=formula, data=nhanes, family=sm.families.Binomial()).fit()\n",
    "print(mod1.summary())"
   ]
  },
  {
   "cell_type": "markdown",
   "metadata": {},
   "source": [
    "**2.2:** Based on the model result in **2.1**, how do we interpret all the coefficients?"
   ]
  },
  {
   "cell_type": "markdown",
   "metadata": {},
   "source": [
    "**Solution:**  \n",
    "\n",
    "Interpretation for intercept: The intercept loses some interpretation. Theorically, in this case, the intercept represents the log odds ratio of being a smoker for an average men with age 0. \n",
    "\n",
    "Interpretation for slope of female: If you don't change the age of the person, the log odds ratio of being smoker if you are a women decreases by that slope in comparison to the men. Also, we can interpret that women are less likely to be smokers than men of same age, taking into account that the slope is negative.\n",
    "\n",
    "Interpretation for slope of age: The age slope represents the change in the log odds ratio of being a smoker if we increase the age by one unit, and mantain the same gender. As it is positive, we can say that elder people are more likely to be smokers."
   ]
  },
  {
   "cell_type": "markdown",
   "metadata": {},
   "source": [
    "**2.3:** Let's now add an interaction term of age and gender to the model!"
   ]
  },
  {
   "cell_type": "code",
   "execution_count": 167,
   "metadata": {
    "scrolled": true
   },
   "outputs": [
    {
     "name": "stdout",
     "output_type": "stream",
     "text": [
      "                 Generalized Linear Model Regression Results                  \n",
      "==============================================================================\n",
      "Dep. Variable:                 Smoker   No. Observations:                 5725\n",
      "Model:                            GLM   Df Residuals:                     5721\n",
      "Model Family:                Binomial   Df Model:                            3\n",
      "Link Function:                  Logit   Scale:                          1.0000\n",
      "Method:                          IRLS   Log-Likelihood:                -3629.2\n",
      "Date:                Mon, 05 Dec 2022   Deviance:                       7258.5\n",
      "Time:                        18:21:01   Pearson chi2:                 5.72e+03\n",
      "No. Iterations:                     4   Pseudo R-squ. (CS):            0.07888\n",
      "Covariance Type:            nonrobust                                         \n",
      "======================================================================================\n",
      "                         coef    std err          z      P>|z|      [0.025      0.975]\n",
      "--------------------------------------------------------------------------------------\n",
      "Intercept             -1.2604      0.112    -11.294      0.000      -1.479      -1.042\n",
      "C(Gender)[T.2]        -0.2772      0.161     -1.719      0.086      -0.593       0.039\n",
      "Age                    0.0273      0.002     12.533      0.000       0.023       0.032\n",
      "C(Gender)[T.2]:Age    -0.0126      0.003     -4.087      0.000      -0.019      -0.007\n",
      "======================================================================================\n"
     ]
    }
   ],
   "source": [
    "# enter your code here\n",
    "formula = \"Smoker ~ C(Gender) + Age + C(Gender)*Age\"\n",
    "mod1 = sm.GLM.from_formula(formula=formula, data=nhanes, family=sm.families.Binomial()).fit()\n",
    "print(mod1.summary())"
   ]
  },
  {
   "cell_type": "markdown",
   "metadata": {},
   "source": [
    "**2.4:** Based on the model result in **2.3**, how do we interpret all the coefficients? What does it imply if the interaction term is significant?"
   ]
  },
  {
   "cell_type": "markdown",
   "metadata": {},
   "source": [
    "**Solution:**  \n",
    "\n",
    "We can see that in this case the interaction term becomes significant, however the gender alone becomes insignificant. We can then infer that the effect of gender is different according to the age. Taking into account the slope of the age term is positive, we can say that older people have a higher tendency to be smokers.\n",
    "\n",
    "Although, because the interaction term is negative the increase in odds ratio for men and women are not the same for a single unit increase in age, the increase in odds ratio is less for women.\n",
    "\n",
    "The intercep as in the previous exercise represents the log odds ratio of being a smoker for a man with age 0."
   ]
  },
  {
   "cell_type": "markdown",
   "metadata": {},
   "source": [
    "**2.5:** Adding the following variables to model in **2.3**. Based on results, make some general conclusions about how each variable affects the probability of smoking. As a reminder, the coding for the following vriables are listed:\n",
    "- Race: \n",
    "    - 1: Mexican American\n",
    "    - 2: Other Hispanic\n",
    "    - 3: Non-Hispanic White\n",
    "    - 4: Non-Hispanic Black\n",
    "    - 5: Other Race Including Multi-Racial\n",
    "- Education_Level:\n",
    "    - 1: < 9th grade\n",
    "    - 2: 9-11th grade\n",
    "    - 3: HS/GED\n",
    "    - 4: Some college/AA\n",
    "    - 5: College\n",
    "- Marital_Status:\n",
    "    - 1: Married\n",
    "    - 2: Widowed\n",
    "    - 3: Divorced\n",
    "    - 4: Separated\n",
    "    - 5: Never married\n",
    "    - 6: Living w/partner\n",
    "- BMI: numerical"
   ]
  },
  {
   "cell_type": "code",
   "execution_count": 168,
   "metadata": {},
   "outputs": [
    {
     "name": "stdout",
     "output_type": "stream",
     "text": [
      "                 Generalized Linear Model Regression Results                  \n",
      "==============================================================================\n",
      "Dep. Variable:                 Smoker   No. Observations:                 5393\n",
      "Model:                            GLM   Df Residuals:                     5375\n",
      "Model Family:                Binomial   Df Model:                           17\n",
      "Link Function:                  Logit   Scale:                          1.0000\n",
      "Method:                          IRLS   Log-Likelihood:                -3288.0\n",
      "Date:                Mon, 05 Dec 2022   Deviance:                       6576.0\n",
      "Time:                        18:21:01   Pearson chi2:                 5.38e+03\n",
      "No. Iterations:                     4   Pseudo R-squ. (CS):             0.1308\n",
      "Covariance Type:            nonrobust                                         \n",
      "=============================================================================================\n",
      "                                coef    std err          z      P>|z|      [0.025      0.975]\n",
      "---------------------------------------------------------------------------------------------\n",
      "Intercept                    -1.8850      0.222     -8.504      0.000      -2.319      -1.451\n",
      "C(Gender)[T.2]               -0.2117      0.180     -1.176      0.240      -0.565       0.141\n",
      "C(Race)[T.2]                  0.1549      0.110      1.413      0.158      -0.060       0.370\n",
      "C(Race)[T.3]                  0.7124      0.096      7.423      0.000       0.524       0.901\n",
      "C(Race)[T.4]                  0.2525      0.102      2.473      0.013       0.052       0.453\n",
      "C(Race)[T.5]                  0.0270      0.114      0.237      0.813      -0.197       0.251\n",
      "C(Education_Level)[T.2.0]     0.7081      0.123      5.748      0.000       0.467       0.950\n",
      "C(Education_Level)[T.3.0]     0.4671      0.112      4.173      0.000       0.248       0.686\n",
      "C(Education_Level)[T.4.0]     0.3308      0.110      3.010      0.003       0.115       0.546\n",
      "C(Education_Level)[T.5.0]    -0.4797      0.117     -4.089      0.000      -0.710      -0.250\n",
      "C(Marital_Status)[T.2.0]      0.2620      0.129      2.027      0.043       0.009       0.515\n",
      "C(Marital_Status)[T.3.0]      0.5419      0.102      5.305      0.000       0.342       0.742\n",
      "C(Marital_Status)[T.4.0]      0.6558      0.165      3.974      0.000       0.332       0.979\n",
      "C(Marital_Status)[T.5.0]      0.3371      0.089      3.768      0.000       0.162       0.512\n",
      "C(Marital_Status)[T.6.0]      0.5214      0.106      4.900      0.000       0.313       0.730\n",
      "Age                           0.0256      0.003      9.730      0.000       0.020       0.031\n",
      "C(Gender)[T.2]:Age           -0.0156      0.003     -4.493      0.000      -0.022      -0.009\n",
      "BMI                           0.0024      0.004      0.568      0.570      -0.006       0.011\n",
      "=============================================================================================\n"
     ]
    }
   ],
   "source": [
    "# enter your code here\n",
    "formula = \"Smoker ~ C(Gender) + Age + C(Gender)*Age + C(Race) + C(Education_Level) + C(Marital_Status) + BMI\"\n",
    "mod1 = sm.GLM.from_formula(formula=formula, data=nhanes, family=sm.families.Binomial()).fit()\n",
    "print(mod1.summary())"
   ]
  },
  {
   "cell_type": "markdown",
   "metadata": {},
   "source": [
    "**Solution:**  \n",
    "\n",
    "**Gender:** we can see that the p-value is large, so gender alone is not significant.\n",
    "\n",
    "**Gender*Age:** we can still see that the p-value is small, and considering the slope is still negative, we can infer that women are less likely to be smokers than men.\n",
    "\n",
    "**Race:** in the case of race, the model uses Mexican American as reference. In the case of T2, T4 and T5; the p-value is greater than 0.05, so we cannot say that the odds ratio of being a smoker when being a \"Other Hispanic\", \"Non-Hispanic Black\" and \"Other Race - Including multiracial\" is significantly different in comparison to Mexican Americans.\n",
    "\n",
    "On the other hand, the p-value of T3 is still small therefore significant. As the slope is positive, we can say that Non-Hispanic White people are more likely to be smokers in comparison to Mexican Americans.\n",
    "\n",
    "**Education Level:** In the case of education level, the p_value are quite small. The people with an education level of less than 9th grade are taken as reference. People with an education level of 9-11th grade, HS/GED and some college/AA are more likely to be smokers than the reference as the slope is positive.\n",
    "\n",
    "On the other hand, we can observe that people with an education level of college have a negative slope which means they are less likely to be smokers than the reference.\n",
    "\n",
    "**Marital Status:** In the case of marital status, married people are taken as reference. In all the cases, the p-value is small, therefore we can say that there is a difference in comparison with the reference. Moreover, considering the slope is positive, we can conclude that people that are \"Widowed\", \"Divorced\", \"Separated\", \"Never married\" and \"Living w/partner\" are more likely to be smokers than married people.\n",
    "\n",
    "**Age:** In the case of age, the slope is still significant and positive; so we can still say that elder people are more likely to be smokers.\n",
    "\n",
    "**BMI:** Fo the BMI, the p-value is large, so we cannot conclude that people with different BMI are more nor less likely to be smokers.\n",
    "\n",
    "**Intercept:** The intercept loses interpretabilty; but, theoritically, it represents the log odds ratio of being a smoker, if you are mexican american male of age 0 with BMI of 0, married, with education level of less than 9th grade.\n"
   ]
  },
  {
   "cell_type": "markdown",
   "metadata": {},
   "source": [
    "**Question 3:** We will create a categorical variable for drinking status based on [`ALQ101` and `ALQ110`](https://wwwn.cdc.gov/Nchs/Nhanes/2015-2016/ALQ_I.htm#Codebook):\n",
    "- drinking\n",
    "    - 0: fewer than 12 alcohol drinks in lifetime (`ALQ110`=2).\n",
    "    - 1: more than 12 alcohol drinks in lifetime but not in a year (`ALQ110`=1).\n",
    "    - 2: more than 12 alcohol drinks in a year (`ALQ101`=1)."
   ]
  },
  {
   "cell_type": "code",
   "execution_count": 169,
   "metadata": {
    "scrolled": true
   },
   "outputs": [
    {
     "data": {
      "text/plain": [
       "2.0    3477\n",
       "0.0     979\n",
       "1.0     747\n",
       "Name: Drinking, dtype: int64"
      ]
     },
     "execution_count": 169,
     "metadata": {},
     "output_type": "execute_result"
    }
   ],
   "source": [
    "nhanes['Drinking'] = nhanes['ALQ110']\n",
    "nhanes.loc[nhanes['ALQ110']==2, 'Drinking'] = 0\n",
    "nhanes.loc[nhanes['ALQ101']==1, 'Drinking'] = 2\n",
    "# check for counts\n",
    "nhanes['Drinking'].value_counts()"
   ]
  },
  {
   "cell_type": "markdown",
   "metadata": {},
   "source": [
    "**3.1:** Fit a multinomial regression model [sm.MNLogit](https://www.statsmodels.org/dev/generated/statsmodels.discrete.discrete_model.MNLogit.html#statsmodels.discrete.discrete_model.MNLogit) using the following covariates:\n",
    "- Gender:\n",
    "    - 1: Male\n",
    "    - 2: Female\n",
    "- Age: numerical\n",
    "- BMI: numerical\n",
    "\n",
    "**Note:** MNLogit function does not support formula and cannot handle NaNs, so you need to do dummy variable coding and drop all rows with NaNs. "
   ]
  },
  {
   "cell_type": "code",
   "execution_count": 170,
   "metadata": {},
   "outputs": [],
   "source": [
    "clean_nhanes = nhanes.dropna(subset=['Drinking','Age','Gender','BMI'])\n",
    "clean_nhanes.reset_index(inplace=True)\n",
    "clean_nhanes['Female'] = clean_nhanes['Gender'].map({1: 0, 2: 1})"
   ]
  },
  {
   "cell_type": "code",
   "execution_count": 171,
   "metadata": {},
   "outputs": [
    {
     "name": "stdout",
     "output_type": "stream",
     "text": [
      "Optimization terminated successfully.\n",
      "         Current function value: 0.822527\n",
      "         Iterations 5\n"
     ]
    },
    {
     "data": {
      "text/html": [
       "<table class=\"simpletable\">\n",
       "<caption>MNLogit Regression Results</caption>\n",
       "<tr>\n",
       "  <th>Dep. Variable:</th>       <td>Drinking</td>     <th>  No. Observations:  </th>  <td>  5146</td>  \n",
       "</tr>\n",
       "<tr>\n",
       "  <th>Model:</th>                <td>MNLogit</td>     <th>  Df Residuals:      </th>  <td>  5138</td>  \n",
       "</tr>\n",
       "<tr>\n",
       "  <th>Method:</th>                 <td>MLE</td>       <th>  Df Model:          </th>  <td>     6</td>  \n",
       "</tr>\n",
       "<tr>\n",
       "  <th>Date:</th>            <td>Mon, 05 Dec 2022</td> <th>  Pseudo R-squ.:     </th>  <td>0.04472</td> \n",
       "</tr>\n",
       "<tr>\n",
       "  <th>Time:</th>                <td>18:21:02</td>     <th>  Log-Likelihood:    </th> <td> -4232.7</td> \n",
       "</tr>\n",
       "<tr>\n",
       "  <th>converged:</th>             <td>True</td>       <th>  LL-Null:           </th> <td> -4430.9</td> \n",
       "</tr>\n",
       "<tr>\n",
       "  <th>Covariance Type:</th>     <td>nonrobust</td>    <th>  LLR p-value:       </th> <td>1.751e-82</td>\n",
       "</tr>\n",
       "</table>\n",
       "<table class=\"simpletable\">\n",
       "<tr>\n",
       "  <th>Drinking=1</th>    <th>coef</th>     <th>std err</th>      <th>z</th>      <th>P>|z|</th>  <th>[0.025</th>    <th>0.975]</th>  \n",
       "</tr>\n",
       "<tr>\n",
       "  <th>const</th>      <td>   -1.5713</td> <td>    0.248</td> <td>   -6.334</td> <td> 0.000</td> <td>   -2.057</td> <td>   -1.085</td>\n",
       "</tr>\n",
       "<tr>\n",
       "  <th>Female</th>     <td>    0.0203</td> <td>    0.107</td> <td>    0.189</td> <td> 0.850</td> <td>   -0.189</td> <td>    0.230</td>\n",
       "</tr>\n",
       "<tr>\n",
       "  <th>Age</th>        <td>    0.0108</td> <td>    0.003</td> <td>    4.066</td> <td> 0.000</td> <td>    0.006</td> <td>    0.016</td>\n",
       "</tr>\n",
       "<tr>\n",
       "  <th>BMI</th>        <td>    0.0251</td> <td>    0.007</td> <td>    3.755</td> <td> 0.000</td> <td>    0.012</td> <td>    0.038</td>\n",
       "</tr>\n",
       "<tr>\n",
       "  <th>Drinking=2</th>    <th>coef</th>     <th>std err</th>      <th>z</th>      <th>P>|z|</th>  <th>[0.025</th>    <th>0.975]</th>  \n",
       "</tr>\n",
       "<tr>\n",
       "  <th>const</th>      <td>    1.6296</td> <td>    0.184</td> <td>    8.840</td> <td> 0.000</td> <td>    1.268</td> <td>    1.991</td>\n",
       "</tr>\n",
       "<tr>\n",
       "  <th>Female</th>     <td>   -1.1401</td> <td>    0.078</td> <td>  -14.609</td> <td> 0.000</td> <td>   -1.293</td> <td>   -0.987</td>\n",
       "</tr>\n",
       "<tr>\n",
       "  <th>Age</th>        <td>   -0.0010</td> <td>    0.002</td> <td>   -0.489</td> <td> 0.625</td> <td>   -0.005</td> <td>    0.003</td>\n",
       "</tr>\n",
       "<tr>\n",
       "  <th>BMI</th>        <td>    0.0112</td> <td>    0.005</td> <td>    2.110</td> <td> 0.035</td> <td>    0.001</td> <td>    0.022</td>\n",
       "</tr>\n",
       "</table>"
      ],
      "text/plain": [
       "<class 'statsmodels.iolib.summary.Summary'>\n",
       "\"\"\"\n",
       "                          MNLogit Regression Results                          \n",
       "==============================================================================\n",
       "Dep. Variable:               Drinking   No. Observations:                 5146\n",
       "Model:                        MNLogit   Df Residuals:                     5138\n",
       "Method:                           MLE   Df Model:                            6\n",
       "Date:                Mon, 05 Dec 2022   Pseudo R-squ.:                 0.04472\n",
       "Time:                        18:21:02   Log-Likelihood:                -4232.7\n",
       "converged:                       True   LL-Null:                       -4430.9\n",
       "Covariance Type:            nonrobust   LLR p-value:                 1.751e-82\n",
       "==============================================================================\n",
       "Drinking=1       coef    std err          z      P>|z|      [0.025      0.975]\n",
       "------------------------------------------------------------------------------\n",
       "const         -1.5713      0.248     -6.334      0.000      -2.057      -1.085\n",
       "Female         0.0203      0.107      0.189      0.850      -0.189       0.230\n",
       "Age            0.0108      0.003      4.066      0.000       0.006       0.016\n",
       "BMI            0.0251      0.007      3.755      0.000       0.012       0.038\n",
       "------------------------------------------------------------------------------\n",
       "Drinking=2       coef    std err          z      P>|z|      [0.025      0.975]\n",
       "------------------------------------------------------------------------------\n",
       "const          1.6296      0.184      8.840      0.000       1.268       1.991\n",
       "Female        -1.1401      0.078    -14.609      0.000      -1.293      -0.987\n",
       "Age           -0.0010      0.002     -0.489      0.625      -0.005       0.003\n",
       "BMI            0.0112      0.005      2.110      0.035       0.001       0.022\n",
       "==============================================================================\n",
       "\"\"\""
      ]
     },
     "execution_count": 171,
     "metadata": {},
     "output_type": "execute_result"
    }
   ],
   "source": [
    "# enter your code here\n",
    "# notice MNLogit does not support formula and cannot handle NaN\n",
    "# need to create a dummy variable for Female and drop records with NaN\n",
    "clean_nhanes.endog = clean_nhanes['Drinking']\n",
    "clean_nhanes.exog = sm.add_constant(clean_nhanes[['Female', 'Age' ,'BMI']])\n",
    "model4 = sm.MNLogit(clean_nhanes.endog, clean_nhanes.exog)\n",
    "result = model4.fit()\n",
    "result.summary()"
   ]
  },
  {
   "cell_type": "markdown",
   "metadata": {},
   "source": [
    "**3.2:** How do we interpret the slopes for `Female`?"
   ]
  },
  {
   "cell_type": "markdown",
   "metadata": {},
   "source": [
    "**Solution:**  \n",
    "\n",
    "While comparing drinking less and more than 12 drinks in their lifetime, we can see that the p-value is quite large (greater than alpha), therefore we should not make any inference on that as it is not significant.\n",
    "\n",
    "However, while comparing with more than 12 drinks in a year, we see p_value is quite small, so we can say that women are less likely to drink more than 12 dirnks in a year than men as the slope is negative."
   ]
  },
  {
   "cell_type": "markdown",
   "metadata": {},
   "source": [
    "**3.3:** How do we interpret the slopes for `Age`?"
   ]
  },
  {
   "cell_type": "markdown",
   "metadata": {},
   "source": [
    "**Solution:**  \n",
    "In the case of age, it is only significant in the first comparison, so we can say that older people tend to have drunk more than 12 drinks over their lifetime than younger people. This actually makes sense, as the period is larger, therefore the odds of drinking more also increases. \n",
    "\n",
    "For the second part, we cannot make an inference, because the p-value is greater than alpha."
   ]
  },
  {
   "cell_type": "markdown",
   "metadata": {},
   "source": [
    "**3.4:** How do we interpret the slopes for `BMI`?"
   ]
  },
  {
   "cell_type": "markdown",
   "metadata": {},
   "source": [
    "**Solution:**  \n",
    "\n",
    "As BMI have a positive slope in both cases, we can say that people with larger BMI tend to drink more than people with less BMI. People with higher BMI are more likely to have drunk more than 12 drinks in their lifetime and in a year."
   ]
  },
  {
   "cell_type": "markdown",
   "metadata": {},
   "source": [
    "**3.5:** Let's add `Marital_Status` in the model, but instead of all the categories in the data, create a dummy variable to indicate whether this person is married (`Marital_Status=1`) or not, and use that as your covariate. Is there statistical evidence that the drinking status differs between married and unmarried folks when we control gender, age and BMI?"
   ]
  },
  {
   "cell_type": "code",
   "execution_count": 172,
   "metadata": {
    "scrolled": true
   },
   "outputs": [],
   "source": [
    "# enter your code here\n",
    "# notice MNLogit does not support formula and cannot handle NaN\n",
    "# need to create a dummy variable for Married and drop NaN\n",
    "clean_nhanes['Married'] = (clean_nhanes['Marital_Status']==1)*1\n",
    "clean_nhanes = clean_nhanes.dropna(subset=['Drinking','Age','Gender','BMI','Married'])"
   ]
  },
  {
   "cell_type": "code",
   "execution_count": 173,
   "metadata": {},
   "outputs": [
    {
     "name": "stdout",
     "output_type": "stream",
     "text": [
      "Optimization terminated successfully.\n",
      "         Current function value: 0.822462\n",
      "         Iterations 5\n"
     ]
    },
    {
     "data": {
      "text/html": [
       "<table class=\"simpletable\">\n",
       "<caption>MNLogit Regression Results</caption>\n",
       "<tr>\n",
       "  <th>Dep. Variable:</th>       <td>Drinking</td>     <th>  No. Observations:  </th>  <td>  5146</td>  \n",
       "</tr>\n",
       "<tr>\n",
       "  <th>Model:</th>                <td>MNLogit</td>     <th>  Df Residuals:      </th>  <td>  5136</td>  \n",
       "</tr>\n",
       "<tr>\n",
       "  <th>Method:</th>                 <td>MLE</td>       <th>  Df Model:          </th>  <td>     8</td>  \n",
       "</tr>\n",
       "<tr>\n",
       "  <th>Date:</th>            <td>Mon, 05 Dec 2022</td> <th>  Pseudo R-squ.:     </th>  <td>0.04479</td> \n",
       "</tr>\n",
       "<tr>\n",
       "  <th>Time:</th>                <td>18:21:02</td>     <th>  Log-Likelihood:    </th> <td> -4232.4</td> \n",
       "</tr>\n",
       "<tr>\n",
       "  <th>converged:</th>             <td>True</td>       <th>  LL-Null:           </th> <td> -4430.9</td> \n",
       "</tr>\n",
       "<tr>\n",
       "  <th>Covariance Type:</th>     <td>nonrobust</td>    <th>  LLR p-value:       </th> <td>8.376e-81</td>\n",
       "</tr>\n",
       "</table>\n",
       "<table class=\"simpletable\">\n",
       "<tr>\n",
       "  <th>Drinking=1</th>    <th>coef</th>     <th>std err</th>      <th>z</th>      <th>P>|z|</th>  <th>[0.025</th>    <th>0.975]</th>  \n",
       "</tr>\n",
       "<tr>\n",
       "  <th>const</th>      <td>   -1.5522</td> <td>    0.251</td> <td>   -6.191</td> <td> 0.000</td> <td>   -2.044</td> <td>   -1.061</td>\n",
       "</tr>\n",
       "<tr>\n",
       "  <th>Female</th>     <td>    0.0139</td> <td>    0.108</td> <td>    0.130</td> <td> 0.897</td> <td>   -0.197</td> <td>    0.225</td>\n",
       "</tr>\n",
       "<tr>\n",
       "  <th>Age</th>        <td>    0.0111</td> <td>    0.003</td> <td>    4.119</td> <td> 0.000</td> <td>    0.006</td> <td>    0.016</td>\n",
       "</tr>\n",
       "<tr>\n",
       "  <th>BMI</th>        <td>    0.0252</td> <td>    0.007</td> <td>    3.763</td> <td> 0.000</td> <td>    0.012</td> <td>    0.038</td>\n",
       "</tr>\n",
       "<tr>\n",
       "  <th>Married</th>    <td>   -0.0610</td> <td>    0.100</td> <td>   -0.611</td> <td> 0.541</td> <td>   -0.257</td> <td>    0.135</td>\n",
       "</tr>\n",
       "<tr>\n",
       "  <th>Drinking=2</th>    <th>coef</th>     <th>std err</th>      <th>z</th>      <th>P>|z|</th>  <th>[0.025</th>    <th>0.975]</th>  \n",
       "</tr>\n",
       "<tr>\n",
       "  <th>const</th>      <td>    1.6457</td> <td>    0.186</td> <td>    8.860</td> <td> 0.000</td> <td>    1.282</td> <td>    2.010</td>\n",
       "</tr>\n",
       "<tr>\n",
       "  <th>Female</th>     <td>   -1.1461</td> <td>    0.078</td> <td>  -14.614</td> <td> 0.000</td> <td>   -1.300</td> <td>   -0.992</td>\n",
       "</tr>\n",
       "<tr>\n",
       "  <th>Age</th>        <td>   -0.0007</td> <td>    0.002</td> <td>   -0.343</td> <td> 0.732</td> <td>   -0.005</td> <td>    0.003</td>\n",
       "</tr>\n",
       "<tr>\n",
       "  <th>BMI</th>        <td>    0.0113</td> <td>    0.005</td> <td>    2.125</td> <td> 0.034</td> <td>    0.001</td> <td>    0.022</td>\n",
       "</tr>\n",
       "<tr>\n",
       "  <th>Married</th>    <td>   -0.0604</td> <td>    0.076</td> <td>   -0.792</td> <td> 0.428</td> <td>   -0.210</td> <td>    0.089</td>\n",
       "</tr>\n",
       "</table>"
      ],
      "text/plain": [
       "<class 'statsmodels.iolib.summary.Summary'>\n",
       "\"\"\"\n",
       "                          MNLogit Regression Results                          \n",
       "==============================================================================\n",
       "Dep. Variable:               Drinking   No. Observations:                 5146\n",
       "Model:                        MNLogit   Df Residuals:                     5136\n",
       "Method:                           MLE   Df Model:                            8\n",
       "Date:                Mon, 05 Dec 2022   Pseudo R-squ.:                 0.04479\n",
       "Time:                        18:21:02   Log-Likelihood:                -4232.4\n",
       "converged:                       True   LL-Null:                       -4430.9\n",
       "Covariance Type:            nonrobust   LLR p-value:                 8.376e-81\n",
       "==============================================================================\n",
       "Drinking=1       coef    std err          z      P>|z|      [0.025      0.975]\n",
       "------------------------------------------------------------------------------\n",
       "const         -1.5522      0.251     -6.191      0.000      -2.044      -1.061\n",
       "Female         0.0139      0.108      0.130      0.897      -0.197       0.225\n",
       "Age            0.0111      0.003      4.119      0.000       0.006       0.016\n",
       "BMI            0.0252      0.007      3.763      0.000       0.012       0.038\n",
       "Married       -0.0610      0.100     -0.611      0.541      -0.257       0.135\n",
       "------------------------------------------------------------------------------\n",
       "Drinking=2       coef    std err          z      P>|z|      [0.025      0.975]\n",
       "------------------------------------------------------------------------------\n",
       "const          1.6457      0.186      8.860      0.000       1.282       2.010\n",
       "Female        -1.1461      0.078    -14.614      0.000      -1.300      -0.992\n",
       "Age           -0.0007      0.002     -0.343      0.732      -0.005       0.003\n",
       "BMI            0.0113      0.005      2.125      0.034       0.001       0.022\n",
       "Married       -0.0604      0.076     -0.792      0.428      -0.210       0.089\n",
       "==============================================================================\n",
       "\"\"\""
      ]
     },
     "execution_count": 173,
     "metadata": {},
     "output_type": "execute_result"
    }
   ],
   "source": [
    "clean_nhanes.endog = clean_nhanes['Drinking']\n",
    "clean_nhanes.exog = sm.add_constant(clean_nhanes[['Female', 'Age' ,'BMI','Married']])\n",
    "model4 = sm.MNLogit(clean_nhanes.endog, clean_nhanes.exog)\n",
    "result = model4.fit()\n",
    "result.summary()"
   ]
  },
  {
   "cell_type": "markdown",
   "metadata": {},
   "source": [
    "**Solution:**  \n",
    "\n",
    "We can only take into account the second comparison, as the p_value for the first one is too small. In the second, as the slope is negative, we can say that married people are less likely to drink more than 12 drinks per year than unmarried people."
   ]
  },
  {
   "cell_type": "markdown",
   "metadata": {},
   "source": [
    "**Question 4:** Now let's look at the variable `Avg_drinks_per_day` and use [sm.Poisson](https://www.statsmodels.org/dev/generated/statsmodels.discrete.discrete_model.Poisson.html#statsmodels.discrete.discrete_model.Poisson) to regress average number of drinks per day on other variables."
   ]
  },
  {
   "cell_type": "markdown",
   "metadata": {},
   "source": [
    "**4.1:** Create a barchart to visualize the distribution of average number of drinks in the data and calculate the mean and variance. \n",
    "\n",
    "**Note:** The column `Avg_drinks_per_day` contains missing values, let's create a new column `Drinks` and fill in all missing values. According to the [codebook](https://wwwn.cdc.gov/Nchs/Nhanes/2015-2016/ALQ_I.htm#Codebook), let's fill in 0 for the missing values as an approximation. "
   ]
  },
  {
   "cell_type": "code",
   "execution_count": 174,
   "metadata": {
    "scrolled": false
   },
   "outputs": [
    {
     "data": {
      "image/png": "[encoded data removed]",
      "text/plain": [
       "<Figure size 432x288 with 1 Axes>"
      ]
     },
     "metadata": {},
     "output_type": "display_data"
    }
   ],
   "source": [
    "# enter your code here\n",
    "clean_nhanes['Drinks'] =  clean_nhanes['Avg_drinks_per_day'].replace({np.NaN:0})\n",
    "plt.hist(clean_nhanes['Drinks'], bins=int(max(clean_nhanes['Drinks']))+2, align='mid')\n",
    "plt.show()"
   ]
  },
  {
   "cell_type": "code",
   "execution_count": 175,
   "metadata": {},
   "outputs": [
    {
     "name": "stdout",
     "output_type": "stream",
     "text": [
      "Mean of average number of drinks per day 1.782\n",
      "Variance of average number of drinks per day 5.259\n"
     ]
    }
   ],
   "source": [
    "# print out result\n",
    "mean = np.mean(clean_nhanes['Drinks'])\n",
    "var = np.var(clean_nhanes['Drinks'])\n",
    "print('Mean of average number of drinks per day %.3f' % mean)\n",
    "print('Variance of average number of drinks per day %.3f' % var)"
   ]
  },
  {
   "cell_type": "markdown",
   "metadata": {},
   "source": [
    "**4.2:** Fit a Poisson regression model using the same covariates as the model in **3.5** and `Drinks` as the outcome. "
   ]
  },
  {
   "cell_type": "code",
   "execution_count": 176,
   "metadata": {},
   "outputs": [
    {
     "name": "stdout",
     "output_type": "stream",
     "text": [
      "Optimization terminated successfully.\n",
      "         Current function value: 1.969151\n",
      "         Iterations 5\n"
     ]
    },
    {
     "data": {
      "text/html": [
       "<table class=\"simpletable\">\n",
       "<caption>Poisson Regression Results</caption>\n",
       "<tr>\n",
       "  <th>Dep. Variable:</th>        <td>Drinks</td>      <th>  No. Observations:  </th>  <td>  5146</td> \n",
       "</tr>\n",
       "<tr>\n",
       "  <th>Model:</th>                <td>Poisson</td>     <th>  Df Residuals:      </th>  <td>  5141</td> \n",
       "</tr>\n",
       "<tr>\n",
       "  <th>Method:</th>                 <td>MLE</td>       <th>  Df Model:          </th>  <td>     4</td> \n",
       "</tr>\n",
       "<tr>\n",
       "  <th>Date:</th>            <td>Mon, 05 Dec 2022</td> <th>  Pseudo R-squ.:     </th>  <td>0.07433</td>\n",
       "</tr>\n",
       "<tr>\n",
       "  <th>Time:</th>                <td>18:21:02</td>     <th>  Log-Likelihood:    </th> <td> -10133.</td>\n",
       "</tr>\n",
       "<tr>\n",
       "  <th>converged:</th>             <td>True</td>       <th>  LL-Null:           </th> <td> -10947.</td>\n",
       "</tr>\n",
       "<tr>\n",
       "  <th>Covariance Type:</th>     <td>nonrobust</td>    <th>  LLR p-value:       </th>  <td> 0.000</td> \n",
       "</tr>\n",
       "</table>\n",
       "<table class=\"simpletable\">\n",
       "<tr>\n",
       "     <td></td>        <th>coef</th>     <th>std err</th>      <th>z</th>      <th>P>|z|</th>  <th>[0.025</th>    <th>0.975]</th>  \n",
       "</tr>\n",
       "<tr>\n",
       "  <th>const</th>   <td>    1.3019</td> <td>    0.049</td> <td>   26.675</td> <td> 0.000</td> <td>    1.206</td> <td>    1.398</td>\n",
       "</tr>\n",
       "<tr>\n",
       "  <th>Female</th>  <td>   -0.6230</td> <td>    0.022</td> <td>  -28.471</td> <td> 0.000</td> <td>   -0.666</td> <td>   -0.580</td>\n",
       "</tr>\n",
       "<tr>\n",
       "  <th>Age</th>     <td>   -0.0157</td> <td>    0.001</td> <td>  -25.871</td> <td> 0.000</td> <td>   -0.017</td> <td>   -0.015</td>\n",
       "</tr>\n",
       "<tr>\n",
       "  <th>BMI</th>     <td>    0.0099</td> <td>    0.001</td> <td>    6.859</td> <td> 0.000</td> <td>    0.007</td> <td>    0.013</td>\n",
       "</tr>\n",
       "<tr>\n",
       "  <th>Married</th> <td>   -0.0519</td> <td>    0.022</td> <td>   -2.358</td> <td> 0.018</td> <td>   -0.095</td> <td>   -0.009</td>\n",
       "</tr>\n",
       "</table>"
      ],
      "text/plain": [
       "<class 'statsmodels.iolib.summary.Summary'>\n",
       "\"\"\"\n",
       "                          Poisson Regression Results                          \n",
       "==============================================================================\n",
       "Dep. Variable:                 Drinks   No. Observations:                 5146\n",
       "Model:                        Poisson   Df Residuals:                     5141\n",
       "Method:                           MLE   Df Model:                            4\n",
       "Date:                Mon, 05 Dec 2022   Pseudo R-squ.:                 0.07433\n",
       "Time:                        18:21:02   Log-Likelihood:                -10133.\n",
       "converged:                       True   LL-Null:                       -10947.\n",
       "Covariance Type:            nonrobust   LLR p-value:                     0.000\n",
       "==============================================================================\n",
       "                 coef    std err          z      P>|z|      [0.025      0.975]\n",
       "------------------------------------------------------------------------------\n",
       "const          1.3019      0.049     26.675      0.000       1.206       1.398\n",
       "Female        -0.6230      0.022    -28.471      0.000      -0.666      -0.580\n",
       "Age           -0.0157      0.001    -25.871      0.000      -0.017      -0.015\n",
       "BMI            0.0099      0.001      6.859      0.000       0.007       0.013\n",
       "Married       -0.0519      0.022     -2.358      0.018      -0.095      -0.009\n",
       "==============================================================================\n",
       "\"\"\""
      ]
     },
     "execution_count": 176,
     "metadata": {},
     "output_type": "execute_result"
    }
   ],
   "source": [
    "# enter your code here\n",
    "# take out the columns and drop NaN\n",
    "clean_nhanes = clean_nhanes.dropna(subset=['Drinks','Age','BMI','Married'])\n",
    "clean_nhanes.endog = clean_nhanes['Drinks']\n",
    "clean_nhanes.exog = sm.add_constant(clean_nhanes[['Female', 'Age' ,'BMI','Married']])\n",
    "model6 = sm.Poisson(clean_nhanes.endog, clean_nhanes.exog)\n",
    "result6 = model6.fit(method=\"newton\")\n",
    "result6.summary()"
   ]
  },
  {
   "cell_type": "markdown",
   "metadata": {},
   "source": [
    "**4.3:** How do we interpret the slope for `Age`?"
   ]
  },
  {
   "cell_type": "markdown",
   "metadata": {},
   "source": [
    "**Solution:**  \n",
    "\n",
    "The slope of age can be interpreted as follows. If we increase the age by one unit by maintaining everything else the same, the number of drinks per day decreases by exponential of the slope. In other words, elder people tend to drink less per day than younger people."
   ]
  },
  {
   "cell_type": "markdown",
   "metadata": {},
   "source": [
    "**4.4:** Compare a married female with unmarried male with same age and BMI, does the model result suggest which one has a higher expected value of average number of drinks per day?"
   ]
  },
  {
   "cell_type": "markdown",
   "metadata": {},
   "source": [
    "**Solution:**  \n",
    "\n",
    "By looking at the slopes, we can see that married and female have negative slopes, therefore by having those attributes we can expect married female to have a smaller expected value of average drinks per day than unmarried males."
   ]
  },
  {
   "cell_type": "markdown",
   "metadata": {},
   "source": [
    "**4.5:** For a married female of age 36 with BMI 25, what is the expected number of drinks per day according to your model? You can also use this model to predict **your** expected number of drinks per day, mine is 1.187(>_<)!"
   ]
  },
  {
   "cell_type": "code",
   "execution_count": 177,
   "metadata": {},
   "outputs": [
    {
     "name": "stdout",
     "output_type": "stream",
     "text": [
      "The expected number of drinks of a married female of age 36 with BMI 25 is 1.392\n",
      "My expected number of drinks is 3.461\n"
     ]
    }
   ],
   "source": [
    "# enter your code here\n",
    "q1 = math.exp(1.5095 - 0.6447*1 - 0.0186*36 + 0.0094*25 - 0.0993*1)\n",
    "q2 = math.exp(1.5095 - 0.6447*0 - 0.0186*24 + 0.0094*19 - 0.0993*0)\n",
    "\n",
    "print(\"The expected number of drinks of a married female of age 36 with BMI 25 is\", round(q1,3))\n",
    "print(\"My expected number of drinks is\", round(q2,3))"
   ]
  },
  {
   "cell_type": "markdown",
   "metadata": {},
   "source": [
    "You're done with HW 6, the last homework!!! WoW~ \n",
    "\n",
    "* **Save and Checkpoint** from the File menu,\n",
    "* **Close and Halt** from the File menu,\n",
    "* **Rename your ipynb file**, replacing LASTNAME with your last name,\n",
    "* **Upload** your file to the course website."
   ]
  }
 ],
 "metadata": {
  "kernelspec": {
   "display_name": "Python 3 (ipykernel)",
   "language": "python",
   "name": "python3"
  },
  "language_info": {
   "codemirror_mode": {
    "name": "ipython",
    "version": 3
   },
   "file_extension": ".py",
   "mimetype": "text/x-python",
   "name": "python",
   "nbconvert_exporter": "python",
   "pygments_lexer": "ipython3",
   "version": "3.9.12"
  }
 },
 "nbformat": 4,
 "nbformat_minor": 4
}
