{
 "cells": [
  {
   "cell_type": "code",
   "execution_count": 1,
   "metadata": {},
   "outputs": [],
   "source": [
    "# hypotesis testing\n",
    "\n",
    "# Data: 26% of the population were black. There was a sample of 100 men for a jury were 8 were black.\n",
    "# Question: Is the sample representative of the population?\n",
    "\n",
    "# Null Hypothesis: The sample is representative of the population.\n",
    "# p_sample = p\n",
    "# Alternative Hypothesis: The sample is not representative of the population. There was less black men than expected.\n",
    "# p_sample < p\n",
    "\n",
    "import numpy as np\n",
    "import matplotlib.pyplot as plt\n",
    "import scipy.stats as stats\n",
    "import math\n",
    "import random\n",
    "\n",
    "# We assume a binomial distribution for the population\n",
    "\n",
    "# proportion\n",
    "p = 0.26\n",
    "\n",
    "# variance\n",
    "var = p*(1-p)\n",
    "\n",
    "# standard deviation\n",
    "std = math.sqrt(var)\n",
    "\n",
    "# sampling distribution of the sample proportion\n",
    "\n",
    "# sample size\n",
    "n = 100\n",
    "\n",
    "# mean\n",
    "mean = p\n",
    "\n",
    "# standard deviation\n",
    "std = std/math.sqrt(n)\n",
    "\n",
    "# sample proportion\n",
    "p_sample = 8/100"
   ]
  },
  {
   "cell_type": "code",
   "execution_count": 2,
   "metadata": {},
   "outputs": [
    {
     "data": {
      "image/png": "[encoded data removed]",
      "text/plain": [
       "<Figure size 432x288 with 1 Axes>"
      ]
     },
     "metadata": {
      "needs_background": "light"
     },
     "output_type": "display_data"
    }
   ],
   "source": [
    "# simulation of the sampling distribution\n",
    "# 1000 samples of size 100\n",
    "\n",
    "# number of samples\n",
    "n_samples = 1000\n",
    "\n",
    "# proportions of the samples\n",
    "p_samples = []\n",
    "\n",
    "for i in range(n_samples):\n",
    "    # sample\n",
    "    sample = np.random.binomial(1, p, n)\n",
    "    # append proportion by Maximum Likelihood Estimation\n",
    "    p_samples.append(sample.mean())\n",
    "\n",
    "# plot the sampling distribution, add title and labels\n",
    "plt.hist(p_samples, bins=20)\n",
    "plt.xlabel('Proportion')\n",
    "plt.ylabel('Frequency')\n",
    "plt.title('Sampling Distribution')\n",
    "plt.show()"
   ]
  },
  {
   "cell_type": "code",
   "execution_count": 3,
   "metadata": {},
   "outputs": [
    {
     "data": {
      "image/png": "[encoded data removed]",
      "text/plain": [
       "<Figure size 432x288 with 1 Axes>"
      ]
     },
     "metadata": {
      "needs_background": "light"
     },
     "output_type": "display_data"
    }
   ],
   "source": [
    "# draw a vertical line where 5% (one-sided test) of the sample proportion is\n",
    "# draw a vertical line where the sample proportion is\n",
    "plt.hist(p_samples, bins=20)\n",
    "plt.xlabel('Proportion')\n",
    "plt.ylabel('Frequency')\n",
    "plt.title('Sampling Distribution')\n",
    "plt.axvline(np.percentile(p_samples, 5), color='red')\n",
    "plt.axvline(p_sample, color='green')\n",
    "plt.show()\n"
   ]
  },
  {
   "cell_type": "code",
   "execution_count": 4,
   "metadata": {},
   "outputs": [
    {
     "name": "stdout",
     "output_type": "stream",
     "text": [
      "p-value: 0.0\n"
     ]
    }
   ],
   "source": [
    "# p-value\n",
    "# proportion of the sampling distribution that is greater than the sample proportion\n",
    "# count the number of samples that are greater than the sample proportion\n",
    "\n",
    "# convert the list to a numpy array\n",
    "p_samples = np.array(p_samples)\n",
    "count = len(p_samples[p_samples < p_sample])\n",
    "p_value = count/n_samples\n",
    "print('p-value:', p_value)"
   ]
  },
  {
   "cell_type": "code",
   "execution_count": 5,
   "metadata": {},
   "outputs": [
    {
     "data": {
      "image/png": "[encoded data removed]",
      "text/plain": [
       "<Figure size 432x288 with 1 Axes>"
      ]
     },
     "metadata": {
      "needs_background": "light"
     },
     "output_type": "display_data"
    }
   ],
   "source": [
    "# type II error\n",
    "# probability of accepting the null hypothesis when it is false\n",
    "# If the null hypothesis is false, the population has another distribution.\n",
    "\n",
    "# The new population distribution has a proportion of the sample proportion\n",
    "\n",
    "p = p_sample\n",
    "\n",
    "# simulate again the sampling distribution\n",
    "\n",
    "# number of samples\n",
    "n_samples = 1000\n",
    "\n",
    "# proportions of the samples\n",
    "p_samples_new = []\n",
    "\n",
    "for i in range(n_samples):\n",
    "    # sample\n",
    "    sample = np.random.binomial(1, p, n)\n",
    "    # append proportion by Maximum Likelihood Estimation\n",
    "    p_samples_new.append(sample.mean())\n",
    "\n",
    "# plot the new sampling distribution and the old one, side by side, transparent and with different colors\n",
    "plt.hist(p_samples, bins=20, alpha=0.5, color='blue')\n",
    "plt.hist(p_samples_new, bins=20, alpha=0.5, color='red')\n",
    "plt.xlabel('Proportion')\n",
    "plt.ylabel('Frequency')\n",
    "plt.title('Sampling Distribution')\n",
    "# draw a line where the decision boundary is\n",
    "plt.axvline(np.percentile(p_samples, 5), color='red')\n",
    "plt.show()"
   ]
  },
  {
   "cell_type": "code",
   "execution_count": 6,
   "metadata": {},
   "outputs": [
    {
     "name": "stdout",
     "output_type": "stream",
     "text": [
      "type II error: 0.0\n"
     ]
    }
   ],
   "source": [
    "# type II error\n",
    "# probability of accepting the null hypothesis when it is false\n",
    "\n",
    "# convert the list to a numpy array\n",
    "p_samples_new = np.array(p_samples_new)\n",
    "# count the number of samples that are greater than the decision boundary in the new sampling distribution\n",
    "count = len(p_samples_new[p_samples_new > np.percentile(p_samples, 5)])\n",
    "type_ii_error = count/n_samples\n",
    "print('type II error:', type_ii_error)"
   ]
  },
  {
   "cell_type": "code",
   "execution_count": 7,
   "metadata": {},
   "outputs": [],
   "source": [
    "# Conclusion\n",
    "\n",
    "# The sample proportion is in the region of rejection, so we reject the null hypothesis.\n",
    "# The sample is not representative of the population."
   ]
  },
  {
   "cell_type": "markdown",
   "metadata": {},
   "source": [
    "***"
   ]
  },
  {
   "cell_type": "code",
   "execution_count": 8,
   "metadata": {},
   "outputs": [
    {
     "data": {
      "text/html": [
       "<div>\n",
       "<style scoped>\n",
       "    .dataframe tbody tr th:only-of-type {\n",
       "        vertical-align: middle;\n",
       "    }\n",
       "\n",
       "    .dataframe tbody tr th {\n",
       "        vertical-align: top;\n",
       "    }\n",
       "\n",
       "    .dataframe thead th {\n",
       "        text-align: right;\n",
       "    }\n",
       "</style>\n",
       "<table border=\"1\" class=\"dataframe\">\n",
       "  <thead>\n",
       "    <tr style=\"text-align: right;\">\n",
       "      <th></th>\n",
       "      <th>Birth Weight</th>\n",
       "      <th>Gestational Days</th>\n",
       "      <th>Maternal Age</th>\n",
       "      <th>Maternal Height</th>\n",
       "      <th>Maternal Pregnancy Weight</th>\n",
       "      <th>Maternal Smoker</th>\n",
       "    </tr>\n",
       "  </thead>\n",
       "  <tbody>\n",
       "    <tr>\n",
       "      <th>0</th>\n",
       "      <td>120</td>\n",
       "      <td>284</td>\n",
       "      <td>27</td>\n",
       "      <td>62</td>\n",
       "      <td>100</td>\n",
       "      <td>False</td>\n",
       "    </tr>\n",
       "    <tr>\n",
       "      <th>1</th>\n",
       "      <td>113</td>\n",
       "      <td>282</td>\n",
       "      <td>33</td>\n",
       "      <td>64</td>\n",
       "      <td>135</td>\n",
       "      <td>False</td>\n",
       "    </tr>\n",
       "    <tr>\n",
       "      <th>2</th>\n",
       "      <td>128</td>\n",
       "      <td>279</td>\n",
       "      <td>28</td>\n",
       "      <td>64</td>\n",
       "      <td>115</td>\n",
       "      <td>True</td>\n",
       "    </tr>\n",
       "    <tr>\n",
       "      <th>3</th>\n",
       "      <td>108</td>\n",
       "      <td>282</td>\n",
       "      <td>23</td>\n",
       "      <td>67</td>\n",
       "      <td>125</td>\n",
       "      <td>True</td>\n",
       "    </tr>\n",
       "    <tr>\n",
       "      <th>4</th>\n",
       "      <td>136</td>\n",
       "      <td>286</td>\n",
       "      <td>25</td>\n",
       "      <td>62</td>\n",
       "      <td>93</td>\n",
       "      <td>False</td>\n",
       "    </tr>\n",
       "  </tbody>\n",
       "</table>\n",
       "</div>"
      ],
      "text/plain": [
       "   Birth Weight  Gestational Days  Maternal Age  Maternal Height  \\\n",
       "0           120               284            27               62   \n",
       "1           113               282            33               64   \n",
       "2           128               279            28               64   \n",
       "3           108               282            23               67   \n",
       "4           136               286            25               62   \n",
       "\n",
       "   Maternal Pregnancy Weight  Maternal Smoker  \n",
       "0                        100            False  \n",
       "1                        135            False  \n",
       "2                        115             True  \n",
       "3                        125             True  \n",
       "4                         93            False  "
      ]
     },
     "execution_count": 8,
     "metadata": {},
     "output_type": "execute_result"
    }
   ],
   "source": [
    "# The Kaiser Study from the 1960s collected data on birth weights and the smoking status of mothers. \n",
    "# The key question posed was whether babies born to smoking mothers have lower average birth weights. \n",
    "# This was compared to whether babies from both smoking and non-smoking mothers have the same average birth weights. \n",
    "# The null hypothesis (H0) proposed that they are from the \"same\" population distribution. \n",
    "# The alternative hypothesis (H1) suggested that babies from smoking mothers have a lower average birth weight.\n",
    "\n",
    "# Data is in file baby.csv, import data and print the first 5 rows\n",
    "import pandas as pd \n",
    "baby = pd.read_csv('baby.csv')\n",
    "baby.head()"
   ]
  },
  {
   "cell_type": "code",
   "execution_count": 9,
   "metadata": {},
   "outputs": [
    {
     "data": {
      "text/html": [
       "<div>\n",
       "<style scoped>\n",
       "    .dataframe tbody tr th:only-of-type {\n",
       "        vertical-align: middle;\n",
       "    }\n",
       "\n",
       "    .dataframe tbody tr th {\n",
       "        vertical-align: top;\n",
       "    }\n",
       "\n",
       "    .dataframe thead th {\n",
       "        text-align: right;\n",
       "    }\n",
       "</style>\n",
       "<table border=\"1\" class=\"dataframe\">\n",
       "  <thead>\n",
       "    <tr style=\"text-align: right;\">\n",
       "      <th></th>\n",
       "      <th>Weight</th>\n",
       "      <th>Smoke</th>\n",
       "    </tr>\n",
       "  </thead>\n",
       "  <tbody>\n",
       "    <tr>\n",
       "      <th>0</th>\n",
       "      <td>120</td>\n",
       "      <td>False</td>\n",
       "    </tr>\n",
       "    <tr>\n",
       "      <th>1</th>\n",
       "      <td>113</td>\n",
       "      <td>False</td>\n",
       "    </tr>\n",
       "    <tr>\n",
       "      <th>2</th>\n",
       "      <td>128</td>\n",
       "      <td>True</td>\n",
       "    </tr>\n",
       "    <tr>\n",
       "      <th>3</th>\n",
       "      <td>108</td>\n",
       "      <td>True</td>\n",
       "    </tr>\n",
       "    <tr>\n",
       "      <th>4</th>\n",
       "      <td>136</td>\n",
       "      <td>False</td>\n",
       "    </tr>\n",
       "  </tbody>\n",
       "</table>\n",
       "</div>"
      ],
      "text/plain": [
       "   Weight  Smoke\n",
       "0     120  False\n",
       "1     113  False\n",
       "2     128   True\n",
       "3     108   True\n",
       "4     136  False"
      ]
     },
     "execution_count": 9,
     "metadata": {},
     "output_type": "execute_result"
    }
   ],
   "source": [
    "# Filter data, only weight and smoke columns\n",
    "baby = baby[['Birth Weight', 'Maternal Smoker']]\n",
    "# Rename columns to Weight and Smoke\n",
    "baby.columns = ['Weight', 'Smoke']\n",
    "# Print the first 5 rows\n",
    "baby.head()"
   ]
  },
  {
   "cell_type": "code",
   "execution_count": 10,
   "metadata": {},
   "outputs": [],
   "source": [
    "# Null Hypothesis: The babies from smoking mothers have the same average birth weights as babies from non-smoking mothers.\n",
    "# In other words, the difference of the means of wieghts is zero.\n",
    "# Alternative Hypothesis: The babies from smoking mothers have lower average birth weights than babies from non-smoking mothers.\n",
    "\n",
    "# Population: all babies from smoking and non-smoking mothers\n",
    "# Mean of the population\n",
    "mean = baby['Weight'].mean()\n",
    "# Standard deviation of the population\n",
    "std = baby['Weight'].std()\n",
    "\n",
    "# Sample's difference of the means of weights\n",
    "sample_diff_of_means = baby[baby['Smoke'] == True]['Weight'].mean() - baby[baby['Smoke'] == False]['Weight'].mean()\n",
    "\n",
    "# Sampling distribution of the difference of the means of weights\n",
    "# Mean of the sampling distribution\n",
    "mean_sampling = 0\n",
    "# Standard Error of the sampling distribution, considering N1 and N2\n",
    "# Count of the number of babies from smoking mothers\n",
    "n1 = baby[baby['Smoke'] == True].count()[0]\n",
    "# Count of the number of babies from non-smoking mothers\n",
    "n2 = baby[baby['Smoke'] == False].count()[0]\n",
    "# Standard Error of the baby's weight from smoking mothers\n",
    "std1 = baby[baby['Smoke'] == True]['Weight'].std()\n",
    "# Standard Error of the baby's weight from non-smoking mothers\n",
    "std2 = baby[baby['Smoke'] == False]['Weight'].std()\n",
    "# Standard Error of the sampling distribution\n",
    "std_sampling = math.sqrt((std1**2/n1) + (std2**2/n2))"
   ]
  },
  {
   "cell_type": "markdown",
   "metadata": {},
   "source": [
    "### [CHECK] Slide 9 week 7, apparently this can be a student's t distribution not a normal distribution"
   ]
  },
  {
   "cell_type": "code",
   "execution_count": 19,
   "metadata": {},
   "outputs": [
    {
     "data": {
      "image/png": "[encoded data removed]",
      "text/plain": [
       "<Figure size 432x288 with 1 Axes>"
      ]
     },
     "metadata": {
      "needs_background": "light"
     },
     "output_type": "display_data"
    }
   ],
   "source": [
    "# Simulation of the sampling distribution with the null hypothesis (We are shuffling the data to indicate that there is no difference between the means of weights)\n",
    "# 1000 samples of size 1000\n",
    "\n",
    "# number of samples\n",
    "n_samples = 1000\n",
    "\n",
    "# differences of the means of weights of the samples\n",
    "means_sampling = []\n",
    "\n",
    "for i in range(n_samples):\n",
    "    # sample\n",
    "    sample = baby.sample(1000)\n",
    "    #shuffle the sample\n",
    "    sample['Smoke'] = sample['Smoke'].sample(frac=1).reset_index(drop=True)\n",
    "    # append difference of the means of weights\n",
    "    means_sampling.append(sample[sample['Smoke'] == True]['Weight'].mean() - sample[sample['Smoke'] == False]['Weight'].mean())\n",
    "\n",
    "# plot the sampling distribution, add title and labels\n",
    "plt.hist(means_sampling, bins=20)\n",
    "plt.xlabel('Difference of the means of weights')\n",
    "plt.ylabel('Frequency')\n",
    "plt.title('Sampling Distribution')\n",
    "plt.show()"
   ]
  },
  {
   "cell_type": "code",
   "execution_count": 20,
   "metadata": {},
   "outputs": [
    {
     "name": "stdout",
     "output_type": "stream",
     "text": [
      "Theoretical Mean:  0\n",
      "Simulation Mean:  0.03771258219031878\n",
      "Theoretical Standard Deviation:  1.074152989360853\n",
      "Simulation Standard Deviation:  1.2425005143727643\n"
     ]
    }
   ],
   "source": [
    "# Statistics of the sampling distribution simulation\n",
    "# Mean of the sampling distribution\n",
    "mean_sampling_simu = np.mean(means_sampling)\n",
    "# Standard deviation of the sampling distribution\n",
    "std_sampling_simu = np.std(means_sampling)\n",
    "\n",
    "# compare the statistics of the sampling distribution simulation with the statistics of the theoretical sampling distribution\n",
    "print('Theoretical Mean: ', mean_sampling)\n",
    "print('Simulation Mean: ', mean_sampling_simu)\n",
    "print('Theoretical Standard Deviation: ', std_sampling)\n",
    "print('Simulation Standard Deviation: ', std_sampling_simu)"
   ]
  },
  {
   "cell_type": "code",
   "execution_count": 21,
   "metadata": {},
   "outputs": [
    {
     "data": {
      "text/plain": [
       "<matplotlib.lines.Line2D at 0x29dbcb49f90>"
      ]
     },
     "execution_count": 21,
     "metadata": {},
     "output_type": "execute_result"
    },
    {
     "data": {
      "image/png": "[encoded data removed]",
      "text/plain": [
       "<Figure size 432x288 with 1 Axes>"
      ]
     },
     "metadata": {
      "needs_background": "light"
     },
     "output_type": "display_data"
    }
   ],
   "source": [
    "# Draw a vertical line where 5% and 95% of the distribution is\n",
    "# Draw a vertical line where the sample proportion is\n",
    "plt.hist(means_sampling, bins=20)\n",
    "plt.xlabel('Difference of the means of weights')\n",
    "plt.ylabel('Frequency')\n",
    "plt.title('Sampling Distribution')\n",
    "plt.axvline(np.percentile(means_sampling, 5), color='red')\n",
    "plt.axvline(sample_diff_of_means, color='green')\n"
   ]
  },
  {
   "cell_type": "code",
   "execution_count": 22,
   "metadata": {},
   "outputs": [
    {
     "name": "stdout",
     "output_type": "stream",
     "text": [
      "p-value: 0.0\n"
     ]
    }
   ],
   "source": [
    "# p-value\n",
    "# proportion of the sampling distribution that is smaller than the sample proportion\n",
    "# count the number of samples that are smaller than the sample proportion\n",
    "\n",
    "# convert the list to a numpy array\n",
    "means_sampling = np.array(means_sampling)\n",
    "count = len(means_sampling[means_sampling < sample_diff_of_means])\n",
    "p_value = count/n_samples\n",
    "print('p-value:', p_value)"
   ]
  },
  {
   "cell_type": "markdown",
   "metadata": {},
   "source": [
    "## method 1: Considering non-parametric distribution (shifting the mean)"
   ]
  },
  {
   "cell_type": "code",
   "execution_count": 25,
   "metadata": {},
   "outputs": [
    {
     "data": {
      "image/png": "[encoded data removed]",
      "text/plain": [
       "<Figure size 432x288 with 1 Axes>"
      ]
     },
     "metadata": {
      "needs_background": "light"
     },
     "output_type": "display_data"
    }
   ],
   "source": [
    "# Type II error\n",
    "# probability of accepting the null hypothesis when it is false\n",
    "\n",
    "# the new population distribution has a difference of the means of weights of the sample\n",
    "mean_new = sample_diff_of_means\n",
    "\n",
    "# simulate again the sampling distribution\n",
    "\n",
    "# number of samples\n",
    "n_samples = 1000\n",
    "\n",
    "# differences of the means of weights of the samples\n",
    "means_sampling_new = []\n",
    "\n",
    "for i in range(n_samples):\n",
    "    # sample\n",
    "    sample = baby.sample(1000)\n",
    "    #shuffle the sample\n",
    "    sample['Smoke'] = sample['Smoke'].sample(frac=1).reset_index(drop=True)\n",
    "    # the new value is shifted by the new mean\n",
    "    temp = (sample[sample['Smoke'] == True]['Weight'].mean() - sample[sample['Smoke'] == False]['Weight'].mean()) + mean_new\n",
    "    # append difference of the means of weights\n",
    "    means_sampling_new.append(temp)\n",
    "\n",
    "# plot the new sampling distribution and the old one, side by side, transparent and with different colors\n",
    "plt.hist(means_sampling, bins=20, alpha=0.5, color='blue')\n",
    "plt.hist(means_sampling_new, bins=20, alpha=0.5, color='red')\n",
    "plt.xlabel('Difference of the means of weights')\n",
    "plt.ylabel('Frequency')\n",
    "plt.title('Sampling Distribution')\n",
    "# draw a line where the decision boundary is\n",
    "plt.axvline(np.percentile(means_sampling, 5), color='red')\n",
    "plt.show()\n"
   ]
  },
  {
   "cell_type": "markdown",
   "metadata": {},
   "source": [
    "## method 2: Considering a parametric distribution"
   ]
  },
  {
   "cell_type": "code",
   "execution_count": 26,
   "metadata": {},
   "outputs": [],
   "source": [
    "# # Type II error\n",
    "# # probability of accepting the null hypothesis when it is false\n",
    "\n",
    "# # the new population distribution has a difference of the means of weights of the sample\n",
    "# mean_new = sample_diff_of_means\n",
    "\n",
    "# # simulate again the sampling distribution\n",
    "\n",
    "# # number of samples\n",
    "# n_samples = 1000\n",
    "\n",
    "# # differences of the means of weights of the samples\n",
    "# means_sampling_new = []\n",
    "\n",
    "# for i in range(n_samples):\n",
    "#     # sample\n",
    "#     sample = np.random.normal(mean_new, std_sampling * math.sqrt(1000), 1000)\n",
    "#     # append difference of the means of weights\n",
    "#     means_sampling_new.append(sample.mean())\n",
    "\n",
    "# # plot the new sampling distribution and the old one, side by side, transparent and with different colors\n",
    "# plt.hist(means_sampling, bins=20, alpha=0.5, color='blue')\n",
    "# plt.hist(means_sampling_new, bins=20, alpha=0.5, color='red')\n",
    "# plt.xlabel('Difference of the means of weights')\n",
    "# plt.ylabel('Frequency')\n",
    "# plt.title('Sampling Distribution')\n",
    "# # draw a line where the decision boundary is\n",
    "# plt.axvline(np.percentile(means_sampling, 5), color='red')\n",
    "# plt.show()\n"
   ]
  },
  {
   "cell_type": "code",
   "execution_count": 27,
   "metadata": {},
   "outputs": [
    {
     "name": "stdout",
     "output_type": "stream",
     "text": [
      "type II error: 0.0\n"
     ]
    }
   ],
   "source": [
    "# type II error\n",
    "# probability of accepting the null hypothesis when it is false\n",
    "\n",
    "# convert the list to a numpy array\n",
    "means_sampling_new = np.array(means_sampling_new)\n",
    "# count the number of samples that are greater than the decision boundary in the new sampling distribution\n",
    "count = len(means_sampling_new[means_sampling_new > np.percentile(means_sampling, 5)])\n",
    "type_ii_error = count/n_samples\n",
    "print('type II error:', type_ii_error)"
   ]
  },
  {
   "cell_type": "code",
   "execution_count": null,
   "metadata": {},
   "outputs": [],
   "source": [
    "# Conclusion\n",
    "\n",
    "# The sample difference of the means of weights is in the region of rejection, so we reject the null hypothesis."
   ]
  }
 ],
 "metadata": {
  "kernelspec": {
   "display_name": "comp680",
   "language": "python",
   "name": "python3"
  },
  "language_info": {
   "codemirror_mode": {
    "name": "ipython",
    "version": 3
   },
   "file_extension": ".py",
   "mimetype": "text/x-python",
   "name": "python",
   "nbconvert_exporter": "python",
   "pygments_lexer": "ipython3",
   "version": "3.11.5"
  }
 },
 "nbformat": 4,
 "nbformat_minor": 2
}
